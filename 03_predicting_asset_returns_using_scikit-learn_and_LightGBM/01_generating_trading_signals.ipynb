{
 "cells": [
  {
   "cell_type": "markdown",
   "metadata": {},
   "source": [
    "# Generating trading signals with Linear Regression and Gradient Boosting"
   ]
  },
  {
   "cell_type": "markdown",
   "metadata": {},
   "source": [
    "This notebook illustrates the following steps:\n",
    "1. **Cross-validation in the time-series context** poses the additional challenge that train and validation sets need to respect the temporal order of the data so that we do not inadvertently train the model on data 'from the future' to predict the past and introduce lookahead bias. Scikit-learn's built-in [TimeSeriesSplit](https://scikit-learn.org/stable/modules/generated/sklearn.model_selection.TimeSeriesSplit.html) aims to accomplish this but does not work for this case where we have multiple time series, one for each ticker. We could solve this by manually subsetting the data for the appropriate train and validation periods. Alternatively, we can create a custom time-series splitter compatible with the scikit-learn Kfold interface (see resources). Here is an [example](https://github.com/stefan-jansen/machine-learning-for-trading/blob/master/utils.py) that illustrates how to do so for this case. This allows us to specify fixed `train_length` and `test_length` parameters, as well as a `lookahead` value that defines the forecast horizon and ensures an appropriate gap between the training and validation set.\n",
    "2. To establish a **baseline**, train a [LinearRegression](https://scikit-learn.org/stable/modules/generated/sklearn.linear_model.LinearRegression.html) using five years of training data to predict rolling windows of three months of returns for the years 2013-2016. Evaluate the results by computing the information coefficient (IC) as the Spearman rank correlation between the predictions and the actual returns, averaged per day.\n",
    "3. Next, we'll use **regularized regression** models that include a penalty term to shrink the coefficients and limit the risk of overfitting. Cross-validate a range of `alpha` penalty values for [Lasso](https://scikit-learn.org/stable/modules/generated/sklearn.linear_model.Lasso.html) and [Ridge](https://scikit-learn.org/stable/modules/generated/sklearn.linear_model.Ridge.html#sklearn.linear_model.Ridge) using the same training and validation periods as for the linear regression baseline and compare their performance.\n",
    "4. Now, we'll investigate if a more complex **gradient boosting** model is capable of improving the result. \n",
    "    - We'll use the LightGBM implementation because it often [outperforms](https://lightgbm.readthedocs.io/en/latest/Experiments.html) the alternative [XGBoost](https://xgboost.readthedocs.io/en/latest/) and [CatBoost](https://catboost.ai/) libraries, especially in terms of runtime and memory footprint. There is also a recent scikit-learn [HistGradientBoostingRegressor](https://scikit-learn.org/stable/modules/generated/sklearn.ensemble.HistGradientBoostingRegressor.html#sklearn.ensemble.HistGradientBoostingRegressor) inspired by LightGBM. \n",
    "    - You need to define and [tune](https://lightgbm.readthedocs.io/en/latest/Parameters-Tuning.html) several **hyperparameters** to define the model's complexity as well as constraints on the learning process (see [docs](https://lightgbm.readthedocs.io/en/latest/Parameters.html) for the full list). The goal is to adjust the model's capacity to the data while limiting the risk of overfitting so that the model learns the signal rather than the noise in the data and generalizes better to out-of-sample data. In other words, we aim to identify the most promising model settings based on an unbiased estimate of the generalization error, and then apply these settings to generate out-of-sample predictions.\n",
    "    - The **most important parameters** define the *number of iterations* or trees, and the *size of each tree*. LightGBM allows you to optimize the number of iterations by training a model for a certain number of iterations, then evaluating its performance before continuing to train the model. LightGBM permits [leaf-wise tree growth](https://lightgbm.readthedocs.io/en/latest/Features.html#leaf-wise-best-first-tree-growth) and let's you limit the size of the tree by setting the number of leaf nodes or by limiting the depth of the tree. A useful combination targets a certain number of leaves while constraining the minimum number of samples per leaf node to avoid excessive tree imbalances as well as noisy estimates due to leaf nodes with few samples. The default value of 32 of the number of leaves is a good starting point, but the min. number of data points per leaves should be significantly higher than the default of 20 - with 1m observations and 100 leave nodes, each leaf would on average contain 10K samples. \n",
    "    - A lower learning rate can help boost accuracy but requires more iterations and, thus, extends training time. See also LightGBM's [guidance](https://lightgbm.readthedocs.io/en/latest/Parameters-Tuning.html) on parameter tuning.\n",
    "    - Finally, the parameter `feature_frac` let's you control the amount of randomization while building each tree.\n",
    "5. To **evaluate the model performance**, compare the cross-validation IC for different hyperparameter settings, computed again as the average of the Spearman rank correlation of the model predictions for each day with the actual returns. Identify the best-performing 5-10 models over a number of recent quarters, and check whether averaging their predictions further improves the result. In addition, use Alphalens to compute a summary tearsheet and inspect the spread between the botton and the top quintile of the predictions.\n",
    "6. Generate out-of-sample predictions for 2014-2016 using your preferred models (which may change for every quarter), and possibly average the result if you found this to yield more stable results. Repeat your Alphalens analysis for these signals."
   ]
  },
  {
   "cell_type": "markdown",
   "metadata": {},
   "source": [
    "> If you have a GPU, you can install the LightGBM GPU version instead of the CPU version to get a [decent speedup](https://lightgbm.readthedocs.io/en/latest/GPU-Performance.html). To accomplish this, run\n",
    "```bash\n",
    "conda remove -n liveproject lightgbm -y\n",
    "pip install lightgbm --install-option=--gpu\n",
    "```\n",
    "You will also need to adapt the LightGBM parameter settings below to indicate that you'll be using the `device` `GPU`. A smaller bin size like 63 tends to perform better than the default 255."
   ]
  },
  {
   "cell_type": "markdown",
   "metadata": {},
   "source": [
    "## Imports"
   ]
  },
  {
   "cell_type": "code",
   "execution_count": 1,
   "metadata": {
    "ExecuteTime": {
     "end_time": "2020-07-14T18:18:37.605662Z",
     "start_time": "2020-07-14T18:18:37.603120Z"
    }
   },
   "outputs": [],
   "source": [
    "import warnings\n",
    "warnings.filterwarnings('ignore')"
   ]
  },
  {
   "cell_type": "code",
   "execution_count": 2,
   "metadata": {
    "ExecuteTime": {
     "end_time": "2020-07-14T18:18:38.253938Z",
     "start_time": "2020-07-14T18:18:37.609476Z"
    },
    "scrolled": true
   },
   "outputs": [],
   "source": [
    "%matplotlib inline\n",
    "\n",
    "from pathlib import Path\n",
    "import sys, os\n",
    "from time import time\n",
    "from collections import defaultdict\n",
    "from itertools import product\n",
    "\n",
    "import numpy as np\n",
    "import pandas as pd\n",
    "import statsmodels.api as sm\n",
    "\n",
    "import lightgbm as lgb\n",
    "\n",
    "from sklearn.linear_model import LinearRegression, Ridge, Lasso\n",
    "from sklearn.preprocessing import MinMaxScaler\n",
    "\n",
    "from scipy.stats import spearmanr\n",
    "\n",
    "from alphalens.tears import (create_summary_tear_sheet,\n",
    "                             create_full_tear_sheet)\n",
    "\n",
    "from alphalens.utils import get_clean_factor_and_forward_returns\n",
    "\n",
    "import matplotlib.pyplot as plt\n",
    "import seaborn as sns"
   ]
  },
  {
   "cell_type": "markdown",
   "metadata": {},
   "source": [
    "## Settings"
   ]
  },
  {
   "cell_type": "code",
   "execution_count": 3,
   "metadata": {
    "ExecuteTime": {
     "end_time": "2020-07-14T18:18:38.256821Z",
     "start_time": "2020-07-14T18:18:38.255030Z"
    }
   },
   "outputs": [],
   "source": [
    "sns.set_style('whitegrid')"
   ]
  },
  {
   "cell_type": "code",
   "execution_count": 4,
   "metadata": {
    "ExecuteTime": {
     "end_time": "2020-07-14T18:18:38.275287Z",
     "start_time": "2020-07-14T18:18:38.258488Z"
    },
    "scrolled": true
   },
   "outputs": [],
   "source": [
    "np.random.seed(42)"
   ]
  },
  {
   "cell_type": "code",
   "execution_count": 5,
   "metadata": {
    "ExecuteTime": {
     "end_time": "2020-07-14T18:18:38.287002Z",
     "start_time": "2020-07-14T18:18:38.280413Z"
    }
   },
   "outputs": [],
   "source": [
    "idx = pd.IndexSlice"
   ]
  },
  {
   "cell_type": "code",
   "execution_count": 6,
   "metadata": {
    "ExecuteTime": {
     "end_time": "2020-07-14T18:18:38.298982Z",
     "start_time": "2020-07-14T18:18:38.292440Z"
    },
    "scrolled": true
   },
   "outputs": [],
   "source": [
    "YEAR = 252 # days\n",
    "MONTH = 21 # days"
   ]
  },
  {
   "cell_type": "code",
   "execution_count": 7,
   "metadata": {
    "ExecuteTime": {
     "end_time": "2020-07-14T18:18:38.309258Z",
     "start_time": "2020-07-14T18:18:38.302615Z"
    }
   },
   "outputs": [],
   "source": [
    "def format_time(t):\n",
    "    \"\"\"Return a formatted time string 'HH:MM:SS\n",
    "    based on a numeric time() value\"\"\"\n",
    "    m, s = divmod(t, 60)\n",
    "    h, m = divmod(m, 60)\n",
    "    return f'{h:0>2.0f}:{m:0>2.0f}:{s:0>2.0f}'"
   ]
  },
  {
   "cell_type": "markdown",
   "metadata": {},
   "source": [
    "## Get Data"
   ]
  },
  {
   "cell_type": "code",
   "execution_count": 8,
   "metadata": {
    "ExecuteTime": {
     "end_time": "2020-07-14T18:18:38.317691Z",
     "start_time": "2020-07-14T18:18:38.311307Z"
    }
   },
   "outputs": [],
   "source": [
    "DATA_PATH = Path('..', 'data')"
   ]
  },
  {
   "cell_type": "code",
   "execution_count": 9,
   "metadata": {
    "ExecuteTime": {
     "end_time": "2020-07-14T18:18:39.137496Z",
     "start_time": "2020-07-14T18:18:38.320277Z"
    },
    "scrolled": true
   },
   "outputs": [],
   "source": [
    "data = (pd.read_hdf(DATA_PATH / 'stock_prices.h5', 'model_data')\n",
    "        .sort_index())"
   ]
  },
  {
   "cell_type": "code",
   "execution_count": 10,
   "metadata": {
    "ExecuteTime": {
     "end_time": "2020-07-14T18:18:39.269628Z",
     "start_time": "2020-07-14T18:18:39.138620Z"
    }
   },
   "outputs": [
    {
     "name": "stdout",
     "output_type": "stream",
     "text": [
      "<class 'pandas.core.frame.DataFrame'>\n",
      "MultiIndex: 1402295 entries, ('A', Timestamp('2006-01-03 00:00:00')) to ('ZMH', Timestamp('2015-07-02 00:00:00'))\n",
      "Data columns (total 48 columns):\n",
      " #   Column       Non-Null Count    Dtype  \n",
      "---  ------       --------------    -----  \n",
      " 0   ret_01       1401795 non-null  float64\n",
      " 1   ret_03       1400795 non-null  float64\n",
      " 2   ret_05       1399795 non-null  float64\n",
      " 3   ret_10       1397295 non-null  float64\n",
      " 4   ret_21       1391795 non-null  float64\n",
      " 5   ret_42       1381295 non-null  float64\n",
      " 6   ret_63       1370795 non-null  float64\n",
      " 7   ret_126      1339295 non-null  float64\n",
      " 8   ret_252      1276295 non-null  float64\n",
      " 9   ret_fwd      1402295 non-null  float64\n",
      " 10  BB_UP        1392795 non-null  float64\n",
      " 11  BB_LOW       1392795 non-null  float64\n",
      " 12  BB_SQUEEZE   1392795 non-null  float64\n",
      " 13  HT           1370795 non-null  float64\n",
      " 14  SAR          1401795 non-null  float64\n",
      " 15  ADX          1388795 non-null  float64\n",
      " 16  ADXR         1382295 non-null  float64\n",
      " 17  PPO          1389795 non-null  float64\n",
      " 18  AARONOSC     1395295 non-null  float64\n",
      " 19  BOP          1402295 non-null  float64\n",
      " 20  CCI          1395795 non-null  float64\n",
      " 21  MACD         1385795 non-null  float64\n",
      " 22  MACD_SIGNAL  1385795 non-null  float64\n",
      " 23  MACD_HIST    1385795 non-null  float64\n",
      " 24  MFI          1395295 non-null  float64\n",
      " 25  RSI          1395295 non-null  float64\n",
      " 26  STOCHRSI     1387795 non-null  float64\n",
      " 27  STOCH        1393775 non-null  float64\n",
      " 28  ULTOSC       1388295 non-null  float64\n",
      " 29  WILLR        1395795 non-null  float64\n",
      " 30  AD           1402295 non-null  float64\n",
      " 31  ADOSC        1395707 non-null  float64\n",
      " 32  OBV          1402294 non-null  float64\n",
      " 33  ATR          1395295 non-null  float64\n",
      " 34  ALPHA_63     1333088 non-null  float64\n",
      " 35  MARKET_63    1333088 non-null  float64\n",
      " 36  SMB_63       1333088 non-null  float64\n",
      " 37  HML_63       1333088 non-null  float64\n",
      " 38  RMW_63       1333088 non-null  float64\n",
      " 39  CMA_63       1333088 non-null  float64\n",
      " 40  ALPHA_252    1238588 non-null  float64\n",
      " 41  MARKET_252   1238588 non-null  float64\n",
      " 42  SMB_252      1238588 non-null  float64\n",
      " 43  HML_252      1238588 non-null  float64\n",
      " 44  RMW_252      1238588 non-null  float64\n",
      " 45  CMA_252      1238588 non-null  float64\n",
      " 46  month        1402295 non-null  uint64 \n",
      " 47  weekday      1402295 non-null  uint64 \n",
      "dtypes: float64(46), uint64(2)\n",
      "memory usage: 519.1+ MB\n"
     ]
    }
   ],
   "source": [
    "data.info(show_counts=True)"
   ]
  },
  {
   "cell_type": "markdown",
   "metadata": {},
   "source": [
    "To facilitate model formulation, we assign target, features, and categorical variables."
   ]
  },
  {
   "cell_type": "code",
   "execution_count": 11,
   "metadata": {
    "ExecuteTime": {
     "end_time": "2020-07-14T18:18:39.273320Z",
     "start_time": "2020-07-14T18:18:39.270541Z"
    }
   },
   "outputs": [],
   "source": [
    "target = 'ret_fwd'\n",
    "features = data.columns.drop(target)"
   ]
  },
  {
   "cell_type": "code",
   "execution_count": 12,
   "metadata": {
    "ExecuteTime": {
     "end_time": "2020-07-14T18:18:39.283104Z",
     "start_time": "2020-07-14T18:18:39.274213Z"
    }
   },
   "outputs": [],
   "source": [
    "categoricals = ['month', 'weekday']"
   ]
  },
  {
   "cell_type": "markdown",
   "metadata": {},
   "source": [
    "## Custom Time Series Cross-Validation"
   ]
  },
  {
   "cell_type": "code",
   "execution_count": 13,
   "metadata": {
    "ExecuteTime": {
     "end_time": "2020-07-14T18:18:39.292362Z",
     "start_time": "2020-07-14T18:18:39.284047Z"
    }
   },
   "outputs": [],
   "source": [
    "class MultipleTimeSeriesCV:\n",
    "    \"\"\"Generates tuples of train_idx, test_idx pairs\n",
    "    Assumes the MultiIndex contains levels 'symbol' and 'date'\n",
    "    purges overlapping outcomes\"\"\"\n",
    "\n",
    "    def __init__(self,\n",
    "                 n_splits=3,\n",
    "                 train_period_length=126,\n",
    "                 test_period_length=21,\n",
    "                 lookahead=None,\n",
    "                 date_idx='date',\n",
    "                 shuffle=False):\n",
    "        self.n_splits = n_splits\n",
    "        self.lookahead = lookahead\n",
    "        self.test_length = test_period_length\n",
    "        self.train_length = train_period_length\n",
    "        self.shuffle = shuffle\n",
    "        self.date_idx = date_idx\n",
    "\n",
    "    def split(self, X, y=None, groups=None):\n",
    "        unique_dates = X.index.get_level_values(self.date_idx).unique()\n",
    "        days = sorted(unique_dates, reverse=True)\n",
    "        split_idx = []\n",
    "        for i in range(self.n_splits):\n",
    "            test_end_idx = i * self.test_length\n",
    "            test_start_idx = test_end_idx + self.test_length\n",
    "            train_end_idx = test_start_idx + self.lookahead - 1\n",
    "            train_start_idx = train_end_idx + self.train_length + self.lookahead - 1\n",
    "            split_idx.append([train_start_idx, train_end_idx,\n",
    "                              test_start_idx, test_end_idx])\n",
    "\n",
    "        dates = X.reset_index()[[self.date_idx]]\n",
    "        for train_start, train_end, test_start, test_end in split_idx:\n",
    "\n",
    "            train_idx = dates[(dates[self.date_idx] > days[train_start])\n",
    "                              & (dates.date <= days[train_end])].index\n",
    "            test_idx = dates[(dates.date > days[test_start])\n",
    "                             & (dates.date <= days[test_end])].index\n",
    "            if self.shuffle:\n",
    "                np.random.shuffle(list(train_idx))\n",
    "            yield train_idx.to_numpy(), test_idx.to_numpy()\n",
    "\n",
    "    def get_n_splits(self, X, y, groups=None):\n",
    "        return self.n_splits\n"
   ]
  },
  {
   "cell_type": "markdown",
   "metadata": {},
   "source": [
    "## Model Selection: Lookback, lookahead and roll-forward periods"
   ]
  },
  {
   "cell_type": "markdown",
   "metadata": {},
   "source": [
    "We'll use five years of training data to predict the 1-day forward returns for the following three months for all models."
   ]
  },
  {
   "cell_type": "code",
   "execution_count": 14,
   "metadata": {
    "ExecuteTime": {
     "end_time": "2020-07-14T18:18:39.304786Z",
     "start_time": "2020-07-14T18:18:39.293364Z"
    },
    "scrolled": true
   },
   "outputs": [],
   "source": [
    "train_length = 5 * YEAR\n",
    "test_length = 3 * MONTH"
   ]
  },
  {
   "cell_type": "code",
   "execution_count": 15,
   "metadata": {
    "ExecuteTime": {
     "end_time": "2020-07-14T18:18:39.314385Z",
     "start_time": "2020-07-14T18:18:39.305731Z"
    }
   },
   "outputs": [],
   "source": [
    "lookahead = 1"
   ]
  },
  {
   "cell_type": "markdown",
   "metadata": {},
   "source": [
    "We'll create 16 quarters worth of out-of-sample predictions so we can select the past 4 quarters to select a model for a subsequent quarter with three years total of out-of-sample forecasts."
   ]
  },
  {
   "cell_type": "code",
   "execution_count": 16,
   "metadata": {
    "ExecuteTime": {
     "end_time": "2020-07-14T18:18:39.322498Z",
     "start_time": "2020-07-14T18:18:39.315163Z"
    }
   },
   "outputs": [],
   "source": [
    "n_splits = 16"
   ]
  },
  {
   "cell_type": "code",
   "execution_count": 17,
   "metadata": {
    "ExecuteTime": {
     "end_time": "2020-07-14T18:18:39.330627Z",
     "start_time": "2020-07-14T18:18:39.323343Z"
    }
   },
   "outputs": [],
   "source": [
    "cv = MultipleTimeSeriesCV(n_splits=n_splits,\n",
    "                          test_period_length=test_length,\n",
    "                          lookahead=lookahead,\n",
    "                          train_period_length=train_length)"
   ]
  },
  {
   "cell_type": "markdown",
   "metadata": {},
   "source": [
    "Show rolling cross-validation periods - note that the folds move backwards in time:"
   ]
  },
  {
   "cell_type": "code",
   "execution_count": 18,
   "metadata": {
    "ExecuteTime": {
     "end_time": "2020-07-14T18:18:41.149600Z",
     "start_time": "2020-07-14T18:18:39.331503Z"
    }
   },
   "outputs": [
    {
     "name": "stdout",
     "output_type": "stream",
     "text": [
      "Split: 00 | # Train: 2011-11-08 - 2016-09-29 (1,260 days) | Test: 2016-09-30 - 2016-12-29 (63 days)\n",
      "Split: 01 | # Train: 2011-08-11 - 2016-06-30 (1,260 days) | Test: 2016-07-01 - 2016-09-29 (63 days)\n",
      "Split: 02 | # Train: 2011-05-16 - 2016-04-01 (1,260 days) | Test: 2016-04-04 - 2016-06-30 (63 days)\n",
      "Split: 03 | # Train: 2011-02-14 - 2015-12-30 (1,260 days) | Test: 2015-12-31 - 2016-04-01 (63 days)\n",
      "Split: 04 | # Train: 2010-11-17 - 2015-09-30 (1,260 days) | Test: 2015-10-01 - 2015-12-30 (63 days)\n",
      "Split: 05 | # Train: 2010-08-20 - 2015-07-01 (1,260 days) | Test: 2015-07-02 - 2015-09-30 (63 days)\n",
      "Split: 06 | # Train: 2010-05-25 - 2015-04-01 (1,260 days) | Test: 2015-04-02 - 2015-07-01 (63 days)\n",
      "Split: 07 | # Train: 2010-02-25 - 2014-12-30 (1,260 days) | Test: 2014-12-31 - 2015-04-01 (63 days)\n",
      "Split: 08 | # Train: 2009-11-26 - 2014-09-30 (1,260 days) | Test: 2014-10-01 - 2014-12-30 (63 days)\n",
      "Split: 09 | # Train: 2009-08-31 - 2014-07-03 (1,260 days) | Test: 2014-07-04 - 2014-09-30 (63 days)\n",
      "Split: 10 | # Train: 2009-06-03 - 2014-04-07 (1,260 days) | Test: 2014-04-08 - 2014-07-03 (63 days)\n",
      "Split: 11 | # Train: 2009-03-06 - 2014-01-08 (1,260 days) | Test: 2014-01-09 - 2014-04-07 (63 days)\n",
      "Split: 12 | # Train: 2008-12-09 - 2013-10-11 (1,260 days) | Test: 2013-10-14 - 2014-01-08 (63 days)\n",
      "Split: 13 | # Train: 2008-09-11 - 2013-07-16 (1,260 days) | Test: 2013-07-17 - 2013-10-11 (63 days)\n",
      "Split: 14 | # Train: 2008-06-16 - 2013-04-18 (1,260 days) | Test: 2013-04-19 - 2013-07-16 (63 days)\n",
      "Split: 15 | # Train: 2008-03-19 - 2013-01-21 (1,260 days) | Test: 2013-01-22 - 2013-04-18 (63 days)\n"
     ]
    }
   ],
   "source": [
    "for n_split, (train_idx, test_idx) in enumerate(cv.split(X=data)):\n",
    "    train = data.iloc[train_idx]\n",
    "    train_dates = train.index.get_level_values('date')\n",
    "    \n",
    "    test = data.iloc[test_idx]\n",
    "    test_dates = test.index.get_level_values('date')\n",
    "    \n",
    "    train_days = train.groupby(level=\"ticker\").size().value_counts().index[0]\n",
    "    train_start, train_end = train_dates.min().date(), train_dates.max().date()\n",
    "    \n",
    "    test_days = test.groupby(level=\"ticker\").size().value_counts().index[0]\n",
    "    test_start, test_end = test_dates.min().date(), test_dates.max().date()\n",
    "                                                  \n",
    "    print(f'Split: {n_split:02} | # Train: {train_start} - {train_end} ({train_days:5,.0f} days) | '\n",
    "          f'Test: {test_start} - {test_end} ({test_days} days)')"
   ]
  },
  {
   "cell_type": "markdown",
   "metadata": {},
   "source": [
    "## Baseline: Linear Regression"
   ]
  },
  {
   "cell_type": "markdown",
   "metadata": {},
   "source": [
    "### One-hot encoding"
   ]
  },
  {
   "cell_type": "code",
   "execution_count": 19,
   "metadata": {
    "ExecuteTime": {
     "end_time": "2020-07-14T18:18:41.934556Z",
     "start_time": "2020-07-14T18:18:41.150473Z"
    }
   },
   "outputs": [],
   "source": [
    "df = (pd.get_dummies(data, columns=categoricals, drop_first=True)\n",
    "      .dropna()\n",
    "      .sort_index())\n",
    "\n",
    "X = df.drop(target, axis=1)\n",
    "y = df[target]"
   ]
  },
  {
   "cell_type": "markdown",
   "metadata": {},
   "source": [
    "### Run cross-validation"
   ]
  },
  {
   "cell_type": "markdown",
   "metadata": {},
   "source": [
    "Instantiate a `LinearRegression` object"
   ]
  },
  {
   "cell_type": "code",
   "execution_count": 20,
   "metadata": {
    "ExecuteTime": {
     "end_time": "2020-07-14T18:18:41.937201Z",
     "start_time": "2020-07-14T18:18:41.935505Z"
    },
    "scrolled": true
   },
   "outputs": [],
   "source": [
    "lr = LinearRegression()"
   ]
  },
  {
   "cell_type": "markdown",
   "metadata": {},
   "source": [
    "Train and predict for each fold, capturing the predictions."
   ]
  },
  {
   "cell_type": "code",
   "execution_count": 21,
   "metadata": {
    "ExecuteTime": {
     "end_time": "2020-07-14T18:19:09.570642Z",
     "start_time": "2020-07-14T18:18:41.938091Z"
    }
   },
   "outputs": [
    {
     "name": "stdout",
     "output_type": "stream",
     "text": [
      "CPU times: user 2min 27s, sys: 34.2 s, total: 3min 1s\n",
      "Wall time: 33.3 s\n"
     ]
    }
   ],
   "source": [
    "%%time\n",
    "lr_preds = []\n",
    "for i, (train_idx, test_idx) in enumerate(cv.split(X=X)):\n",
    "    X_train, y_train = X.iloc[train_idx], y.iloc[train_idx]\n",
    "    X_test, y_test = X.iloc[test_idx], y.iloc[test_idx]\n",
    "    lr.fit(X_train, y_train)\n",
    "    y_pred = lr.predict(X_test)\n",
    "    lr_preds.append(y_test.to_frame('y_true').assign(y_pred=y_pred))\n",
    "lr_preds = pd.concat(lr_preds)"
   ]
  },
  {
   "cell_type": "code",
   "execution_count": 22,
   "metadata": {
    "ExecuteTime": {
     "end_time": "2020-07-14T18:19:09.617464Z",
     "start_time": "2020-07-14T18:19:09.588030Z"
    }
   },
   "outputs": [],
   "source": [
    "lr_preds.to_hdf(DATA_PATH / 'predictions.h5', 'linear_regression')"
   ]
  },
  {
   "cell_type": "markdown",
   "metadata": {},
   "source": [
    "### Evaluate Predictions using the Information Coefficient"
   ]
  },
  {
   "cell_type": "markdown",
   "metadata": {},
   "source": [
    "Across all sample days, the IC is around 2.67."
   ]
  },
  {
   "cell_type": "code",
   "execution_count": 23,
   "metadata": {
    "ExecuteTime": {
     "end_time": "2020-07-14T18:19:09.757750Z",
     "start_time": "2020-07-14T18:19:09.619275Z"
    }
   },
   "outputs": [
    {
     "data": {
      "text/plain": [
       "'0.0250 (0.00%)'"
      ]
     },
     "execution_count": 23,
     "metadata": {},
     "output_type": "execute_result"
    }
   ],
   "source": [
    "lr_ic, p = spearmanr(lr_preds.y_true, lr_preds.y_pred)\n",
    "f'{lr_ic:.4f} ({p:.2%})'"
   ]
  },
  {
   "cell_type": "markdown",
   "metadata": {},
   "source": [
    "On a daily basis - which is more relevant because we will be trading on the predictions for a given day - the IC has a mean of 1.1 and a median of 1.03."
   ]
  },
  {
   "cell_type": "code",
   "execution_count": 24,
   "metadata": {
    "ExecuteTime": {
     "end_time": "2020-07-14T18:19:10.453476Z",
     "start_time": "2020-07-14T18:19:09.760654Z"
    }
   },
   "outputs": [],
   "source": [
    "daily_ic_lr = lr_preds.groupby(level='date').apply(lambda x: spearmanr(x.y_true, x.y_pred)[0])"
   ]
  },
  {
   "cell_type": "code",
   "execution_count": 25,
   "metadata": {
    "ExecuteTime": {
     "end_time": "2020-07-14T18:19:10.457100Z",
     "start_time": "2020-07-14T18:19:10.454466Z"
    }
   },
   "outputs": [
    {
     "data": {
      "text/plain": [
       "'Daily IC - Mean: 0.0059 | CV: 24.67'"
      ]
     },
     "execution_count": 25,
     "metadata": {},
     "output_type": "execute_result"
    }
   ],
   "source": [
    "f'Daily IC - Mean: {daily_ic_lr.mean():.4f} | CV: {daily_ic_lr.std()/daily_ic_lr.mean():.2f}'"
   ]
  },
  {
   "cell_type": "code",
   "execution_count": 26,
   "metadata": {
    "ExecuteTime": {
     "end_time": "2020-07-14T18:19:10.602291Z",
     "start_time": "2020-07-14T18:19:10.457891Z"
    }
   },
   "outputs": [
    {
     "data": {
      "image/png": "[encoded data removed]",
      "text/plain": [
       "<Figure size 432x288 with 1 Axes>"
      ]
     },
     "metadata": {},
     "output_type": "display_data"
    }
   ],
   "source": [
    "sns.boxplot(daily_ic_lr)\n",
    "sns.despine();"
   ]
  },
  {
   "cell_type": "markdown",
   "metadata": {},
   "source": [
    "## Regularized Linear Regression"
   ]
  },
  {
   "cell_type": "markdown",
   "metadata": {},
   "source": [
    "We define a range of `alpha` penalty values (see [docs](https://scikit-learn.org/stable/modules/generated/sklearn.linear_model.Ridge.html))"
   ]
  },
  {
   "cell_type": "code",
   "execution_count": 27,
   "metadata": {
    "ExecuteTime": {
     "end_time": "2020-07-14T18:19:10.605464Z",
     "start_time": "2020-07-14T18:19:10.603397Z"
    }
   },
   "outputs": [],
   "source": [
    "ridge_alphas = np.logspace(-5, 15, 21)[::2]"
   ]
  },
  {
   "cell_type": "code",
   "execution_count": 28,
   "metadata": {
    "ExecuteTime": {
     "end_time": "2020-07-14T18:19:10.620698Z",
     "start_time": "2020-07-14T18:19:10.606371Z"
    }
   },
   "outputs": [
    {
     "data": {
      "text/plain": [
       "array([1.e-05, 1.e-03, 1.e-01, 1.e+01, 1.e+03, 1.e+05, 1.e+07, 1.e+09,\n",
       "       1.e+11, 1.e+13, 1.e+15])"
      ]
     },
     "execution_count": 28,
     "metadata": {},
     "output_type": "execute_result"
    }
   ],
   "source": [
    "ridge_alphas"
   ]
  },
  {
   "cell_type": "markdown",
   "metadata": {},
   "source": [
    "### Ridge Regression"
   ]
  },
  {
   "cell_type": "markdown",
   "metadata": {},
   "source": [
    "The hyperparameter `alpha` implies an additional inner for loop that generates predictions for each fold and `alpha` value:"
   ]
  },
  {
   "cell_type": "code",
   "execution_count": 29,
   "metadata": {
    "ExecuteTime": {
     "end_time": "2020-07-14T18:19:51.788260Z",
     "start_time": "2020-07-14T18:19:10.621532Z"
    }
   },
   "outputs": [
    {
     "name": "stdout",
     "output_type": "stream",
     "text": [
      "0 1 2 3 4 5 6 7 8 9 10 11 12 13 14 15 \n",
      "CPU times: user 4min 39s, sys: 11.1 s, total: 4min 50s\n",
      "Wall time: 41.2 s\n"
     ]
    }
   ],
   "source": [
    "%%time\n",
    "ridge_preds = []\n",
    "scaler = MinMaxScaler()\n",
    "for i, (train_idx, test_idx) in enumerate(cv.split(X=X)):\n",
    "    print(f'{i}', end=' ', flush=True)\n",
    "    X_train, y_train = X.iloc[train_idx], y.iloc[train_idx]\n",
    "    X_train = scaler.fit_transform(X_train)\n",
    "    X_test, y_test = X.iloc[test_idx], y.iloc[test_idx]\n",
    "    X_test = scaler.transform(X_test)\n",
    "    cv_predictions = []\n",
    "    for alpha in ridge_alphas:\n",
    "        ridge = Ridge(alpha=alpha)\n",
    "        ridge.fit(X_train, y_train)\n",
    "        y_pred = ridge.predict(X_test)\n",
    "        cv_predictions.append(pd.DataFrame({alpha: y_pred},\n",
    "                                           index=y_test.index))\n",
    "    ridge_preds.append(pd.concat(cv_predictions, axis=1).assign(y_test=y_test))\n",
    "ridge_preds = pd.concat(ridge_preds)\n",
    "print()"
   ]
  },
  {
   "cell_type": "markdown",
   "metadata": {},
   "source": [
    "#### Evaluate Predictions"
   ]
  },
  {
   "cell_type": "code",
   "execution_count": 30,
   "metadata": {
    "ExecuteTime": {
     "end_time": "2020-07-14T18:19:59.444291Z",
     "start_time": "2020-07-14T18:19:51.789421Z"
    }
   },
   "outputs": [],
   "source": [
    "ic_by_day_ridge = {}\n",
    "for alpha in ridge_alphas:\n",
    "    ic_by_day_ridge[alpha] = (ridge_preds.groupby(level='date')\n",
    "                              .apply(lambda x: spearmanr(x[alpha], x.y_test)[0])\n",
    "                              .mean())"
   ]
  },
  {
   "cell_type": "code",
   "execution_count": 31,
   "metadata": {
    "ExecuteTime": {
     "end_time": "2020-07-14T18:19:59.447539Z",
     "start_time": "2020-07-14T18:19:59.445253Z"
    }
   },
   "outputs": [],
   "source": [
    "best_alpha_ridge = pd.Series(ic_by_day_ridge).idxmax()"
   ]
  },
  {
   "cell_type": "code",
   "execution_count": 32,
   "metadata": {
    "ExecuteTime": {
     "end_time": "2020-07-14T18:20:00.173058Z",
     "start_time": "2020-07-14T18:19:59.448379Z"
    }
   },
   "outputs": [],
   "source": [
    "best_ic_by_day_ridge = (ridge_preds.groupby(level='date')\n",
    "                        .apply(lambda x: spearmanr(x[best_alpha_ridge], x.y_test)[0]))"
   ]
  },
  {
   "cell_type": "code",
   "execution_count": 33,
   "metadata": {
    "ExecuteTime": {
     "end_time": "2020-07-14T18:20:00.176354Z",
     "start_time": "2020-07-14T18:20:00.173909Z"
    }
   },
   "outputs": [
    {
     "name": "stdout",
     "output_type": "stream",
     "text": [
      "Daily IC - Mean: 0.0125 | CV: 11.62\n"
     ]
    }
   ],
   "source": [
    "print(f'Daily IC - Mean: {best_ic_by_day_ridge.mean():.4f} | '\n",
    "      f'CV: {best_ic_by_day_ridge.std()/best_ic_by_day_ridge.mean():.2f}')"
   ]
  },
  {
   "cell_type": "code",
   "execution_count": 34,
   "metadata": {
    "ExecuteTime": {
     "end_time": "2020-07-14T18:20:00.766857Z",
     "start_time": "2020-07-14T18:20:00.177164Z"
    }
   },
   "outputs": [
    {
     "data": {
      "image/png": "[encoded data removed]",
      "text/plain": [
       "<Figure size 1008x288 with 1 Axes>"
      ]
     },
     "metadata": {},
     "output_type": "display_data"
    }
   ],
   "source": [
    "ax = pd.Series(ic_by_day_ridge).plot(figsize=(14, 4),\n",
    "                                  logx=True, \n",
    "                                  title='Ridge Regression Cross-Validation Performance')\n",
    "ax.axvline(best_alpha_ridge, c='k', ls='--', lw=1)\n",
    "ax.set_ylabel('Daily IC (Mean)')\n",
    "ax.set_xlabel('Alpha')\n",
    "sns.despine()\n",
    "plt.tight_layout();"
   ]
  },
  {
   "cell_type": "code",
   "execution_count": 35,
   "metadata": {
    "ExecuteTime": {
     "end_time": "2020-07-14T18:20:01.625756Z",
     "start_time": "2020-07-14T18:20:00.767742Z"
    }
   },
   "outputs": [
    {
     "data": {
      "image/png": "[encoded data removed]",
      "text/plain": [
       "<Figure size 720x288 with 2 Axes>"
      ]
     },
     "metadata": {},
     "output_type": "display_data"
    }
   ],
   "source": [
    "fig, axes = plt.subplots(ncols=2, figsize=(10, 4), sharey=True)\n",
    "\n",
    "sns.boxplot(daily_ic_lr, ax=axes[0], orient='v')\n",
    "axes[0].set_title('Linear Regression')\n",
    "\n",
    "ridge_daily_ic = ridge_preds.groupby(level='date').apply(lambda x: spearmanr(x[best_alpha_ridge], x.y_test)[0])\n",
    "sns.boxplot(ridge_daily_ic, ax=axes[1], orient='v')\n",
    "axes[0].set_title('Linear Regression')\n",
    "axes[1].set_title('Ridge Regression')\n",
    "sns.despine()\n",
    "fig.tight_layout();"
   ]
  },
  {
   "cell_type": "markdown",
   "metadata": {},
   "source": [
    "#### Persist results"
   ]
  },
  {
   "cell_type": "code",
   "execution_count": 36,
   "metadata": {
    "ExecuteTime": {
     "end_time": "2020-07-14T18:20:01.637990Z",
     "start_time": "2020-07-14T18:20:01.626874Z"
    }
   },
   "outputs": [],
   "source": [
    "ridge_preds[best_alpha_ridge].to_hdf(DATA_PATH / 'predictions.h5', 'ridge_regression')"
   ]
  },
  {
   "cell_type": "markdown",
   "metadata": {},
   "source": [
    "### Lasso Regression"
   ]
  },
  {
   "cell_type": "code",
   "execution_count": null,
   "metadata": {
    "ExecuteTime": {
     "end_time": "2020-07-13T19:15:34.586147Z",
     "start_time": "2020-07-13T19:15:23.599Z"
    }
   },
   "outputs": [],
   "source": [
    "lasso_alphas = np.logspace(-15, -5, 11)"
   ]
  },
  {
   "cell_type": "code",
   "execution_count": null,
   "metadata": {
    "ExecuteTime": {
     "end_time": "2020-07-13T19:15:34.586754Z",
     "start_time": "2020-07-13T19:15:23.603Z"
    }
   },
   "outputs": [],
   "source": [
    "lasso_preds = []\n",
    "scaler = MinMaxScaler()\n",
    "for i, (train_idx, test_idx) in enumerate(cv.split(X=X)):\n",
    "    print(f'\\nFold {i}')\n",
    "    X_train, y_train = X.iloc[train_idx], y.iloc[train_idx]\n",
    "    X_test, y_test = X.iloc[test_idx], y.iloc[test_idx]\n",
    "    X_train = scaler.fit_transform(X_train)\n",
    "    X_test, y_test = X.iloc[test_idx], y.iloc[test_idx]\n",
    "    X_test = scaler.transform(X_test)    \n",
    "    cv_predictions = []\n",
    "    for alpha in lasso_alphas:\n",
    "        print(f'{alpha:.0e}', end=' ', flush=True)\n",
    "        lasso = Lasso(alpha=alpha)\n",
    "        lasso.fit(X_train, y_train)\n",
    "        y_pred = lasso.predict(X_test)\n",
    "        cv_predictions.append(pd.DataFrame({alpha: y_pred},\n",
    "                                           index=y_test.index))\n",
    "    lasso_preds.append(pd.concat(cv_predictions, axis=1).assign(y_test=y_test))\n",
    "lasso_preds = pd.concat(lasso_preds)"
   ]
  },
  {
   "cell_type": "markdown",
   "metadata": {},
   "source": [
    "#### Evaluate Predictions"
   ]
  },
  {
   "cell_type": "code",
   "execution_count": null,
   "metadata": {
    "ExecuteTime": {
     "end_time": "2020-07-13T19:15:34.587654Z",
     "start_time": "2020-07-13T19:15:23.607Z"
    }
   },
   "outputs": [],
   "source": [
    "ic_by_day_lasso = {}\n",
    "for alpha in lasso_alphas:\n",
    "    ic_by_day_lasso[alpha] = (lasso_preds.groupby(level='date')\n",
    "                              .apply(lambda x: spearmanr(x[alpha], x.y_test)[0]).mean())"
   ]
  },
  {
   "cell_type": "code",
   "execution_count": null,
   "metadata": {
    "ExecuteTime": {
     "end_time": "2020-07-13T19:15:34.588590Z",
     "start_time": "2020-07-13T19:15:23.610Z"
    }
   },
   "outputs": [],
   "source": [
    "pd.Series(ic_by_day_lasso)"
   ]
  },
  {
   "cell_type": "code",
   "execution_count": null,
   "metadata": {
    "ExecuteTime": {
     "end_time": "2020-07-13T19:15:34.589453Z",
     "start_time": "2020-07-13T19:15:23.614Z"
    }
   },
   "outputs": [],
   "source": [
    "ax = pd.Series(ic_by_day_lasso).plot(figsize=(14, 4),\n",
    "                                  logx=True, \n",
    "                                  title='Lasso Regression Cross-Validation Performance')\n",
    "ax.axvline(pd.Series(ic_by_day_lasso).idxmax(), c='k', ls='--', lw=1)\n",
    "ax.set_ylabel('Daily IC (Mean)')\n",
    "ax.set_xlabel('Alpha')\n",
    "sns.despine()\n",
    "plt.tight_layout();"
   ]
  },
  {
   "cell_type": "markdown",
   "metadata": {},
   "source": [
    "## LightGBM Model Tuning"
   ]
  },
  {
   "cell_type": "markdown",
   "metadata": {},
   "source": [
    "### Compute Feature Importance"
   ]
  },
  {
   "cell_type": "code",
   "execution_count": 37,
   "metadata": {
    "ExecuteTime": {
     "end_time": "2020-07-14T18:20:06.236499Z",
     "start_time": "2020-07-14T18:20:06.231431Z"
    }
   },
   "outputs": [],
   "source": [
    "def get_fi(model):\n",
    "    fi = model.feature_importance(importance_type='gain')\n",
    "    return (pd.Series(fi / fi.sum(),\n",
    "                      index=model.feature_name()))"
   ]
  },
  {
   "cell_type": "markdown",
   "metadata": {},
   "source": [
    "### Hyperparameter Options"
   ]
  },
  {
   "cell_type": "markdown",
   "metadata": {},
   "source": [
    "See LightGBM [docs](https://lightgbm.readthedocs.io/en/latest/Parameters.html) for details on the various hyperparameters."
   ]
  },
  {
   "cell_type": "code",
   "execution_count": 38,
   "metadata": {
    "ExecuteTime": {
     "end_time": "2020-07-14T18:20:06.542926Z",
     "start_time": "2020-07-14T18:20:06.539731Z"
    },
    "scrolled": true
   },
   "outputs": [],
   "source": [
    "base_params = dict(boosting='gbdt',\n",
    "                   objective='regression',\n",
    "                   metric='None',\n",
    "#                    device='gpu', # uncomment when using GPU\n",
    "#                    max_bin=63,   # uncomment when using GPU\n",
    "                   verbose=-1)"
   ]
  },
  {
   "cell_type": "markdown",
   "metadata": {},
   "source": [
    "Here are some reasonable hyperparameter choices; feel free to experiment!"
   ]
  },
  {
   "cell_type": "code",
   "execution_count": 39,
   "metadata": {
    "ExecuteTime": {
     "end_time": "2020-07-14T18:20:06.712333Z",
     "start_time": "2020-07-14T18:20:06.707884Z"
    },
    "scrolled": true
   },
   "outputs": [],
   "source": [
    "learning_rate_ops = [.01]\n",
    "max_depths = [5, 6, 7]\n",
    "\n",
    "# we'll set the num_leaves parameter to enable leaf-wise growth\n",
    "num_leaves_opts = [2 ** i for i in max_depths]\n",
    "feature_fraction_opts = [.6, .95]\n",
    "min_data_in_leaf_opts = [250, 750, 1500]"
   ]
  },
  {
   "cell_type": "code",
   "execution_count": 40,
   "metadata": {
    "ExecuteTime": {
     "end_time": "2020-07-14T18:20:06.853468Z",
     "start_time": "2020-07-14T18:20:06.850071Z"
    }
   },
   "outputs": [],
   "source": [
    "param_names = ['learning_rate', \n",
    "               'num_leaves',\n",
    "               'feature_fraction', \n",
    "               'min_data_in_leaf']"
   ]
  },
  {
   "cell_type": "code",
   "execution_count": 41,
   "metadata": {
    "ExecuteTime": {
     "end_time": "2020-07-14T18:20:07.004418Z",
     "start_time": "2020-07-14T18:20:06.999498Z"
    },
    "scrolled": true
   },
   "outputs": [
    {
     "name": "stdout",
     "output_type": "stream",
     "text": [
      "# Parameters: 18\n"
     ]
    }
   ],
   "source": [
    "cv_params = list(product(learning_rate_ops,\n",
    "                         num_leaves_opts,\n",
    "                         feature_fraction_opts,\n",
    "                         min_data_in_leaf_opts))\n",
    "n_params = len(cv_params)\n",
    "print(f'# Parameters: {n_params}')"
   ]
  },
  {
   "cell_type": "code",
   "execution_count": 42,
   "metadata": {
    "ExecuteTime": {
     "end_time": "2020-07-14T18:20:07.173939Z",
     "start_time": "2020-07-14T18:20:07.169745Z"
    }
   },
   "outputs": [],
   "source": [
    "# randomly sample cv param combinations, here: 50%\n",
    "cvp = np.random.choice(list(range(n_params)),\n",
    "                       size=int(n_params / 1),\n",
    "                       replace=False)\n",
    "cv_params_ = [cv_params[i] for i in cvp]"
   ]
  },
  {
   "cell_type": "markdown",
   "metadata": {},
   "source": [
    "To identify the ideal number of iterations across folds, we generate predictions for a range of iterations."
   ]
  },
  {
   "cell_type": "code",
   "execution_count": 43,
   "metadata": {
    "ExecuteTime": {
     "end_time": "2020-07-14T18:20:08.943920Z",
     "start_time": "2020-07-14T18:20:08.938413Z"
    },
    "scrolled": true
   },
   "outputs": [],
   "source": [
    "num_boost_rounds = [10, 25, 50, 75, 100, 150, 200] + list(range(250, 5001, 250))"
   ]
  },
  {
   "cell_type": "markdown",
   "metadata": {},
   "source": [
    "### Run Cross-Validation"
   ]
  },
  {
   "cell_type": "markdown",
   "metadata": {},
   "source": [
    "With this setup, we'll train 18 different models for 16 folds each, using the past five years to predict the next three months."
   ]
  },
  {
   "cell_type": "code",
   "execution_count": 44,
   "metadata": {
    "ExecuteTime": {
     "end_time": "2020-07-14T18:20:09.419316Z",
     "start_time": "2020-07-14T18:20:09.414854Z"
    }
   },
   "outputs": [
    {
     "name": "stdout",
     "output_type": "stream",
     "text": [
      "Train: 1260 | Test: 63 | Folds: 16 | Params:  18\n"
     ]
    }
   ],
   "source": [
    "print(f'Train: {train_length:3.0f} | '\n",
    "      f'Test: {test_length:2.0f} | '\n",
    "      f'Folds: {n_splits:.0f} | '\n",
    "      f'Params: {len(cv_params_):3.0f}')"
   ]
  },
  {
   "cell_type": "code",
   "execution_count": 45,
   "metadata": {
    "ExecuteTime": {
     "end_time": "2020-07-14T18:20:09.677976Z",
     "start_time": "2020-07-14T18:20:09.674917Z"
    }
   },
   "outputs": [],
   "source": [
    "lgb_store = 'lgb_tuning.h5'"
   ]
  },
  {
   "cell_type": "code",
   "execution_count": 46,
   "metadata": {
    "ExecuteTime": {
     "end_time": "2020-07-14T18:20:12.428290Z",
     "start_time": "2020-07-14T18:20:12.422554Z"
    }
   },
   "outputs": [],
   "source": [
    "model_path = Path('models')\n",
    "if not model_path.exists():\n",
    "    model_path.mkdir()"
   ]
  },
  {
   "cell_type": "markdown",
   "metadata": {},
   "source": [
    "Ready to go: for each fold, we'll plot the best iteration and the corresponding avg. daily IC and its coefficient of variation as well as the time per iteration."
   ]
  },
  {
   "cell_type": "code",
   "execution_count": 49,
   "metadata": {
    "ExecuteTime": {
     "end_time": "2020-07-15T02:22:24.865458Z",
     "start_time": "2020-07-14T18:23:06.676063Z"
    }
   },
   "outputs": [
    {
     "name": "stdout",
     "output_type": "stream",
     "text": [
      " 0 |     10 |  1.37% |    9.1 |  16.4\n",
      " 1 |  5,000 | -0.28% |  -50.7 |  47.5\n",
      " 2 |    200 |  1.24% |   15.0 |  47.7\n",
      " 3 |  3,000 |  4.43% |    4.8 |  56.2\n",
      " 4 |     50 |  3.99% |    3.5 | 116.8\n",
      " 5 |    750 |  3.40% |    4.6 | 110.5\n",
      " 6 |    750 |  1.88% |    6.7 |  86.0\n",
      " 7 |    750 |  2.50% |    6.5 |  61.1\n",
      " 8 |  4,750 |  3.37% |    5.2 |  65.3\n",
      " 9 |    100 |  1.40% |    7.0 |  60.6\n",
      "10 |     10 |  1.66% |    6.4 |  59.5\n",
      "11 |  4,250 |  3.52% |    2.9 |  60.3\n",
      "12 |  4,750 |  2.38% |    3.6 |  57.2\n",
      "13 |     10 |  2.25% |    3.3 |  54.2\n",
      "14 |    500 |  3.37% |    3.2 |  54.8\n",
      "15 |  4,000 | -0.92% |  -11.2 |  51.1\n",
      "\n",
      "  0 | 00:16:46 | 00:16:46 |  0.01 |  32 | 60% |  250 |   1.58% |  4000\n",
      " 0 |  3,000 |  1.74% |    8.7 |  52.0\n",
      " 1 |  4,750 | -0.04% | -386.8 |  53.0\n",
      " 2 |    500 |  0.81% |   25.5 |  57.5\n",
      " 3 |  4,250 |  4.11% |    5.1 |  57.1\n",
      " 4 |    750 |  4.06% |    3.6 |  56.2\n",
      " 5 |    750 |  4.06% |    3.5 |  57.3\n",
      " 6 |    750 |  1.64% |    7.4 |  54.9\n",
      " 7 |  2,750 |  2.63% |    5.4 |  54.4\n",
      " 8 |  2,500 |  3.47% |    5.2 |  54.3\n",
      " 9 |    100 |  1.04% |    8.9 |  53.1\n",
      "10 |     10 |  2.04% |    5.5 |  53.9\n",
      "11 |  5,000 |  3.94% |    2.5 |  57.7\n",
      "12 |  5,000 |  2.39% |    3.5 |  54.7\n",
      "13 |     10 |  2.49% |    3.1 |  54.5\n",
      "14 |    100 |  2.61% |    4.4 |  55.1\n",
      "15 |  4,750 | -0.62% |  -16.2 |  54.5\n",
      "\n",
      "  1 | 00:31:26 | 00:14:41 |  0.01 |  32 | 60% |  750 |   1.68% |  3000\n",
      " 0 |  2,750 |  0.87% |   16.7 |  93.5\n",
      " 1 |  5,000 |  0.54% |   25.7 |  96.8\n",
      " 2 |    500 |  1.39% |   15.7 |  96.0\n",
      " 3 |  1,750 |  3.83% |    5.6 |  96.0\n",
      " 4 |    200 |  4.52% |    3.4 |  96.6\n",
      " 5 |    500 |  4.86% |    2.8 |  97.4\n",
      " 6 |    500 |  2.13% |    5.8 | 107.7\n",
      " 7 |  1,500 |  2.96% |    4.7 | 102.1\n",
      " 8 |  5,000 |  3.65% |    4.5 |  99.6\n",
      " 9 |     50 |  1.40% |    6.8 |  97.9\n",
      "10 |    500 |  1.24% |   11.1 | 107.3\n",
      "11 |  2,500 |  3.87% |    2.6 | 111.1\n",
      "12 |  5,000 |  2.50% |    3.4 | 115.5\n",
      "13 |    100 |  1.17% |    7.8 | 113.2\n",
      "14 |    200 |  2.86% |    4.6 | 114.7\n",
      "15 |  4,500 | -0.91% |  -10.6 | 129.3\n",
      "\n",
      "  2 | 00:59:22 | 00:27:55 |  0.01 |  64 | 60% | 1500 |   1.71% |  1000\n",
      " 0 |  1,000 |  0.72% |   21.2 |  72.7\n",
      " 1 |  3,750 |  0.87% |   16.0 |  67.8\n",
      " 2 |     50 |  2.39% |    7.0 |  78.7\n",
      " 3 |  1,750 |  3.61% |    6.0 |  66.0\n",
      " 4 |    500 |  4.36% |    3.4 |  60.1\n",
      " 5 |    100 |  4.71% |    3.1 |  59.8\n",
      " 6 |  1,500 |  0.95% |   12.1 |  59.3\n",
      " 7 |    100 |  2.79% |    6.5 |  60.9\n",
      " 8 |     50 |  4.06% |    5.3 |  80.7\n",
      " 9 |    100 |  2.48% |    3.6 |  71.9\n",
      "10 |     75 |  1.88% |    6.6 |  66.5\n",
      "11 |  4,250 |  3.36% |    3.1 |  70.3\n",
      "12 |  4,250 |  2.38% |    3.4 |  66.8\n",
      "13 |     10 |  1.64% |    4.3 |  67.5\n",
      "14 |    250 |  4.05% |    2.5 |  62.8\n",
      "15 |  4,000 | -0.54% |  -17.1 |  65.2\n",
      "\n",
      "  3 | 01:17:19 | 00:17:57 |  0.01 |  32 | 95% | 1500 |   1.54% |  1750\n",
      " 0 |  1,500 |  1.29% |   12.5 |  53.6\n",
      " 1 |  1,000 |  1.16% |   12.7 |  61.7\n",
      " 2 |    150 |  2.35% |    8.2 |  58.5\n",
      " 3 |  2,000 |  4.18% |    5.1 |  53.4\n",
      " 4 |    250 |  3.57% |    4.0 |  53.1\n",
      " 5 |    500 |  4.88% |    2.9 |  53.2\n",
      " 6 |    500 |  1.37% |    8.1 |  53.3\n",
      " 7 |    750 |  2.79% |    5.7 |  53.9\n",
      " 8 |  5,000 |  3.38% |    5.1 |  53.7\n",
      " 9 |     75 |  3.25% |    2.9 |  60.4\n",
      "10 |     75 |  3.24% |    4.0 |  65.3\n",
      "11 |  5,000 |  3.35% |    3.0 |  55.4\n",
      "12 |  1,750 |  1.86% |    4.5 |  64.2\n",
      "13 |  1,000 |  1.27% |    7.5 |  62.6\n",
      "14 |    200 |  4.32% |    2.1 |  62.7\n",
      "15 |  5,000 | -0.80% |  -12.7 |  56.8\n",
      "\n",
      "  4 | 01:32:41 | 00:15:22 |  0.01 |  32 | 95% |  250 |   1.64% |  1500\n",
      " 0 |     10 |  0.98% |   13.0 | 164.5\n",
      " 1 |  5,000 |  1.02% |   13.9 | 157.7\n",
      " 2 |  4,750 |  1.20% |   16.6 | 150.9\n",
      " 3 |  1,250 |  3.34% |    6.2 | 154.9\n",
      " 4 |    250 |  4.38% |    3.3 | 160.5\n",
      " 5 |     25 |  4.43% |    2.7 | 149.5\n",
      " 6 |     10 |  1.90% |    5.9 | 140.8\n",
      " 7 |    250 |  3.04% |    5.4 | 141.8\n",
      " 8 |  5,000 |  4.29% |    3.8 | 141.9\n",
      " 9 |     50 |  1.49% |    6.5 | 140.9\n",
      "10 |     25 |  2.43% |    4.6 | 142.2\n",
      "11 |  2,250 |  3.53% |    2.7 | 149.2\n",
      "12 |  5,000 |  2.51% |    3.5 | 151.8\n",
      "13 |     50 |  1.47% |    6.1 | 152.6\n",
      "14 |     25 |  3.31% |    4.0 | 161.2\n",
      "15 |  5,000 | -0.63% |  -15.2 | 165.5\n",
      "\n",
      "  5 | 02:13:07 | 00:40:26 |  0.01 | 128 | 60% |  750 |   1.55% |   750\n",
      " 0 |    750 |  0.23% |   62.4 | 165.0\n",
      " 1 |  4,250 |  1.17% |   11.8 | 172.7\n",
      " 2 |    250 |  2.10% |   10.0 | 165.0\n",
      " 3 |  1,750 |  3.28% |    6.3 | 163.2\n",
      " 4 |    200 |  4.84% |    3.2 | 146.8\n",
      " 5 |    250 |  4.42% |    3.3 | 155.9\n",
      " 6 |    250 |  1.75% |    6.5 | 135.7\n",
      " 7 |    200 |  2.95% |    5.8 | 136.7\n",
      " 8 |  5,000 |  4.25% |    3.8 | 138.8\n",
      " 9 |     10 |  0.66% |   12.8 | 137.4\n",
      "10 |    200 |  1.37% |   10.2 | 146.5\n",
      "11 |  1,500 |  4.75% |    2.1 | 170.1\n",
      "12 |  3,500 |  2.49% |    3.4 | 164.0\n",
      "13 |  5,000 |  0.69% |   13.3 | 178.2\n",
      "14 |    100 |  3.08% |    4.0 | 173.5\n",
      "15 |  4,750 | -0.50% |  -19.7 | 183.2\n",
      "\n",
      "  6 | 02:55:21 | 00:42:13 |  0.01 | 128 | 95% |  750 |   1.61% |  1250\n",
      " 0 |  3,500 |  1.34% |    9.6 | 130.4\n",
      " 1 |  5,000 |  1.13% |   11.7 | 124.7\n",
      " 2 |    250 |  2.02% |   10.5 | 132.4\n",
      " 3 |    750 |  3.52% |    6.1 | 132.6\n",
      " 4 |    150 |  4.45% |    3.5 | 127.0\n",
      " 5 |    150 |  4.44% |    3.3 | 129.2\n",
      " 6 |    250 |  2.40% |    4.8 | 117.9\n",
      " 7 |     25 |  2.55% |    6.7 | 118.5\n",
      " 8 |  3,000 |  3.74% |    4.4 | 125.0\n",
      " 9 |     10 | -0.07% | -134.4 | 126.8\n",
      "10 |    500 |  1.26% |   11.0 | 140.8\n",
      "11 |  5,000 |  3.75% |    2.8 | 132.9\n",
      "12 |    500 |  2.21% |    3.8 | 131.8\n",
      "13 |     10 |  1.12% |    6.5 | 129.3\n",
      "14 |     25 |  4.26% |    2.5 | 133.3\n",
      "15 |     10 | -0.68% |  -17.4 | 126.1\n",
      "\n",
      "  7 | 03:29:40 | 00:34:19 |  0.01 | 128 | 95% |  250 |   1.59% |   500\n",
      " 0 |    750 | -0.03% | -449.6 | 100.6\n",
      " 1 |  5,000 |  0.95% |   14.1 |  99.9\n",
      " 2 |    150 |  2.51% |    8.4 |  99.7\n",
      " 3 |  1,500 |  3.21% |    6.5 |  97.7\n",
      " 4 |    250 |  4.80% |    3.1 |  97.2\n",
      " 5 |     75 |  5.69% |    2.4 |  97.6\n",
      " 6 |    250 |  1.50% |    7.9 |  96.6\n",
      " 7 |    200 |  2.84% |    6.1 |  96.7\n",
      " 8 |    100 |  4.67% |    4.5 |  97.7\n",
      " 9 |     75 |  0.10% |   97.1 |  97.4\n",
      "10 |    500 |  0.98% |   13.8 |  97.6\n",
      "11 |  2,750 |  3.95% |    2.6 | 103.7\n",
      "12 |  5,000 |  2.07% |    4.1 | 102.1\n",
      "13 |     10 |  0.63% |   10.2 | 105.7\n",
      "14 |     25 |  4.56% |    2.1 | 104.6\n",
      "15 |  5,000 | -0.38% |  -24.4 | 104.4\n",
      "\n",
      "  8 | 03:56:19 | 00:26:40 |  0.01 |  64 | 95% | 1500 |   1.53% |  1000\n",
      " 0 |  2,250 |  1.48% |   10.1 |  64.4\n",
      " 1 |  5,000 | -0.06% | -207.9 |  63.3\n",
      " 2 |    500 |  0.59% |   34.9 |  62.7\n",
      " 3 |  1,500 |  3.89% |    5.6 |  63.0\n",
      " 4 |  1,000 |  4.61% |    3.3 |  62.0\n",
      " 5 |    750 |  4.01% |    3.4 |  62.8\n",
      " 6 |    500 |  1.96% |    6.3 |  63.3\n",
      " 7 |  1,250 |  2.93% |    5.2 |  63.3\n",
      " 8 |  5,000 |  3.42% |    5.0 |  62.3\n",
      " 9 |    150 |  1.61% |    6.0 |  62.1\n",
      "10 |     50 |  1.34% |    9.3 |  61.6\n",
      "11 |  4,500 |  3.46% |    2.9 |  64.3\n",
      "12 |  5,000 |  2.13% |    3.8 |  62.7\n",
      "13 |     10 |  2.43% |    3.3 |  63.7\n",
      "14 |     50 |  3.09% |    3.5 |  63.6\n",
      "15 |  5,000 | -0.84% |  -11.6 |  63.7\n",
      "\n",
      "  9 | 04:13:09 | 00:16:49 |  0.01 |  32 | 60% | 1500 |   1.60% |  3250\n",
      " 0 |  4,500 |  1.14% |   11.9 |  70.8\n",
      " 1 |  1,750 |  0.88% |   15.7 |  72.5\n",
      " 2 |     25 |  2.07% |    7.0 |  73.1\n",
      " 3 |  1,500 |  3.97% |    5.4 |  75.1\n",
      " 4 |     25 |  4.03% |    3.6 |  74.8\n",
      " 5 |    250 |  4.06% |    3.6 |  75.8\n",
      " 6 |    250 |  1.57% |    7.7 |  75.4\n",
      " 7 |     75 |  2.85% |    6.1 |  76.5\n",
      " 8 |  4,750 |  4.48% |    3.7 |  77.1\n",
      " 9 |    150 |  0.82% |   12.2 |  76.1\n",
      "10 |     10 |  1.50% |    7.9 |  76.7\n",
      "11 |  5,000 |  3.78% |    2.7 |  78.1\n",
      "12 |  4,750 |  2.15% |    4.1 |  77.0\n",
      "13 |     75 |  1.52% |    5.5 |  76.6\n",
      "14 |    150 |  3.91% |    2.8 |  77.1\n",
      "15 |  4,750 | -0.46% |  -20.6 |  78.8\n",
      "\n",
      " 10 | 04:33:20 | 00:20:12 |  0.01 |  64 | 95% |  250 |   1.65% |  1500\n",
      " 0 |  4,250 | -0.02% | -583.3 | 158.1\n",
      " 1 |  5,000 |  0.88% |   15.6 | 158.2\n",
      " 2 |    150 |  2.77% |    7.3 | 156.6\n",
      " 3 |     25 |  2.91% |    7.8 | 154.4\n",
      " 4 |    100 |  4.98% |    3.2 | 157.0\n",
      " 5 |    100 |  5.80% |    2.4 | 155.8\n",
      " 6 |    250 |  1.10% |   10.0 | 165.0\n",
      " 7 |    100 |  2.80% |    6.6 | 167.5\n",
      " 8 |  4,500 |  4.26% |    3.8 | 158.3\n",
      " 9 |     25 |  0.15% |   58.0 | 161.4\n",
      "10 |    200 |  1.35% |   10.5 | 162.0\n",
      "11 |  1,750 |  3.92% |    2.6 | 173.3\n",
      "12 |  5,000 |  2.60% |    3.1 | 171.3\n",
      "13 |     10 |  0.83% |    7.8 | 177.9\n",
      "14 |     50 |  3.34% |    3.5 | 177.4\n",
      "15 |  5,000 |  0.17% |   55.7 | 174.7\n",
      "\n",
      " 11 | 05:17:10 | 00:43:49 |  0.01 | 128 | 95% | 1500 |   1.57% |   500\n",
      " 0 |  1,500 |  1.28% |   11.7 |  57.9\n",
      " 1 |  5,000 |  0.76% |   18.9 |  59.3\n",
      " 2 |     10 |  2.88% |    5.3 |  55.9\n",
      " 3 |  1,750 |  3.40% |    6.1 |  56.2\n",
      " 4 |    500 |  4.03% |    3.7 |  55.4\n",
      " 5 |    500 |  3.35% |    4.2 |  55.9\n",
      " 6 |  1,000 |  1.47% |    7.6 |  55.4\n",
      " 7 |  2,500 |  2.66% |    5.5 |  57.3\n",
      " 8 |     10 |  3.40% |    5.8 |  56.0\n",
      " 9 |    100 |  2.25% |    3.8 |  55.3\n",
      "10 |     75 |  3.01% |    4.3 |  55.6\n",
      "11 |  5,000 |  3.83% |    2.6 |  56.9\n",
      "12 |  3,750 |  2.55% |    3.3 |  56.1\n",
      "13 |     50 |  1.93% |    3.8 |  55.4\n",
      "14 |     25 |  4.46% |    2.1 |  55.5\n",
      "15 |  5,000 | -0.90% |  -11.0 |  55.8\n",
      "\n",
      " 12 | 05:32:10 | 00:15:00 |  0.01 |  32 | 95% |  750 |   1.45% |  1000\n",
      " 0 |  3,250 |  1.50% |    9.4 | 112.4\n",
      " 1 |  5,000 |  0.81% |   17.2 | 112.0\n",
      " 2 |  5,000 |  1.28% |   15.3 | 111.9\n",
      " 3 |  1,500 |  4.58% |    4.5 | 115.2\n",
      " 4 |    750 |  4.21% |    3.5 | 113.6\n",
      " 5 |    200 |  3.99% |    3.8 | 114.8\n",
      " 6 |    500 |  2.43% |    5.1 | 115.9\n",
      " 7 |    250 |  3.21% |    5.1 | 116.0\n",
      " 8 |  5,000 |  4.51% |    3.7 | 117.6\n",
      " 9 |     25 |  1.33% |    7.2 | 115.9\n",
      "10 |     50 |  1.63% |    7.5 | 116.2\n",
      "11 |  4,500 |  3.82% |    2.6 | 118.3\n",
      "12 |  4,750 |  2.78% |    3.3 | 119.0\n",
      "13 |     10 |  1.16% |    6.4 | 118.7\n",
      "14 |     50 |  3.19% |    3.8 | 120.2\n",
      "15 |  5,000 | -0.12% |  -80.4 | 129.7\n",
      "\n",
      " 13 | 06:03:18 | 00:31:08 |  0.01 | 128 | 60% |  250 |   1.69% |  1750\n",
      " 0 |  3,000 |  1.43% |    9.8 |  93.6\n",
      " 1 |  4,500 |  0.73% |   18.3 |  86.4\n",
      " 2 |  5,000 |  0.66% |   28.8 |  86.0\n",
      " 3 |  1,500 |  4.15% |    5.1 |  94.4\n",
      " 4 |  1,250 |  4.51% |    3.3 | 107.6\n",
      " 5 |    200 |  3.96% |    3.6 |  99.7\n",
      " 6 |    500 |  2.49% |    5.0 |  98.3\n",
      " 7 |  1,250 |  2.73% |    5.4 |  91.4\n",
      " 8 |  5,000 |  4.31% |    3.9 |  97.5\n",
      " 9 |    100 |  0.64% |   14.9 | 107.9\n",
      "10 |     10 |  1.93% |    6.1 |  96.8\n",
      "11 |  5,000 |  3.68% |    2.7 |  98.2\n",
      "12 |  5,000 |  2.66% |    3.4 | 102.2\n",
      "13 |     50 |  1.49% |    5.7 |  95.6\n",
      "14 |    150 |  3.26% |    3.9 |  94.5\n",
      "15 |  4,250 | -0.63% |  -15.9 |  95.8\n",
      "\n",
      " 14 | 06:29:04 | 00:25:46 |  0.01 |  64 | 60% |  750 |   1.71% |  1500\n",
      " 0 |  1,250 |  0.93% |   14.7 |  87.7\n",
      " 1 |  4,750 |  0.45% |   30.0 |  92.4\n",
      " 2 |    250 |  1.39% |   15.4 |  93.1\n",
      " 3 |  1,000 |  3.67% |    5.8 |  97.8\n",
      " 4 |    100 |  4.81% |    3.4 | 115.3\n",
      " 5 |    250 |  4.24% |    3.5 | 106.8\n",
      " 6 |    250 |  1.38% |    8.6 |  92.0\n",
      " 7 |     75 |  2.49% |    6.7 |  90.4\n",
      " 8 |     75 |  4.48% |    4.6 |  90.4\n",
      " 9 |    100 |  0.42% |   22.0 |  88.7\n",
      "10 |     10 |  1.38% |    8.4 |  89.6\n",
      "11 |  5,000 |  3.87% |    2.7 |  90.9\n",
      "12 |  2,000 |  2.56% |    3.2 |  90.6\n",
      "13 |    100 |  1.92% |    4.3 |  91.9\n",
      "14 |    150 |  4.01% |    2.8 |  92.1\n",
      "15 |  5,000 | -0.56% |  -14.9 |  93.9\n",
      "\n",
      " 15 | 06:54:08 | 00:25:04 |  0.01 |  64 | 95% |  750 |   1.63% |   750\n",
      " 0 |     10 |  0.45% |   28.9 | 157.7\n",
      " 1 |  5,000 |  0.63% |   22.6 | 158.2\n",
      " 2 |    500 |  1.63% |   12.8 | 156.9\n",
      " 3 |  1,000 |  3.28% |    6.4 | 158.7\n",
      " 4 |    500 |  4.52% |    3.3 | 158.2\n",
      " 5 |    500 |  5.22% |    2.6 | 157.3\n",
      " 6 |    250 |  2.22% |    5.4 | 161.0\n",
      " 7 |    250 |  3.07% |    5.4 | 160.3\n",
      " 8 |  4,000 |  4.34% |    3.8 | 159.6\n",
      " 9 |     10 |  1.61% |    6.0 | 163.0\n",
      "10 |     10 |  1.58% |    6.7 | 169.6\n",
      "11 |  1,500 |  3.50% |    2.9 | 174.3\n",
      "12 |  3,500 |  2.69% |    3.2 | 172.6\n",
      "13 |    100 |  1.27% |    7.3 | 180.2\n",
      "14 |    100 |  2.23% |    6.2 | 179.9\n",
      "15 |  5,000 | -0.34% |  -27.4 | 175.8\n",
      "\n",
      " 16 | 07:38:12 | 00:44:04 |  0.01 | 128 | 60% | 1500 |   1.79% |   500\n",
      " 0 |  3,250 |  1.61% |    8.9 |  77.9\n",
      " 1 |  5,000 |  0.68% |   20.3 |  77.6\n",
      " 2 |  5,000 |  0.99% |   20.0 |  77.1\n",
      " 3 |  1,250 |  3.81% |    5.6 |  78.7\n",
      " 4 |     10 |  4.30% |    3.0 |  78.1\n",
      " 5 |    200 |  3.26% |    4.8 |  79.1\n",
      " 6 |     25 |  1.97% |    6.5 |  78.5\n",
      " 7 |    750 |  3.07% |    5.1 |  79.9\n",
      " 8 |  5,000 |  4.59% |    3.7 |  79.8\n",
      " 9 |     25 |  0.75% |   12.2 |  79.0\n",
      "10 |     10 |  2.48% |    4.8 |  79.6\n",
      "11 |  4,750 |  3.37% |    3.0 |  80.3\n",
      "12 |  5,000 |  2.27% |    3.8 |  79.5\n",
      "13 |     10 |  2.31% |    3.7 |  80.1\n",
      "14 |    250 |  2.92% |    4.1 |  79.5\n",
      "15 |  5,000 | -0.45% |  -21.7 |  80.6\n",
      "\n",
      " 17 | 07:59:18 | 00:21:06 |  0.01 |  64 | 60% |  250 |   1.65% |  2000\n"
     ]
    }
   ],
   "source": [
    "T = 0\n",
    "for p, param_vals in enumerate(cv_params_):\n",
    "\n",
    "    key = '/'.join([str(p) for p in param_vals])\n",
    "    model_key = '_'.join(key.split('/'))\n",
    "    params = dict(zip(param_names, param_vals))\n",
    "    params.update(base_params)\n",
    "    start = time()\n",
    "\n",
    "    # create data structures to store results\n",
    "    daily_ic_mean = np.full(shape=(len(num_boost_rounds),\n",
    "                                   n_splits),\n",
    "                            fill_value=np.nan)\n",
    "    daily_ic_std = daily_ic_mean.copy()\n",
    "\n",
    "    # train on data through 2016 to select the best model\n",
    "    for n_split, (train_idx, test_idx) in enumerate(cv.split(X=data)):\n",
    "        print(f'{n_split:2.0f} |', end=' ', flush=True)\n",
    "        iteration = time()\n",
    "\n",
    "        # select data points and create binary train set\n",
    "        train_set = data.iloc[train_idx, :]\n",
    "        lgb_train = lgb.Dataset(data=train_set.loc[:, features],\n",
    "                                label=train_set[target],\n",
    "                                categorical_feature=categoricals,\n",
    "                                free_raw_data=False)\n",
    "\n",
    "        # create test data\n",
    "        test_set = data.iloc[test_idx, :]\n",
    "        X_test = test_set.loc[:, features]\n",
    "        y_test = test_set.loc[:, target].to_frame('y_true')\n",
    "        \n",
    "        # train model for max num_boost_rounds\n",
    "        model = lgb.train(params=params,\n",
    "                          train_set=lgb_train,\n",
    "                          num_boost_round=num_boost_rounds[-1],\n",
    "                          verbose_eval=False)\n",
    "        \n",
    "        # persist model to generate out-of-sample predictions\n",
    "        model_file = model_path / f'{model_key}_{n_split}.txt'\n",
    "        model.save_model(model_file.as_posix())\n",
    "        \n",
    "        # evaluate trained model for various num_boost_rounds\n",
    "        for i, num_boost_round in enumerate(num_boost_rounds):\n",
    "            y_pred = model.predict(X_test, num_iteration=num_boost_round)\n",
    "            y_test = y_test.assign(y_pred=y_pred)\n",
    "            \n",
    "            # compute daily information coefficient\n",
    "            daily_ic = (y_test.groupby(level='date')\n",
    "                        .apply(lambda x: spearmanr(x.y_true, x.y_pred)[0]))\n",
    "\n",
    "            daily_ic_mean[i, n_split] = daily_ic.mean()\n",
    "            daily_ic_std[i, n_split] = daily_ic.std()\n",
    "\n",
    "        mu = pd.Series(daily_ic_mean[:, n_split], index=num_boost_rounds)\n",
    "        s = pd.Series(daily_ic_std[:, n_split], index=num_boost_rounds)\n",
    "        msg = f'{mu.idxmax():6,.0f} | {mu.max():6.2%} | {s[mu.idxmax()]/mu.max():6.1f} | '\n",
    "        print(msg + f'{time() - iteration:5.1f}', flush=True)\n",
    "\n",
    "    t = time() - start\n",
    "    T += t\n",
    "    \n",
    "    ic = pd.DataFrame(daily_ic_mean, index=num_boost_rounds)\n",
    "    ic_mean = ic.mean(1).max()\n",
    "    ic_mean_n = ic.mean(1).idxmax()\n",
    "\n",
    "    print(f'\\n{p:3.0f} | {format_time(T)} | {format_time(t)} | {params[\"learning_rate\"]:5.2f} | '\n",
    "          f'{params[\"num_leaves\"]:3.0f} | {params[\"feature_fraction\"]:3.0%} | '\n",
    "          f'{params[\"min_data_in_leaf\"]:4.0f} | '\n",
    "          f' {ic_mean:6.2%} | {ic_mean_n:5.0f}')\n",
    "    \n",
    "    ic.to_hdf(lgb_store, 'ic/' + key)"
   ]
  },
  {
   "cell_type": "markdown",
   "metadata": {},
   "source": [
    "### Collect Results"
   ]
  },
  {
   "cell_type": "markdown",
   "metadata": {},
   "source": [
    "Here we gather the daily IC values for the various models alongside the matching hyperparameters."
   ]
  },
  {
   "cell_type": "code",
   "execution_count": 50,
   "metadata": {
    "ExecuteTime": {
     "end_time": "2020-07-15T02:29:53.595581Z",
     "start_time": "2020-07-15T02:29:53.591243Z"
    }
   },
   "outputs": [],
   "source": [
    "id_vars = ['num_iteration', 'learning_rate', 'num_leaves', 'feature_frac', 'num_data']"
   ]
  },
  {
   "cell_type": "code",
   "execution_count": 51,
   "metadata": {
    "ExecuteTime": {
     "end_time": "2020-07-15T02:29:53.852419Z",
     "start_time": "2020-07-15T02:29:53.741999Z"
    }
   },
   "outputs": [],
   "source": [
    "results = []\n",
    "with pd.HDFStore('lgb_tuning.h5') as store:\n",
    "    for k in [k[1:] for k in store.keys() if k[1:].startswith('ic/')]:\n",
    "        _, lr, num_leaves, feature_frac, num_data = k.split('/')\n",
    "        results.append(store[k].assign(learning_rate=float(lr),\n",
    "                                       num_leaves=int(num_leaves),\n",
    "                                       feature_frac=float(feature_frac),\n",
    "                                       num_data=int(num_data)))"
   ]
  },
  {
   "cell_type": "code",
   "execution_count": 52,
   "metadata": {
    "ExecuteTime": {
     "end_time": "2020-07-15T02:29:53.924874Z",
     "start_time": "2020-07-15T02:29:53.901439Z"
    }
   },
   "outputs": [],
   "source": [
    "results = pd.concat(results).reset_index().rename(columns={'index': 'num_iteration'})\n",
    "results = pd.melt(results,\n",
    "                  id_vars=id_vars,\n",
    "                  value_name='ic',\n",
    "                  var_name='fold').apply(pd.to_numeric)"
   ]
  },
  {
   "cell_type": "code",
   "execution_count": 53,
   "metadata": {
    "ExecuteTime": {
     "end_time": "2020-07-15T02:29:55.999653Z",
     "start_time": "2020-07-15T02:29:55.992744Z"
    }
   },
   "outputs": [
    {
     "name": "stdout",
     "output_type": "stream",
     "text": [
      "<class 'pandas.core.frame.DataFrame'>\n",
      "RangeIndex: 7776 entries, 0 to 7775\n",
      "Data columns (total 7 columns):\n",
      " #   Column         Non-Null Count  Dtype  \n",
      "---  ------         --------------  -----  \n",
      " 0   num_iteration  7776 non-null   int64  \n",
      " 1   learning_rate  7776 non-null   float64\n",
      " 2   num_leaves     7776 non-null   int64  \n",
      " 3   feature_frac   7776 non-null   float64\n",
      " 4   num_data       7776 non-null   int64  \n",
      " 5   fold           7776 non-null   int64  \n",
      " 6   ic             7776 non-null   float64\n",
      "dtypes: float64(3), int64(4)\n",
      "memory usage: 425.4 KB\n"
     ]
    }
   ],
   "source": [
    "results.info()"
   ]
  },
  {
   "cell_type": "code",
   "execution_count": 54,
   "metadata": {
    "ExecuteTime": {
     "end_time": "2020-07-15T02:29:56.148277Z",
     "start_time": "2020-07-15T02:29:56.129337Z"
    }
   },
   "outputs": [
    {
     "data": {
      "text/html": [
       "<div>\n",
       "<style scoped>\n",
       "    .dataframe tbody tr th:only-of-type {\n",
       "        vertical-align: middle;\n",
       "    }\n",
       "\n",
       "    .dataframe tbody tr th {\n",
       "        vertical-align: top;\n",
       "    }\n",
       "\n",
       "    .dataframe thead th {\n",
       "        text-align: right;\n",
       "    }\n",
       "</style>\n",
       "<table border=\"1\" class=\"dataframe\">\n",
       "  <thead>\n",
       "    <tr style=\"text-align: right;\">\n",
       "      <th></th>\n",
       "      <th>num_iteration</th>\n",
       "      <th>learning_rate</th>\n",
       "      <th>num_leaves</th>\n",
       "      <th>feature_frac</th>\n",
       "      <th>num_data</th>\n",
       "      <th>fold</th>\n",
       "      <th>ic</th>\n",
       "    </tr>\n",
       "  </thead>\n",
       "  <tbody>\n",
       "    <tr>\n",
       "      <th>0</th>\n",
       "      <td>10</td>\n",
       "      <td>0.01</td>\n",
       "      <td>64</td>\n",
       "      <td>0.95</td>\n",
       "      <td>1500</td>\n",
       "      <td>0</td>\n",
       "      <td>-0.005167</td>\n",
       "    </tr>\n",
       "    <tr>\n",
       "      <th>1</th>\n",
       "      <td>25</td>\n",
       "      <td>0.01</td>\n",
       "      <td>64</td>\n",
       "      <td>0.95</td>\n",
       "      <td>1500</td>\n",
       "      <td>0</td>\n",
       "      <td>-0.016321</td>\n",
       "    </tr>\n",
       "    <tr>\n",
       "      <th>2</th>\n",
       "      <td>50</td>\n",
       "      <td>0.01</td>\n",
       "      <td>64</td>\n",
       "      <td>0.95</td>\n",
       "      <td>1500</td>\n",
       "      <td>0</td>\n",
       "      <td>-0.015368</td>\n",
       "    </tr>\n",
       "    <tr>\n",
       "      <th>3</th>\n",
       "      <td>75</td>\n",
       "      <td>0.01</td>\n",
       "      <td>64</td>\n",
       "      <td>0.95</td>\n",
       "      <td>1500</td>\n",
       "      <td>0</td>\n",
       "      <td>-0.015796</td>\n",
       "    </tr>\n",
       "    <tr>\n",
       "      <th>4</th>\n",
       "      <td>100</td>\n",
       "      <td>0.01</td>\n",
       "      <td>64</td>\n",
       "      <td>0.95</td>\n",
       "      <td>1500</td>\n",
       "      <td>0</td>\n",
       "      <td>-0.008647</td>\n",
       "    </tr>\n",
       "  </tbody>\n",
       "</table>\n",
       "</div>"
      ],
      "text/plain": [
       "   num_iteration  learning_rate  num_leaves  feature_frac  num_data  fold  \\\n",
       "0             10           0.01          64          0.95      1500     0   \n",
       "1             25           0.01          64          0.95      1500     0   \n",
       "2             50           0.01          64          0.95      1500     0   \n",
       "3             75           0.01          64          0.95      1500     0   \n",
       "4            100           0.01          64          0.95      1500     0   \n",
       "\n",
       "         ic  \n",
       "0 -0.005167  \n",
       "1 -0.016321  \n",
       "2 -0.015368  \n",
       "3 -0.015796  \n",
       "4 -0.008647  "
      ]
     },
     "execution_count": 54,
     "metadata": {},
     "output_type": "execute_result"
    }
   ],
   "source": [
    "results.head()"
   ]
  },
  {
   "cell_type": "markdown",
   "metadata": {},
   "source": [
    "## Generate Predictions for best models"
   ]
  },
  {
   "cell_type": "markdown",
   "metadata": {},
   "source": [
    "Now we'll select the parameters that produced the 10 best daily IC values over four consecutive quarters and generate predictions for these configurations for the following quarter, using the already trained model."
   ]
  },
  {
   "cell_type": "code",
   "execution_count": 55,
   "metadata": {
    "ExecuteTime": {
     "end_time": "2020-07-15T02:29:59.002412Z",
     "start_time": "2020-07-15T02:29:58.999251Z"
    }
   },
   "outputs": [],
   "source": [
    "param_names = id_vars[1:]"
   ]
  },
  {
   "cell_type": "code",
   "execution_count": 56,
   "metadata": {
    "ExecuteTime": {
     "end_time": "2020-07-15T02:32:17.294655Z",
     "start_time": "2020-07-15T02:29:59.303966Z"
    }
   },
   "outputs": [
    {
     "name": "stdout",
     "output_type": "stream",
     "text": [
      "0 1 2 3 4 5 6 7 8 9 10 11 "
     ]
    }
   ],
   "source": [
    "predictions = []\n",
    "for fold, (train_idx, test_idx) in enumerate(cv.split(X=data)):\n",
    "    if fold >= 12:\n",
    "        break\n",
    "    print(fold, end=' ', flush=True)\n",
    "    \n",
    "    # get test features and outcomes\n",
    "    test_data = data.iloc[test_idx]\n",
    "    X_test = test_data.loc[:, features]\n",
    "    fold_predictions = test_data.loc[:, target].to_frame('y_true')\n",
    "\n",
    "    # select top 10 models based on prior 12 months performance\n",
    "    best_params = (results[results.fold.isin(list(range(fold + 1, fold + 4)))]\n",
    "                   .groupby(id_vars)\n",
    "                   .ic.mean()\n",
    "                   .nlargest(n=10).to_frame('ic'))\n",
    "    \n",
    "    # generate predictions for top 10 models\n",
    "    for pos, params in enumerate(best_params.reset_index().to_dict('records')):\n",
    "        num_iteration = params['num_iteration']\n",
    "        param_vals = [params[p] for p in param_names]\n",
    "        model_key = '_'.join([str(p) for p in param_vals])\n",
    "        params = dict(zip(param_names, param_vals))\n",
    "        params.update(base_params)\n",
    "\n",
    "        # select matching model for current quarter\n",
    "        model_path = Path('models/' + model_key + f'_{fold}.txt')\n",
    "        model = lgb.Booster(model_file=model_path.as_posix())\n",
    "        \n",
    "        # predict returns based on current quarter features\n",
    "        fold_predictions[pos] = model.predict(X_test.loc[:, model.feature_name()], \n",
    "                                              num_iteration=num_iteration)\n",
    "    predictions.append(fold_predictions)\n",
    "predictions = pd.concat(predictions)    "
   ]
  },
  {
   "cell_type": "code",
   "execution_count": 57,
   "metadata": {
    "ExecuteTime": {
     "end_time": "2020-07-15T02:32:17.356236Z",
     "start_time": "2020-07-15T02:32:17.296031Z"
    }
   },
   "outputs": [
    {
     "name": "stdout",
     "output_type": "stream",
     "text": [
      "<class 'pandas.core.frame.DataFrame'>\n",
      "MultiIndex: 366259 entries, ('A', Timestamp('2014-01-09 00:00:00')) to ('ZMH', Timestamp('2015-07-02 00:00:00'))\n",
      "Data columns (total 11 columns):\n",
      " #   Column  Non-Null Count   Dtype  \n",
      "---  ------  --------------   -----  \n",
      " 0   y_true  366259 non-null  float64\n",
      " 1   0       366259 non-null  float64\n",
      " 2   1       366259 non-null  float64\n",
      " 3   2       366259 non-null  float64\n",
      " 4   3       366259 non-null  float64\n",
      " 5   4       366259 non-null  float64\n",
      " 6   5       366259 non-null  float64\n",
      " 7   6       366259 non-null  float64\n",
      " 8   7       366259 non-null  float64\n",
      " 9   8       366259 non-null  float64\n",
      " 10  9       366259 non-null  float64\n",
      "dtypes: float64(11)\n",
      "memory usage: 32.1+ MB\n"
     ]
    }
   ],
   "source": [
    "predictions.sort_index().info()"
   ]
  },
  {
   "cell_type": "code",
   "execution_count": 58,
   "metadata": {
    "ExecuteTime": {
     "end_time": "2020-07-15T02:32:18.112387Z",
     "start_time": "2020-07-15T02:32:17.369697Z"
    }
   },
   "outputs": [
    {
     "name": "stdout",
     "output_type": "stream",
     "text": [
      "Top 0: 2.59 (0.00%)\n",
      "Top 1: 2.91 (0.00%)\n",
      "Top 2: 2.12 (0.00%)\n",
      "Top 3: 3.15 (0.00%)\n",
      "Top 4: 3.47 (0.00%)\n",
      "Top 5: 3.06 (0.00%)\n",
      "Top 6: 3.14 (0.00%)\n",
      "Top 7: 2.56 (0.00%)\n",
      "Top 8: 2.94 (0.00%)\n",
      "Top 9: 2.29 (0.00%)\n"
     ]
    }
   ],
   "source": [
    "pred_cols = predictions.columns.drop('y_true')\n",
    "for col in pred_cols:\n",
    "    rho, p = spearmanr(predictions.y_true, predictions[col])\n",
    "    print(f'Top {col}: {rho * 100:.2f} ({p:.2%})')"
   ]
  },
  {
   "cell_type": "markdown",
   "metadata": {},
   "source": [
    "Let's compare the performance of individual models to that of an averaged ensemble:"
   ]
  },
  {
   "cell_type": "code",
   "execution_count": 59,
   "metadata": {
    "ExecuteTime": {
     "end_time": "2020-07-15T02:32:18.213347Z",
     "start_time": "2020-07-15T02:32:18.113622Z"
    }
   },
   "outputs": [
    {
     "name": "stdout",
     "output_type": "stream",
     "text": [
      "\n",
      "Avg: 3.01 (0.00%)\n"
     ]
    }
   ],
   "source": [
    "rho, p = spearmanr(predictions.y_true, predictions.loc[:, pred_cols].mean(1))\n",
    "print(f'\\nAvg: {rho * 100:.2f} ({p:.2%})')"
   ]
  },
  {
   "cell_type": "code",
   "execution_count": 60,
   "metadata": {
    "ExecuteTime": {
     "end_time": "2020-07-15T02:32:18.247693Z",
     "start_time": "2020-07-15T02:32:18.214515Z"
    }
   },
   "outputs": [],
   "source": [
    "with pd.HDFStore(DATA_PATH / 'predictions.h5') as store:\n",
    "    store.put(f'gradient_boosting', predictions.loc[:, pred_cols].mean(1))"
   ]
  },
  {
   "cell_type": "markdown",
   "metadata": {},
   "source": [
    "## AlphaLens Analysis"
   ]
  },
  {
   "cell_type": "markdown",
   "metadata": {},
   "source": [
    "Let's take a look how the model predictions perform from an alpha factor perspective."
   ]
  },
  {
   "cell_type": "markdown",
   "metadata": {},
   "source": [
    "### Prepare Factor Data"
   ]
  },
  {
   "cell_type": "code",
   "execution_count": 61,
   "metadata": {
    "ExecuteTime": {
     "end_time": "2020-07-15T02:32:18.324794Z",
     "start_time": "2020-07-15T02:32:18.248986Z"
    }
   },
   "outputs": [],
   "source": [
    "t = 1\n",
    "idx = pd.IndexSlice\n",
    "factor = (predictions.loc[:, pred_cols].mean(1)\n",
    "          .sort_index()\n",
    "          .dropna()\n",
    "          .tz_localize('UTC', level='date')\n",
    "          .swaplevel())"
   ]
  },
  {
   "cell_type": "code",
   "execution_count": 62,
   "metadata": {
    "ExecuteTime": {
     "end_time": "2020-07-15T02:32:18.337478Z",
     "start_time": "2020-07-15T02:32:18.326100Z"
    }
   },
   "outputs": [
    {
     "data": {
      "text/plain": [
       "date                       ticker\n",
       "2014-01-09 00:00:00+00:00  A         0.001209\n",
       "2014-01-10 00:00:00+00:00  A         0.001213\n",
       "2014-01-13 00:00:00+00:00  A         0.001211\n",
       "2014-01-14 00:00:00+00:00  A         0.001174\n",
       "2014-01-15 00:00:00+00:00  A         0.001138\n",
       "dtype: float64"
      ]
     },
     "execution_count": 62,
     "metadata": {},
     "output_type": "execute_result"
    }
   ],
   "source": [
    "factor.head()"
   ]
  },
  {
   "cell_type": "code",
   "execution_count": 63,
   "metadata": {
    "ExecuteTime": {
     "end_time": "2020-07-15T02:32:18.344343Z",
     "start_time": "2020-07-15T02:32:18.339647Z"
    }
   },
   "outputs": [
    {
     "data": {
      "text/plain": [
       "(Timestamp('2014-01-09 00:00:00+0000', tz='UTC'),\n",
       " Timestamp('2016-12-29 00:00:00+0000', tz='UTC'))"
      ]
     },
     "execution_count": 63,
     "metadata": {},
     "output_type": "execute_result"
    }
   ],
   "source": [
    "dates = factor.index.unique('date')\n",
    "dates.min(), dates.max()"
   ]
  },
  {
   "cell_type": "code",
   "execution_count": 64,
   "metadata": {
    "ExecuteTime": {
     "end_time": "2020-07-15T02:32:18.352006Z",
     "start_time": "2020-07-15T02:32:18.345234Z"
    }
   },
   "outputs": [],
   "source": [
    "tickers = factor.index.unique('ticker')"
   ]
  },
  {
   "cell_type": "markdown",
   "metadata": {},
   "source": [
    "### Select next available trade prices"
   ]
  },
  {
   "cell_type": "markdown",
   "metadata": {},
   "source": [
    "Using next available prices."
   ]
  },
  {
   "cell_type": "code",
   "execution_count": 65,
   "metadata": {
    "ExecuteTime": {
     "end_time": "2020-07-15T02:32:18.357603Z",
     "start_time": "2020-07-15T02:32:18.352874Z"
    }
   },
   "outputs": [],
   "source": [
    "def get_trade_prices(tickers):\n",
    "    return (pd.read_hdf(DATA_PATH / 'stock_prices.h5', 'us_stocks')\n",
    "              .loc[idx[tickers, '2006':'2017'], 'open']\n",
    "              .unstack('ticker')\n",
    "              .sort_index()\n",
    "            .shift(-1)\n",
    "            .tz_localize('UTC'))"
   ]
  },
  {
   "cell_type": "code",
   "execution_count": 66,
   "metadata": {
    "ExecuteTime": {
     "end_time": "2020-07-15T02:32:32.662608Z",
     "start_time": "2020-07-15T02:32:18.358435Z"
    },
    "scrolled": true
   },
   "outputs": [
    {
     "name": "stdout",
     "output_type": "stream",
     "text": [
      "<class 'pandas.core.frame.DataFrame'>\n",
      "DatetimeIndex: 3020 entries, 2006-01-03 00:00:00+00:00 to 2017-12-29 00:00:00+00:00\n",
      "Columns: 500 entries, A to ZMH\n",
      "dtypes: float64(500)\n",
      "memory usage: 11.5 MB\n"
     ]
    }
   ],
   "source": [
    "trade_prices = get_trade_prices(tickers)\n",
    "trade_prices.info()"
   ]
  },
  {
   "cell_type": "markdown",
   "metadata": {},
   "source": [
    "### Get AlphaLens Inputs"
   ]
  },
  {
   "cell_type": "code",
   "execution_count": 67,
   "metadata": {
    "ExecuteTime": {
     "end_time": "2020-07-15T02:32:37.016950Z",
     "start_time": "2020-07-15T02:32:32.663767Z"
    }
   },
   "outputs": [
    {
     "name": "stdout",
     "output_type": "stream",
     "text": [
      "Dropped 0.8% entries from factor data: 0.8% in forward returns computation and 0.0% in binning phase (set max_loss=0 to see potentially suppressed Exceptions).\n",
      "max_loss is 35.0%, not exceeded: OK!\n",
      "<class 'pandas.core.frame.DataFrame'>\n",
      "MultiIndex: 363260 entries, (Timestamp('2014-01-09 00:00:00+0000', tz='UTC'), 'A') to (Timestamp('2016-12-29 00:00:00+0000', tz='UTC'), 'ZION')\n",
      "Data columns (total 6 columns):\n",
      " #   Column           Non-Null Count   Dtype  \n",
      "---  ------           --------------   -----  \n",
      " 0   1D               363260 non-null  float64\n",
      " 1   2D               363260 non-null  float64\n",
      " 2   3D               363260 non-null  float64\n",
      " 3   5D               363260 non-null  float64\n",
      " 4   factor           363260 non-null  float64\n",
      " 5   factor_quantile  363260 non-null  int64  \n",
      "dtypes: float64(5), int64(1)\n",
      "memory usage: 18.0+ MB\n"
     ]
    }
   ],
   "source": [
    "factor_data = get_clean_factor_and_forward_returns(factor=factor,\n",
    "                                                   prices=trade_prices,\n",
    "                                                   quantiles=10,\n",
    "                                                   periods=(1, 2, 3, 5))\n",
    "factor_data.sort_index().info()"
   ]
  },
  {
   "cell_type": "markdown",
   "metadata": {},
   "source": [
    "### Summary Tearsheet"
   ]
  },
  {
   "cell_type": "code",
   "execution_count": 68,
   "metadata": {
    "ExecuteTime": {
     "end_time": "2020-07-15T02:32:50.635196Z",
     "start_time": "2020-07-15T02:32:37.017884Z"
    }
   },
   "outputs": [
    {
     "name": "stdout",
     "output_type": "stream",
     "text": [
      "Quantiles Statistics\n"
     ]
    },
    {
     "data": {
      "text/html": [
       "<div>\n",
       "<style scoped>\n",
       "    .dataframe tbody tr th:only-of-type {\n",
       "        vertical-align: middle;\n",
       "    }\n",
       "\n",
       "    .dataframe tbody tr th {\n",
       "        vertical-align: top;\n",
       "    }\n",
       "\n",
       "    .dataframe thead th {\n",
       "        text-align: right;\n",
       "    }\n",
       "</style>\n",
       "<table border=\"1\" class=\"dataframe\">\n",
       "  <thead>\n",
       "    <tr style=\"text-align: right;\">\n",
       "      <th></th>\n",
       "      <th>min</th>\n",
       "      <th>max</th>\n",
       "      <th>mean</th>\n",
       "      <th>std</th>\n",
       "      <th>count</th>\n",
       "      <th>count %</th>\n",
       "    </tr>\n",
       "    <tr>\n",
       "      <th>factor_quantile</th>\n",
       "      <th></th>\n",
       "      <th></th>\n",
       "      <th></th>\n",
       "      <th></th>\n",
       "      <th></th>\n",
       "      <th></th>\n",
       "    </tr>\n",
       "  </thead>\n",
       "  <tbody>\n",
       "    <tr>\n",
       "      <th>1</th>\n",
       "      <td>-0.045424</td>\n",
       "      <td>0.003454</td>\n",
       "      <td>-0.002372</td>\n",
       "      <td>0.003829</td>\n",
       "      <td>36697</td>\n",
       "      <td>10.102131</td>\n",
       "    </tr>\n",
       "    <tr>\n",
       "      <th>2</th>\n",
       "      <td>-0.015570</td>\n",
       "      <td>0.004427</td>\n",
       "      <td>-0.000718</td>\n",
       "      <td>0.002200</td>\n",
       "      <td>36331</td>\n",
       "      <td>10.001376</td>\n",
       "    </tr>\n",
       "    <tr>\n",
       "      <th>3</th>\n",
       "      <td>-0.011479</td>\n",
       "      <td>0.005109</td>\n",
       "      <td>-0.000198</td>\n",
       "      <td>0.001831</td>\n",
       "      <td>36143</td>\n",
       "      <td>9.949623</td>\n",
       "    </tr>\n",
       "    <tr>\n",
       "      <th>4</th>\n",
       "      <td>-0.009567</td>\n",
       "      <td>0.005765</td>\n",
       "      <td>0.000148</td>\n",
       "      <td>0.001649</td>\n",
       "      <td>36396</td>\n",
       "      <td>10.019270</td>\n",
       "    </tr>\n",
       "    <tr>\n",
       "      <th>5</th>\n",
       "      <td>-0.008501</td>\n",
       "      <td>0.006417</td>\n",
       "      <td>0.000435</td>\n",
       "      <td>0.001556</td>\n",
       "      <td>36269</td>\n",
       "      <td>9.984309</td>\n",
       "    </tr>\n",
       "    <tr>\n",
       "      <th>6</th>\n",
       "      <td>-0.007557</td>\n",
       "      <td>0.008862</td>\n",
       "      <td>0.000704</td>\n",
       "      <td>0.001541</td>\n",
       "      <td>36171</td>\n",
       "      <td>9.957331</td>\n",
       "    </tr>\n",
       "    <tr>\n",
       "      <th>7</th>\n",
       "      <td>-0.006271</td>\n",
       "      <td>0.012502</td>\n",
       "      <td>0.000990</td>\n",
       "      <td>0.001604</td>\n",
       "      <td>36209</td>\n",
       "      <td>9.967792</td>\n",
       "    </tr>\n",
       "    <tr>\n",
       "      <th>8</th>\n",
       "      <td>-0.005156</td>\n",
       "      <td>0.016861</td>\n",
       "      <td>0.001339</td>\n",
       "      <td>0.001745</td>\n",
       "      <td>36299</td>\n",
       "      <td>9.992567</td>\n",
       "    </tr>\n",
       "    <tr>\n",
       "      <th>9</th>\n",
       "      <td>-0.003432</td>\n",
       "      <td>0.021773</td>\n",
       "      <td>0.001874</td>\n",
       "      <td>0.002061</td>\n",
       "      <td>36140</td>\n",
       "      <td>9.948797</td>\n",
       "    </tr>\n",
       "    <tr>\n",
       "      <th>10</th>\n",
       "      <td>-0.002104</td>\n",
       "      <td>0.038375</td>\n",
       "      <td>0.003668</td>\n",
       "      <td>0.003624</td>\n",
       "      <td>36605</td>\n",
       "      <td>10.076804</td>\n",
       "    </tr>\n",
       "  </tbody>\n",
       "</table>\n",
       "</div>"
      ],
      "text/plain": [
       "                      min       max      mean       std  count    count %\n",
       "factor_quantile                                                          \n",
       "1               -0.045424  0.003454 -0.002372  0.003829  36697  10.102131\n",
       "2               -0.015570  0.004427 -0.000718  0.002200  36331  10.001376\n",
       "3               -0.011479  0.005109 -0.000198  0.001831  36143   9.949623\n",
       "4               -0.009567  0.005765  0.000148  0.001649  36396  10.019270\n",
       "5               -0.008501  0.006417  0.000435  0.001556  36269   9.984309\n",
       "6               -0.007557  0.008862  0.000704  0.001541  36171   9.957331\n",
       "7               -0.006271  0.012502  0.000990  0.001604  36209   9.967792\n",
       "8               -0.005156  0.016861  0.001339  0.001745  36299   9.992567\n",
       "9               -0.003432  0.021773  0.001874  0.002061  36140   9.948797\n",
       "10              -0.002104  0.038375  0.003668  0.003624  36605  10.076804"
      ]
     },
     "metadata": {},
     "output_type": "display_data"
    },
    {
     "name": "stdout",
     "output_type": "stream",
     "text": [
      "Returns Analysis\n"
     ]
    },
    {
     "data": {
      "text/html": [
       "<div>\n",
       "<style scoped>\n",
       "    .dataframe tbody tr th:only-of-type {\n",
       "        vertical-align: middle;\n",
       "    }\n",
       "\n",
       "    .dataframe tbody tr th {\n",
       "        vertical-align: top;\n",
       "    }\n",
       "\n",
       "    .dataframe thead th {\n",
       "        text-align: right;\n",
       "    }\n",
       "</style>\n",
       "<table border=\"1\" class=\"dataframe\">\n",
       "  <thead>\n",
       "    <tr style=\"text-align: right;\">\n",
       "      <th></th>\n",
       "      <th>1D</th>\n",
       "      <th>2D</th>\n",
       "      <th>3D</th>\n",
       "      <th>5D</th>\n",
       "    </tr>\n",
       "  </thead>\n",
       "  <tbody>\n",
       "    <tr>\n",
       "      <th>Ann. alpha</th>\n",
       "      <td>0.086</td>\n",
       "      <td>0.018</td>\n",
       "      <td>-0.022</td>\n",
       "      <td>-0.012</td>\n",
       "    </tr>\n",
       "    <tr>\n",
       "      <th>beta</th>\n",
       "      <td>0.037</td>\n",
       "      <td>0.084</td>\n",
       "      <td>0.084</td>\n",
       "      <td>0.088</td>\n",
       "    </tr>\n",
       "    <tr>\n",
       "      <th>Mean Period Wise Return Top Quantile (bps)</th>\n",
       "      <td>2.087</td>\n",
       "      <td>-0.308</td>\n",
       "      <td>-1.737</td>\n",
       "      <td>-1.994</td>\n",
       "    </tr>\n",
       "    <tr>\n",
       "      <th>Mean Period Wise Return Bottom Quantile (bps)</th>\n",
       "      <td>-7.557</td>\n",
       "      <td>-4.250</td>\n",
       "      <td>-2.166</td>\n",
       "      <td>-2.502</td>\n",
       "    </tr>\n",
       "    <tr>\n",
       "      <th>Mean Period Wise Spread (bps)</th>\n",
       "      <td>9.644</td>\n",
       "      <td>3.912</td>\n",
       "      <td>0.407</td>\n",
       "      <td>0.474</td>\n",
       "    </tr>\n",
       "  </tbody>\n",
       "</table>\n",
       "</div>"
      ],
      "text/plain": [
       "                                                  1D     2D     3D     5D\n",
       "Ann. alpha                                     0.086  0.018 -0.022 -0.012\n",
       "beta                                           0.037  0.084  0.084  0.088\n",
       "Mean Period Wise Return Top Quantile (bps)     2.087 -0.308 -1.737 -1.994\n",
       "Mean Period Wise Return Bottom Quantile (bps) -7.557 -4.250 -2.166 -2.502\n",
       "Mean Period Wise Spread (bps)                  9.644  3.912  0.407  0.474"
      ]
     },
     "metadata": {},
     "output_type": "display_data"
    },
    {
     "name": "stdout",
     "output_type": "stream",
     "text": [
      "Information Analysis\n"
     ]
    },
    {
     "data": {
      "text/html": [
       "<div>\n",
       "<style scoped>\n",
       "    .dataframe tbody tr th:only-of-type {\n",
       "        vertical-align: middle;\n",
       "    }\n",
       "\n",
       "    .dataframe tbody tr th {\n",
       "        vertical-align: top;\n",
       "    }\n",
       "\n",
       "    .dataframe thead th {\n",
       "        text-align: right;\n",
       "    }\n",
       "</style>\n",
       "<table border=\"1\" class=\"dataframe\">\n",
       "  <thead>\n",
       "    <tr style=\"text-align: right;\">\n",
       "      <th></th>\n",
       "      <th>1D</th>\n",
       "      <th>2D</th>\n",
       "      <th>3D</th>\n",
       "      <th>5D</th>\n",
       "    </tr>\n",
       "  </thead>\n",
       "  <tbody>\n",
       "    <tr>\n",
       "      <th>IC Mean</th>\n",
       "      <td>0.010</td>\n",
       "      <td>0.006</td>\n",
       "      <td>0.000</td>\n",
       "      <td>0.001</td>\n",
       "    </tr>\n",
       "    <tr>\n",
       "      <th>IC Std.</th>\n",
       "      <td>0.153</td>\n",
       "      <td>0.155</td>\n",
       "      <td>0.161</td>\n",
       "      <td>0.160</td>\n",
       "    </tr>\n",
       "    <tr>\n",
       "      <th>Risk-Adjusted IC</th>\n",
       "      <td>0.068</td>\n",
       "      <td>0.040</td>\n",
       "      <td>0.002</td>\n",
       "      <td>0.008</td>\n",
       "    </tr>\n",
       "    <tr>\n",
       "      <th>t-stat(IC)</th>\n",
       "      <td>1.867</td>\n",
       "      <td>1.089</td>\n",
       "      <td>0.058</td>\n",
       "      <td>0.216</td>\n",
       "    </tr>\n",
       "    <tr>\n",
       "      <th>p-value(IC)</th>\n",
       "      <td>0.062</td>\n",
       "      <td>0.276</td>\n",
       "      <td>0.953</td>\n",
       "      <td>0.829</td>\n",
       "    </tr>\n",
       "    <tr>\n",
       "      <th>IC Skew</th>\n",
       "      <td>0.112</td>\n",
       "      <td>0.128</td>\n",
       "      <td>0.254</td>\n",
       "      <td>0.280</td>\n",
       "    </tr>\n",
       "    <tr>\n",
       "      <th>IC Kurtosis</th>\n",
       "      <td>0.759</td>\n",
       "      <td>0.692</td>\n",
       "      <td>0.792</td>\n",
       "      <td>0.737</td>\n",
       "    </tr>\n",
       "  </tbody>\n",
       "</table>\n",
       "</div>"
      ],
      "text/plain": [
       "                     1D     2D     3D     5D\n",
       "IC Mean           0.010  0.006  0.000  0.001\n",
       "IC Std.           0.153  0.155  0.161  0.160\n",
       "Risk-Adjusted IC  0.068  0.040  0.002  0.008\n",
       "t-stat(IC)        1.867  1.089  0.058  0.216\n",
       "p-value(IC)       0.062  0.276  0.953  0.829\n",
       "IC Skew           0.112  0.128  0.254  0.280\n",
       "IC Kurtosis       0.759  0.692  0.792  0.737"
      ]
     },
     "metadata": {},
     "output_type": "display_data"
    },
    {
     "name": "stdout",
     "output_type": "stream",
     "text": [
      "Turnover Analysis\n"
     ]
    },
    {
     "data": {
      "text/html": [
       "<div>\n",
       "<style scoped>\n",
       "    .dataframe tbody tr th:only-of-type {\n",
       "        vertical-align: middle;\n",
       "    }\n",
       "\n",
       "    .dataframe tbody tr th {\n",
       "        vertical-align: top;\n",
       "    }\n",
       "\n",
       "    .dataframe thead th {\n",
       "        text-align: right;\n",
       "    }\n",
       "</style>\n",
       "<table border=\"1\" class=\"dataframe\">\n",
       "  <thead>\n",
       "    <tr style=\"text-align: right;\">\n",
       "      <th></th>\n",
       "      <th>1D</th>\n",
       "      <th>2D</th>\n",
       "      <th>3D</th>\n",
       "      <th>5D</th>\n",
       "    </tr>\n",
       "  </thead>\n",
       "  <tbody>\n",
       "    <tr>\n",
       "      <th>Quantile 1 Mean Turnover</th>\n",
       "      <td>0.661</td>\n",
       "      <td>0.715</td>\n",
       "      <td>0.737</td>\n",
       "      <td>0.700</td>\n",
       "    </tr>\n",
       "    <tr>\n",
       "      <th>Quantile 2 Mean Turnover</th>\n",
       "      <td>0.820</td>\n",
       "      <td>0.836</td>\n",
       "      <td>0.846</td>\n",
       "      <td>0.833</td>\n",
       "    </tr>\n",
       "    <tr>\n",
       "      <th>Quantile 3 Mean Turnover</th>\n",
       "      <td>0.850</td>\n",
       "      <td>0.856</td>\n",
       "      <td>0.862</td>\n",
       "      <td>0.855</td>\n",
       "    </tr>\n",
       "    <tr>\n",
       "      <th>Quantile 4 Mean Turnover</th>\n",
       "      <td>0.859</td>\n",
       "      <td>0.866</td>\n",
       "      <td>0.870</td>\n",
       "      <td>0.867</td>\n",
       "    </tr>\n",
       "    <tr>\n",
       "      <th>Quantile 5 Mean Turnover</th>\n",
       "      <td>0.861</td>\n",
       "      <td>0.869</td>\n",
       "      <td>0.872</td>\n",
       "      <td>0.867</td>\n",
       "    </tr>\n",
       "    <tr>\n",
       "      <th>Quantile 6 Mean Turnover</th>\n",
       "      <td>0.861</td>\n",
       "      <td>0.866</td>\n",
       "      <td>0.868</td>\n",
       "      <td>0.867</td>\n",
       "    </tr>\n",
       "    <tr>\n",
       "      <th>Quantile 7 Mean Turnover</th>\n",
       "      <td>0.852</td>\n",
       "      <td>0.864</td>\n",
       "      <td>0.866</td>\n",
       "      <td>0.864</td>\n",
       "    </tr>\n",
       "    <tr>\n",
       "      <th>Quantile 8 Mean Turnover</th>\n",
       "      <td>0.839</td>\n",
       "      <td>0.854</td>\n",
       "      <td>0.861</td>\n",
       "      <td>0.855</td>\n",
       "    </tr>\n",
       "    <tr>\n",
       "      <th>Quantile 9 Mean Turnover</th>\n",
       "      <td>0.801</td>\n",
       "      <td>0.822</td>\n",
       "      <td>0.834</td>\n",
       "      <td>0.826</td>\n",
       "    </tr>\n",
       "    <tr>\n",
       "      <th>Quantile 10 Mean Turnover</th>\n",
       "      <td>0.617</td>\n",
       "      <td>0.654</td>\n",
       "      <td>0.683</td>\n",
       "      <td>0.671</td>\n",
       "    </tr>\n",
       "  </tbody>\n",
       "</table>\n",
       "</div>"
      ],
      "text/plain": [
       "                               1D     2D     3D     5D\n",
       "Quantile 1 Mean Turnover    0.661  0.715  0.737  0.700\n",
       "Quantile 2 Mean Turnover    0.820  0.836  0.846  0.833\n",
       "Quantile 3 Mean Turnover    0.850  0.856  0.862  0.855\n",
       "Quantile 4 Mean Turnover    0.859  0.866  0.870  0.867\n",
       "Quantile 5 Mean Turnover    0.861  0.869  0.872  0.867\n",
       "Quantile 6 Mean Turnover    0.861  0.866  0.868  0.867\n",
       "Quantile 7 Mean Turnover    0.852  0.864  0.866  0.864\n",
       "Quantile 8 Mean Turnover    0.839  0.854  0.861  0.855\n",
       "Quantile 9 Mean Turnover    0.801  0.822  0.834  0.826\n",
       "Quantile 10 Mean Turnover   0.617  0.654  0.683  0.671"
      ]
     },
     "metadata": {},
     "output_type": "display_data"
    },
    {
     "data": {
      "text/html": [
       "<div>\n",
       "<style scoped>\n",
       "    .dataframe tbody tr th:only-of-type {\n",
       "        vertical-align: middle;\n",
       "    }\n",
       "\n",
       "    .dataframe tbody tr th {\n",
       "        vertical-align: top;\n",
       "    }\n",
       "\n",
       "    .dataframe thead th {\n",
       "        text-align: right;\n",
       "    }\n",
       "</style>\n",
       "<table border=\"1\" class=\"dataframe\">\n",
       "  <thead>\n",
       "    <tr style=\"text-align: right;\">\n",
       "      <th></th>\n",
       "      <th>1D</th>\n",
       "      <th>2D</th>\n",
       "      <th>3D</th>\n",
       "      <th>5D</th>\n",
       "    </tr>\n",
       "  </thead>\n",
       "  <tbody>\n",
       "    <tr>\n",
       "      <th>Mean Factor Rank Autocorrelation</th>\n",
       "      <td>0.375</td>\n",
       "      <td>0.312</td>\n",
       "      <td>0.266</td>\n",
       "      <td>0.316</td>\n",
       "    </tr>\n",
       "  </tbody>\n",
       "</table>\n",
       "</div>"
      ],
      "text/plain": [
       "                                     1D     2D     3D     5D\n",
       "Mean Factor Rank Autocorrelation  0.375  0.312  0.266  0.316"
      ]
     },
     "metadata": {},
     "output_type": "display_data"
    },
    {
     "data": {
      "text/plain": [
       "<Figure size 432x288 with 0 Axes>"
      ]
     },
     "metadata": {},
     "output_type": "display_data"
    },
    {
     "data": {
      "image/png": "[encoded data removed]",
      "text/plain": [
       "<Figure size 1008x7056 with 1 Axes>"
      ]
     },
     "metadata": {},
     "output_type": "display_data"
    }
   ],
   "source": [
    "create_summary_tear_sheet(factor_data)"
   ]
  }
 ],
 "metadata": {
  "kernelspec": {
   "display_name": "Python 3",
   "language": "python",
   "name": "python3"
  },
  "language_info": {
   "codemirror_mode": {
    "name": "ipython",
    "version": 3
   },
   "file_extension": ".py",
   "mimetype": "text/x-python",
   "name": "python",
   "nbconvert_exporter": "python",
   "pygments_lexer": "ipython3",
   "version": "3.8.6"
  },
  "toc": {
   "base_numbering": 1,
   "nav_menu": {},
   "number_sections": true,
   "sideBar": true,
   "skip_h1_title": true,
   "title_cell": "Table of Contents",
   "title_sidebar": "Contents",
   "toc_cell": false,
   "toc_position": {
    "height": "calc(100% - 180px)",
    "left": "10px",
    "top": "150px",
    "width": "292.016px"
   },
   "toc_section_display": true,
   "toc_window_display": false
  }
 },
 "nbformat": 4,
 "nbformat_minor": 4
}
