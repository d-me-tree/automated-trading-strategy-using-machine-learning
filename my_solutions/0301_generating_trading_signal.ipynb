{
 "cells": [
  {
   "cell_type": "code",
   "execution_count": 1,
   "metadata": {},
   "outputs": [],
   "source": [
    "import warnings\n",
    "warnings.filterwarnings('ignore')"
   ]
  },
  {
   "cell_type": "code",
   "execution_count": 47,
   "metadata": {},
   "outputs": [],
   "source": [
    "import pandas as pd\n",
    "import numpy as np\n",
    "\n",
    "%matplotlib inline\n",
    "import matplotlib.pyplot as plt\n",
    "import seaborn as sns"
   ]
  },
  {
   "cell_type": "code",
   "execution_count": 3,
   "metadata": {},
   "outputs": [],
   "source": [
    "np.random.seed(42)\n",
    "idx = pd.IndexSlice"
   ]
  },
  {
   "cell_type": "markdown",
   "metadata": {},
   "source": [
    "## Cross-validation in the time-series context\n",
    "poses the additional challenge that train and validation sets need to respect the temporal order of the data so that we do not inadvertently train the model on data ‘from the future’ to predict the past, introducing lookahead bias. Scikit-learn’s built-in [TimeSeriesSplit](https://scikit-learn.org/stable/modules/generated/sklearn.model_selection.TimeSeriesSplit.html) aims to accomplish this, but does not work for this case because we have multiple time series, one for each ticker. We could solve this by manually subsetting the data for the appropriate train and validation periods. Alternatively, we can create a custom time-series splitter compatible with the scikit-learn Kfold interface (see [Resources](https://scikit-learn.org/stable/modules/cross_validation.html#cross-validation)). Here is an [example](https://github.com/stefan-jansen/machine-learning-for-trading/blob/master/utils.py) that illustrates how to do so for this case. This allows us to specify fixed `train_length` and `test_length` parameters, as well as a lookahead value that defines the forecast horizon and ensures an appropriate gap between the training and validation set."
   ]
  },
  {
   "cell_type": "code",
   "execution_count": 23,
   "metadata": {},
   "outputs": [
    {
     "name": "stdout",
     "output_type": "stream",
     "text": [
      "<class 'pandas.core.frame.DataFrame'>\n",
      "MultiIndex: 1365787 entries, ('A', Timestamp('2006-01-03 00:00:00')) to ('ZMH', Timestamp('2015-06-25 00:00:00'))\n",
      "Data columns (total 37 columns):\n",
      " #   Column       Non-Null Count    Dtype  \n",
      "---  ------       --------------    -----  \n",
      " 0   ret_01       1365287 non-null  float64\n",
      " 1   ret_03       1364287 non-null  float64\n",
      " 2   ret_05       1363287 non-null  float64\n",
      " 3   ret_10       1360787 non-null  float64\n",
      " 4   ret_21       1355287 non-null  float64\n",
      " 5   ret_42       1344787 non-null  float64\n",
      " 6   ret_63       1334287 non-null  float64\n",
      " 7   ret_126      1302787 non-null  float64\n",
      " 8   ret_252      1239787 non-null  float64\n",
      " 9   ret_fwd      1365787 non-null  float64\n",
      " 10  BB_UP        1356287 non-null  float64\n",
      " 11  BB_LOW       1356287 non-null  float64\n",
      " 12  BB_SQUEEZE   1356287 non-null  float64\n",
      " 13  ADX          1352287 non-null  float64\n",
      " 14  MACD         1349287 non-null  float64\n",
      " 15  MACD_SIGNAL  1349287 non-null  float64\n",
      " 16  MACD_HIST    1349287 non-null  float64\n",
      " 17  RSI          1358787 non-null  float64\n",
      " 18  BOP          1365787 non-null  float64\n",
      " 19  MFI          1358787 non-null  float64\n",
      " 20  OBV          1365786 non-null  float64\n",
      " 21  ADOSC        1359271 non-null  float64\n",
      " 22  ATR          1358787 non-null  float64\n",
      " 23  ALPHA_63     1334287 non-null  float64\n",
      " 24  MARKET_63    1334287 non-null  float64\n",
      " 25  SMB_63       1334287 non-null  float64\n",
      " 26  HML_63       1334287 non-null  float64\n",
      " 27  RMW_63       1334287 non-null  float64\n",
      " 28  CMA_63       1334287 non-null  float64\n",
      " 29  ALPHA_252    1239787 non-null  float64\n",
      " 30  MARKET_252   1239787 non-null  float64\n",
      " 31  SMB_252      1239787 non-null  float64\n",
      " 32  HML_252      1239787 non-null  float64\n",
      " 33  RMW_252      1239787 non-null  float64\n",
      " 34  CMA_252      1239787 non-null  float64\n",
      " 35  month        1365787 non-null  uint8  \n",
      " 36  weekday      1365787 non-null  uint8  \n",
      "dtypes: float64(35), uint8(2)\n",
      "memory usage: 372.9+ MB\n"
     ]
    }
   ],
   "source": [
    "data = pd.read_hdf('us_stocks.h5', 'model_data')\n",
    "\n",
    "data.info()"
   ]
  },
  {
   "cell_type": "code",
   "execution_count": 24,
   "metadata": {},
   "outputs": [],
   "source": [
    "target = 'ret_fwd'\n",
    "features = data.columns.drop(target)\n",
    "categoricals = ['month', 'weekday']"
   ]
  },
  {
   "cell_type": "markdown",
   "metadata": {},
   "source": [
    "## Custom Time Series Cross-Validation\n",
    "\n",
    "[source](https://github.com/stefan-jansen/machine-learning-for-trading/blob/master/utils.py)"
   ]
  },
  {
   "cell_type": "code",
   "execution_count": 14,
   "metadata": {},
   "outputs": [],
   "source": [
    "class MultipleTimeSeriesCV:\n",
    "    \"\"\"Generates tuples of train_idx, test_idx pairs\n",
    "    Assumes the MultiIndex contains levels 'symbol' and 'date'\n",
    "    purges overlapping outcomes\"\"\"\n",
    "\n",
    "    def __init__(self,\n",
    "                 n_splits=3,\n",
    "                 train_period_length=126,\n",
    "                 test_period_length=21,\n",
    "                 lookahead=None,\n",
    "                 date_idx='date',\n",
    "                 shuffle=False):\n",
    "        self.n_splits = n_splits\n",
    "        self.lookahead = lookahead\n",
    "        self.test_length = test_period_length\n",
    "        self.train_length = train_period_length\n",
    "        self.shuffle = shuffle\n",
    "        self.date_idx = date_idx\n",
    "\n",
    "    def split(self, X, y=None, groups=None):\n",
    "        unique_dates = X.index.get_level_values(self.date_idx).unique()\n",
    "        days = sorted(unique_dates, reverse=True)\n",
    "        split_idx = []\n",
    "        for i in range(self.n_splits):\n",
    "            test_end_idx = i * self.test_length\n",
    "            test_start_idx = test_end_idx + self.test_length\n",
    "            train_end_idx = test_start_idx + self.lookahead - 1\n",
    "            train_start_idx = train_end_idx + self.train_length + self.lookahead - 1\n",
    "            split_idx.append([train_start_idx, train_end_idx,\n",
    "                              test_start_idx, test_end_idx])\n",
    "\n",
    "        dates = X.reset_index()[[self.date_idx]]\n",
    "        for train_start, train_end, test_start, test_end in split_idx:\n",
    "\n",
    "            train_idx = dates[(dates[self.date_idx] > days[train_start])\n",
    "                              & (dates.date <= days[train_end])].index\n",
    "            test_idx = dates[(dates.date > days[test_start])\n",
    "                             & (dates.date <= days[test_end])].index\n",
    "            if self.shuffle:\n",
    "                np.random.shuffle(list(train_idx))\n",
    "            yield train_idx.to_numpy(), test_idx.to_numpy()\n",
    "\n",
    "    def get_n_splits(self, X, y, groups=None):\n",
    "        return self.n_splits"
   ]
  },
  {
   "cell_type": "markdown",
   "metadata": {},
   "source": [
    "## Model Selection: Lookback, lookahead and roll-forward periods"
   ]
  },
  {
   "cell_type": "markdown",
   "metadata": {},
   "source": [
    "We'll use five years of training data to predict the 1-day forward returns for the following three months for all models."
   ]
  },
  {
   "cell_type": "code",
   "execution_count": 25,
   "metadata": {},
   "outputs": [],
   "source": [
    "YEAR = 252 # days\n",
    "MONTH = 21 # days = 252 / 12\n",
    "\n",
    "train_length = 5 * YEAR\n",
    "test_length = 3 * MONTH\n",
    "\n",
    "lookahead = 1"
   ]
  },
  {
   "cell_type": "markdown",
   "metadata": {},
   "source": [
    "We'll create 16 quarters worth of out-of-sample predictions so we can select the past 4 quarters to select a model for a subsequent quarter with three years total of out-of-sample forecasts."
   ]
  },
  {
   "cell_type": "code",
   "execution_count": 16,
   "metadata": {},
   "outputs": [],
   "source": [
    "n_splits = 16"
   ]
  },
  {
   "cell_type": "code",
   "execution_count": 26,
   "metadata": {},
   "outputs": [],
   "source": [
    "cv = MultipleTimeSeriesCV(n_splits=n_splits,\n",
    "                          test_period_length=test_length,\n",
    "                          lookahead=lookahead,\n",
    "                          train_period_length=train_length)"
   ]
  },
  {
   "cell_type": "markdown",
   "metadata": {},
   "source": [
    "Show rolling cross-validation periods - note that the folds move backwards in time:"
   ]
  },
  {
   "cell_type": "code",
   "execution_count": 27,
   "metadata": {},
   "outputs": [
    {
     "name": "stdout",
     "output_type": "stream",
     "text": [
      "Split: 00 | # Train: 2011-09-28 - 2016-09-29 (1,260 days) | Test: 2016-09-30 - 2016-12-29 (63 days)\n",
      "Split: 01 | # Train: 2011-06-29 - 2016-06-30 (1,260 days) | Test: 2016-07-01 - 2016-09-29 (63 days)\n",
      "Split: 02 | # Train: 2011-03-30 - 2016-04-01 (1,260 days) | Test: 2016-04-04 - 2016-06-30 (63 days)\n",
      "Split: 03 | # Train: 2010-12-29 - 2015-12-30 (1,260 days) | Test: 2015-12-31 - 2016-04-01 (63 days)\n",
      "Split: 04 | # Train: 2010-09-29 - 2015-09-30 (1,260 days) | Test: 2015-10-01 - 2015-12-30 (63 days)\n",
      "Split: 05 | # Train: 2010-06-30 - 2015-07-01 (1,260 days) | Test: 2015-07-02 - 2015-09-30 (63 days)\n",
      "Split: 06 | # Train: 2010-03-31 - 2015-04-01 (1,260 days) | Test: 2015-04-02 - 2015-07-01 (63 days)\n",
      "Split: 07 | # Train: 2009-12-29 - 2014-12-30 (1,260 days) | Test: 2014-12-31 - 2015-04-01 (63 days)\n",
      "Split: 08 | # Train: 2009-09-29 - 2014-09-30 (1,260 days) | Test: 2014-10-01 - 2014-12-30 (63 days)\n",
      "Split: 09 | # Train: 2009-06-30 - 2014-07-01 (1,260 days) | Test: 2014-07-02 - 2014-09-30 (63 days)\n",
      "Split: 10 | # Train: 2009-03-31 - 2014-04-01 (1,260 days) | Test: 2014-04-02 - 2014-07-01 (63 days)\n",
      "Split: 11 | # Train: 2008-12-29 - 2013-12-30 (1,260 days) | Test: 2013-12-31 - 2014-04-01 (63 days)\n",
      "Split: 12 | # Train: 2008-09-29 - 2013-09-30 (1,260 days) | Test: 2013-10-01 - 2013-12-30 (63 days)\n",
      "Split: 13 | # Train: 2008-06-30 - 2013-07-01 (1,260 days) | Test: 2013-07-02 - 2013-09-30 (63 days)\n",
      "Split: 14 | # Train: 2008-04-01 - 2013-04-02 (1,260 days) | Test: 2013-04-03 - 2013-07-01 (63 days)\n",
      "Split: 15 | # Train: 2007-12-28 - 2012-12-28 (1,260 days) | Test: 2012-12-31 - 2013-04-02 (63 days)\n"
     ]
    }
   ],
   "source": [
    "for n_split, (train_idx, test_idx) in enumerate(cv.split(X=data)):\n",
    "    train = data.iloc[train_idx]\n",
    "    train_dates = train.index.get_level_values('date')\n",
    "    \n",
    "    test = data.iloc[test_idx]\n",
    "    test_dates = test.index.get_level_values('date')\n",
    "    \n",
    "    train_days = train.groupby(level='ticker').size().value_counts().index[0]\n",
    "    train_start, train_end = train_dates.min().date(), train_dates.max().date()\n",
    "    \n",
    "    test_days = test.groupby(level='ticker').size().value_counts().index[0]\n",
    "    test_start, test_end = test_dates.min().date(), test_dates.max().date()\n",
    "                                                  \n",
    "    print(f'Split: {n_split:02} | # Train: {train_start} - {train_end} ({train_days:5,.0f} days) | '\n",
    "          f'Test: {test_start} - {test_end} ({test_days} days)')"
   ]
  },
  {
   "cell_type": "markdown",
   "metadata": {},
   "source": [
    "## Baseline: Linear Regression\n",
    "\n",
    "To establish a baseline, train a [LinearRegression](https://scikit-learn.org/stable/modules/generated/sklearn.linear_model.LinearRegression.html) using five years of training data to predict rolling windows of three months of returns for the years 2013–2016. Evaluate the results by computing the information coefficient (IC) as the Spearman rank correlation between the predictions and the actual returns, averaged per day."
   ]
  },
  {
   "cell_type": "markdown",
   "metadata": {},
   "source": [
    "### One-hot encoding"
   ]
  },
  {
   "cell_type": "code",
   "execution_count": 28,
   "metadata": {},
   "outputs": [],
   "source": [
    "df = (pd.get_dummies(data, columns=categoricals, drop_first=True)\n",
    "      .dropna()\n",
    "      .sort_index())\n",
    "\n",
    "X = df.drop(target, axis=1)\n",
    "y = df[target]"
   ]
  },
  {
   "cell_type": "markdown",
   "metadata": {},
   "source": [
    "### Run cross-validation"
   ]
  },
  {
   "cell_type": "markdown",
   "metadata": {},
   "source": [
    "Instantiate a `LinearRegression` object"
   ]
  },
  {
   "cell_type": "code",
   "execution_count": 29,
   "metadata": {},
   "outputs": [],
   "source": [
    "from sklearn.linear_model import LinearRegression\n",
    "\n",
    "lr = LinearRegression()"
   ]
  },
  {
   "cell_type": "markdown",
   "metadata": {},
   "source": [
    "Train and predict for each fold, capturing the predictions."
   ]
  },
  {
   "cell_type": "code",
   "execution_count": 30,
   "metadata": {},
   "outputs": [
    {
     "name": "stdout",
     "output_type": "stream",
     "text": [
      "CPU times: user 1min 10s, sys: 8.33 s, total: 1min 18s\n",
      "Wall time: 29 s\n"
     ]
    }
   ],
   "source": [
    "%%time\n",
    "lr_preds = []\n",
    "for i, (train_idx, test_idx) in enumerate(cv.split(X=X)):\n",
    "    X_train, y_train = X.iloc[train_idx], y.iloc[train_idx]\n",
    "    X_test, y_test = X.iloc[test_idx], y.iloc[test_idx]\n",
    "    lr.fit(X_train, y_train)\n",
    "    y_pred = lr.predict(X_test)\n",
    "    lr_preds.append(y_test.to_frame('y_true').assign(y_pred=y_pred))\n",
    "lr_preds = pd.concat(lr_preds)"
   ]
  },
  {
   "cell_type": "code",
   "execution_count": 31,
   "metadata": {},
   "outputs": [
    {
     "name": "stdout",
     "output_type": "stream",
     "text": [
      "<class 'pandas.core.frame.DataFrame'>\n",
      "MultiIndex: 492688 entries, ('A', Timestamp('2016-09-30 00:00:00')) to ('ZMH', Timestamp('2013-04-02 00:00:00'))\n",
      "Data columns (total 2 columns):\n",
      " #   Column  Non-Null Count   Dtype  \n",
      "---  ------  --------------   -----  \n",
      " 0   y_true  492688 non-null  float64\n",
      " 1   y_pred  492688 non-null  float64\n",
      "dtypes: float64(2)\n",
      "memory usage: 9.4+ MB\n"
     ]
    }
   ],
   "source": [
    "lr_preds.info()"
   ]
  },
  {
   "cell_type": "code",
   "execution_count": 32,
   "metadata": {},
   "outputs": [],
   "source": [
    "lr_preds.to_hdf('predictions.h5', key='linear_regression', mode='w')"
   ]
  },
  {
   "cell_type": "markdown",
   "metadata": {},
   "source": [
    "### Evaluate Predictions using the Information Coefficient\n",
    "\n",
    "The information coefficient (IC) is a measure of the forecasting skill.  \n",
    "The IC measures the correlation between an alpha factor and the forward returns resulting from its signals and captures the accuracy of a manager's forecasting skills.\n",
    "\n",
    "[Source](https://github.com/stefan-jansen/machine-learning-for-trading/blob/c7e508dbe98e064887faeca65a45966e85af1c96/05_strategy_evaluation/README.md#the-fundamental-law-of-active-management)"
   ]
  },
  {
   "cell_type": "code",
   "execution_count": 34,
   "metadata": {},
   "outputs": [
    {
     "data": {
      "text/plain": [
       "'0.0274 (0.00%)'"
      ]
     },
     "execution_count": 34,
     "metadata": {},
     "output_type": "execute_result"
    }
   ],
   "source": [
    "from scipy.stats import spearmanr\n",
    "\n",
    "lr_ic, p = spearmanr(lr_preds.y_true, lr_preds.y_pred)\n",
    "f'{lr_ic:.4f} ({p:.2%})'"
   ]
  },
  {
   "cell_type": "markdown",
   "metadata": {},
   "source": [
    "Across all sample days, the IC is around 2.74."
   ]
  },
  {
   "cell_type": "code",
   "execution_count": 36,
   "metadata": {},
   "outputs": [
    {
     "data": {
      "text/plain": [
       "mean    0.011056\n",
       "std     0.159767\n",
       "min    -0.531138\n",
       "25%    -0.072993\n",
       "50%     0.011850\n",
       "75%     0.102618\n",
       "max     0.612525\n",
       "dtype: float64"
      ]
     },
     "execution_count": 36,
     "metadata": {},
     "output_type": "execute_result"
    }
   ],
   "source": [
    "daily_ic_lr = lr_preds.groupby(level='date').apply(lambda x: spearmanr(x.y_true, x.y_pred)[0])\n",
    "\n",
    "daily_ic_lr.describe().iloc[1:]"
   ]
  },
  {
   "cell_type": "markdown",
   "metadata": {},
   "source": [
    "On a daily basis - which is more relevant because we will be trading on the predictions for a given day - the IC has a mean of 1.1 and a median of 1.19."
   ]
  },
  {
   "cell_type": "markdown",
   "metadata": {},
   "source": [
    "## Regularized Linear Regression\n",
    "\n",
    "Next, we’ll use regularized regression models that include a penalty term to shrink the coefficients and limit the risk of overfitting. Cross-validate a range of `alpha` penalty values for [Lasso](https://scikit-learn.org/stable/modules/generated/sklearn.linear_model.Lasso.html) and [Ridge](https://scikit-learn.org/stable/modules/generated/sklearn.linear_model.Ridge.html#sklearn.linear_model.Ridge) using the same training and validation periods as for the linear regression baseline and compare their performance."
   ]
  },
  {
   "cell_type": "markdown",
   "metadata": {},
   "source": [
    "We define a range of `alpha` penalty values (see [docs](https://scikit-learn.org/stable/modules/generated/sklearn.linear_model.Ridge.html))"
   ]
  },
  {
   "cell_type": "code",
   "execution_count": 37,
   "metadata": {},
   "outputs": [
    {
     "data": {
      "text/plain": [
       "array([1.e-05, 1.e-03, 1.e-01, 1.e+01, 1.e+03, 1.e+05, 1.e+07, 1.e+09,\n",
       "       1.e+11, 1.e+13, 1.e+15])"
      ]
     },
     "execution_count": 37,
     "metadata": {},
     "output_type": "execute_result"
    }
   ],
   "source": [
    "ridge_alphas = np.logspace(-5, 15, 21)[::2]\n",
    "ridge_alphas"
   ]
  },
  {
   "cell_type": "markdown",
   "metadata": {},
   "source": [
    "### Ridge Regression"
   ]
  },
  {
   "cell_type": "markdown",
   "metadata": {},
   "source": [
    "The hyperparameter `alpha` implies an additional inner for loop that generates predictions for each fold and `alpha` value:"
   ]
  },
  {
   "cell_type": "code",
   "execution_count": 39,
   "metadata": {},
   "outputs": [],
   "source": [
    "from sklearn.linear_model import Ridge\n",
    "from sklearn.preprocessing import MinMaxScaler"
   ]
  },
  {
   "cell_type": "code",
   "execution_count": 40,
   "metadata": {},
   "outputs": [
    {
     "name": "stdout",
     "output_type": "stream",
     "text": [
      "0 1 2 3 4 5 6 7 8 9 10 11 12 13 14 15 CPU times: user 2min 42s, sys: 40.5 s, total: 3min 23s\n",
      "Wall time: 1min\n"
     ]
    }
   ],
   "source": [
    "%%time\n",
    "\n",
    "ridge_preds = []\n",
    "scaler = MinMaxScaler()\n",
    "for i, (train_idx, test_idx) in enumerate(cv.split(X=X)):\n",
    "    print(f'{i}', end=' ', flush=True)\n",
    "    X_train, y_train = X.iloc[train_idx], y.iloc[train_idx]\n",
    "    X_train = scaler.fit_transform(X_train)\n",
    "    X_test, y_test = X.iloc[test_idx], y.iloc[test_idx]\n",
    "    X_test = scaler.transform(X_test)\n",
    "    cv_predictions = []\n",
    "    for alpha in ridge_alphas:\n",
    "        ridge = Ridge(alpha=alpha)\n",
    "        ridge.fit(X_train, y_train)\n",
    "        y_pred = ridge.predict(X_test)\n",
    "        cv_predictions.append(pd.DataFrame({alpha: y_pred},\n",
    "                                           index=y_test.index))\n",
    "    ridge_preds.append(pd.concat(cv_predictions, axis=1).assign(y_test=y_test))\n",
    "\n",
    "ridge_preds = pd.concat(ridge_preds)"
   ]
  },
  {
   "cell_type": "markdown",
   "metadata": {},
   "source": [
    "#### Evaluate Predictions"
   ]
  },
  {
   "cell_type": "code",
   "execution_count": 41,
   "metadata": {},
   "outputs": [],
   "source": [
    "ic_by_day_ridge = {}\n",
    "for alpha in ridge_alphas:\n",
    "    ic_by_day_ridge[alpha] = (ridge_preds.groupby(level='date')\n",
    "                              .apply(lambda x: spearmanr(x[alpha], x.y_test)[0])\n",
    "                              .mean())"
   ]
  },
  {
   "cell_type": "code",
   "execution_count": 45,
   "metadata": {},
   "outputs": [
    {
     "data": {
      "text/plain": [
       "10.0"
      ]
     },
     "execution_count": 45,
     "metadata": {},
     "output_type": "execute_result"
    }
   ],
   "source": [
    "best_alpha_ridge = pd.Series(ic_by_day_ridge).idxmax()\n",
    "best_alpha_ridge\n",
    "\n",
    "best_ic_by_day_ridge = (ridge_preds.groupby(level='date')\n",
    "                        .apply(lambda x: spearmanr(x[best_alpha_ridge], x.y_test)[0]))"
   ]
  },
  {
   "cell_type": "code",
   "execution_count": 46,
   "metadata": {},
   "outputs": [
    {
     "data": {
      "text/plain": [
       "mean    0.011057\n",
       "std     0.160635\n",
       "min    -0.529490\n",
       "25%    -0.080561\n",
       "50%     0.011677\n",
       "75%     0.101184\n",
       "max     0.599590\n",
       "dtype: float64"
      ]
     },
     "execution_count": 46,
     "metadata": {},
     "output_type": "execute_result"
    }
   ],
   "source": [
    "best_ic_by_day_ridge.describe().iloc[1:]"
   ]
  },
  {
   "cell_type": "code",
   "execution_count": 48,
   "metadata": {},
   "outputs": [
    {
     "data": {
      "image/png": "[encoded data removed]",
      "text/plain": [
       "<Figure size 1008x288 with 1 Axes>"
      ]
     },
     "metadata": {
      "needs_background": "light"
     },
     "output_type": "display_data"
    }
   ],
   "source": [
    "ax = pd.Series(ic_by_day_ridge).plot(figsize=(14, 4),\n",
    "                                     logx=True,\n",
    "                                     title='Ridge Regression Cross-Validation Performance')\n",
    "ax.axvline(best_alpha_ridge, c='k', ls='--', lw=1)\n",
    "ax.set_ylabel('Daily IC (Mean)')\n",
    "ax.set_xlabel('Alpha')\n",
    "sns.despine()\n",
    "plt.tight_layout();"
   ]
  },
  {
   "cell_type": "markdown",
   "metadata": {},
   "source": [
    "#### Persist results"
   ]
  },
  {
   "cell_type": "code",
   "execution_count": 49,
   "metadata": {},
   "outputs": [],
   "source": [
    "ridge_preds[best_alpha_ridge].to_hdf('predictions.h5', key='ridge_regression', mode='a')"
   ]
  },
  {
   "cell_type": "markdown",
   "metadata": {},
   "source": [
    "### Lasso Regression"
   ]
  },
  {
   "cell_type": "code",
   "execution_count": 50,
   "metadata": {},
   "outputs": [
    {
     "data": {
      "text/plain": [
       "array([1.e-15, 1.e-14, 1.e-13, 1.e-12, 1.e-11, 1.e-10, 1.e-09, 1.e-08,\n",
       "       1.e-07, 1.e-06, 1.e-05])"
      ]
     },
     "execution_count": 50,
     "metadata": {},
     "output_type": "execute_result"
    }
   ],
   "source": [
    "lasso_alphas = np.logspace(-15, -5, 11)\n",
    "lasso_alphas"
   ]
  },
  {
   "cell_type": "code",
   "execution_count": 51,
   "metadata": {},
   "outputs": [],
   "source": [
    "from sklearn.linear_model import Lasso"
   ]
  },
  {
   "cell_type": "code",
   "execution_count": 52,
   "metadata": {},
   "outputs": [
    {
     "name": "stdout",
     "output_type": "stream",
     "text": [
      "\n",
      "Fold 0\n",
      "1e-15 1e-14 1e-13 1e-12 1e-11 1e-10 1e-09 1e-08 1e-07 1e-06 1e-05 \n",
      "Fold 1\n",
      "1e-15 1e-14 1e-13 1e-12 1e-11 1e-10 1e-09 1e-08 1e-07 1e-06 1e-05 \n",
      "Fold 2\n",
      "1e-15 1e-14 1e-13 1e-12 1e-11 1e-10 1e-09 1e-08 1e-07 1e-06 1e-05 \n",
      "Fold 3\n",
      "1e-15 1e-14 1e-13 1e-12 1e-11 1e-10 1e-09 1e-08 1e-07 1e-06 1e-05 \n",
      "Fold 4\n",
      "1e-15 1e-14 1e-13 1e-12 1e-11 1e-10 1e-09 1e-08 1e-07 1e-06 1e-05 \n",
      "Fold 5\n",
      "1e-15 1e-14 1e-13 1e-12 1e-11 1e-10 1e-09 1e-08 1e-07 1e-06 1e-05 \n",
      "Fold 6\n",
      "1e-15 1e-14 1e-13 1e-12 1e-11 1e-10 1e-09 1e-08 1e-07 1e-06 1e-05 \n",
      "Fold 7\n",
      "1e-15 1e-14 1e-13 1e-12 1e-11 1e-10 1e-09 1e-08 1e-07 1e-06 1e-05 \n",
      "Fold 8\n",
      "1e-15 1e-14 1e-13 1e-12 1e-11 1e-10 1e-09 1e-08 1e-07 1e-06 1e-05 \n",
      "Fold 9\n",
      "1e-15 1e-14 1e-13 1e-12 1e-11 1e-10 1e-09 1e-08 1e-07 1e-06 1e-05 \n",
      "Fold 10\n",
      "1e-15 1e-14 1e-13 1e-12 1e-11 1e-10 1e-09 1e-08 1e-07 1e-06 1e-05 \n",
      "Fold 11\n",
      "1e-15 1e-14 1e-13 1e-12 1e-11 1e-10 1e-09 1e-08 1e-07 1e-06 1e-05 \n",
      "Fold 12\n",
      "1e-15 1e-14 1e-13 1e-12 1e-11 1e-10 1e-09 1e-08 1e-07 1e-06 1e-05 \n",
      "Fold 13\n",
      "1e-15 1e-14 1e-13 1e-12 1e-11 1e-10 1e-09 1e-08 1e-07 1e-06 1e-05 \n",
      "Fold 14\n",
      "1e-15 1e-14 1e-13 1e-12 1e-11 1e-10 1e-09 1e-08 1e-07 1e-06 1e-05 \n",
      "Fold 15\n",
      "1e-15 1e-14 1e-13 1e-12 1e-11 1e-10 1e-09 1e-08 1e-07 1e-06 1e-05 CPU times: user 10h 5min 39s, sys: 7min 1s, total: 10h 12min 40s\n",
      "Wall time: 9h 59min 9s\n"
     ]
    }
   ],
   "source": [
    "%%time\n",
    "\n",
    "lasso_preds = []\n",
    "scaler = MinMaxScaler()\n",
    "for i, (train_idx, test_idx) in enumerate(cv.split(X=X)):\n",
    "    print(f'\\nFold {i}')\n",
    "    X_train, y_train = X.iloc[train_idx], y.iloc[train_idx]\n",
    "    X_test, y_test = X.iloc[test_idx], y.iloc[test_idx]\n",
    "    X_train = scaler.fit_transform(X_train)\n",
    "    X_test, y_test = X.iloc[test_idx], y.iloc[test_idx]\n",
    "    X_test = scaler.transform(X_test)    \n",
    "    cv_predictions = []\n",
    "    for alpha in lasso_alphas:\n",
    "        print(f'{alpha:.0e}', end=' ', flush=True)\n",
    "        lasso = Lasso(alpha=alpha)\n",
    "        lasso.fit(X_train, y_train)\n",
    "        y_pred = lasso.predict(X_test)\n",
    "        cv_predictions.append(pd.DataFrame({alpha: y_pred},\n",
    "                                           index=y_test.index))\n",
    "    lasso_preds.append(pd.concat(cv_predictions, axis=1).assign(y_test=y_test))\n",
    "\n",
    "lasso_preds = pd.concat(lasso_preds)"
   ]
  },
  {
   "cell_type": "markdown",
   "metadata": {},
   "source": [
    "#### Evaluate Predictions"
   ]
  },
  {
   "cell_type": "code",
   "execution_count": 53,
   "metadata": {},
   "outputs": [],
   "source": [
    "ic_by_day_lasso = {}\n",
    "for alpha in lasso_alphas:\n",
    "    ic_by_day_lasso[alpha] = (lasso_preds.groupby(level='date')\n",
    "                              .apply(lambda x: spearmanr(x[alpha], x.y_test)[0]).mean())"
   ]
  },
  {
   "cell_type": "code",
   "execution_count": 54,
   "metadata": {},
   "outputs": [
    {
     "data": {
      "text/plain": [
       "1.000000e-15    0.011053\n",
       "1.000000e-14    0.011053\n",
       "1.000000e-13    0.011053\n",
       "1.000000e-12    0.011053\n",
       "1.000000e-11    0.011052\n",
       "1.000000e-10    0.011052\n",
       "1.000000e-09    0.011054\n",
       "1.000000e-08    0.011052\n",
       "1.000000e-07    0.011086\n",
       "1.000000e-06    0.011744\n",
       "1.000000e-05    0.009853\n",
       "dtype: float64"
      ]
     },
     "execution_count": 54,
     "metadata": {},
     "output_type": "execute_result"
    }
   ],
   "source": [
    "pd.Series(ic_by_day_lasso)"
   ]
  },
  {
   "cell_type": "code",
   "execution_count": 55,
   "metadata": {},
   "outputs": [
    {
     "data": {
      "text/plain": [
       "1e-06"
      ]
     },
     "execution_count": 55,
     "metadata": {},
     "output_type": "execute_result"
    }
   ],
   "source": [
    "best_alpha_lasso = pd.Series(ic_by_day_lasso).idxmax()\n",
    "best_alpha_lasso"
   ]
  },
  {
   "cell_type": "code",
   "execution_count": 58,
   "metadata": {},
   "outputs": [
    {
     "data": {
      "text/plain": [
       "mean    0.011744\n",
       "std     0.162174\n",
       "min    -0.510554\n",
       "25%    -0.080682\n",
       "50%     0.015257\n",
       "75%     0.107025\n",
       "max     0.590755\n",
       "dtype: float64"
      ]
     },
     "execution_count": 58,
     "metadata": {},
     "output_type": "execute_result"
    }
   ],
   "source": [
    "best_ic_by_day_lasso = (lasso_preds.groupby(level='date')\n",
    "                        .apply(lambda x: spearmanr(x[best_alpha_lasso], x.y_test)[0]))\n",
    "\n",
    "best_ic_by_day_lasso.describe().iloc[1:]"
   ]
  },
  {
   "cell_type": "code",
   "execution_count": 56,
   "metadata": {},
   "outputs": [
    {
     "data": {
      "image/png": "[encoded data removed]",
      "text/plain": [
       "<Figure size 1008x288 with 1 Axes>"
      ]
     },
     "metadata": {
      "needs_background": "light"
     },
     "output_type": "display_data"
    }
   ],
   "source": [
    "ax = pd.Series(ic_by_day_lasso).plot(figsize=(14, 4),\n",
    "                                     logx=True,\n",
    "                                     title='Lasso Regression Cross-Validation Performance')\n",
    "ax.axvline(best_alpha_lasso, c='k', ls='--', lw=1)\n",
    "ax.set_ylabel('Daily IC (Mean)')\n",
    "ax.set_xlabel('Alpha')\n",
    "sns.despine()\n",
    "plt.tight_layout();"
   ]
  },
  {
   "cell_type": "markdown",
   "metadata": {},
   "source": [
    "#### Persist results"
   ]
  },
  {
   "cell_type": "code",
   "execution_count": 57,
   "metadata": {},
   "outputs": [],
   "source": [
    "lasso_preds[best_alpha_lasso].to_hdf('predictions.h5', key='lasso_regression', mode='a')"
   ]
  }
 ],
 "metadata": {
  "kernelspec": {
   "display_name": "Python [conda env:liveproject]",
   "language": "python",
   "name": "conda-env-liveproject-py"
  },
  "language_info": {
   "codemirror_mode": {
    "name": "ipython",
    "version": 3
   },
   "file_extension": ".py",
   "mimetype": "text/x-python",
   "name": "python",
   "nbconvert_exporter": "python",
   "pygments_lexer": "ipython3",
   "version": "3.7.7"
  }
 },
 "nbformat": 4,
 "nbformat_minor": 4
}
