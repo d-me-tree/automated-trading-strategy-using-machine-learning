{
 "cells": [
  {
   "cell_type": "code",
   "execution_count": 1,
   "metadata": {},
   "outputs": [],
   "source": [
    "import pandas as pd"
   ]
  },
  {
   "cell_type": "code",
   "execution_count": 30,
   "metadata": {},
   "outputs": [],
   "source": [
    "from IPython.core.interactiveshell import InteractiveShell\n",
    "InteractiveShell.ast_node_interactivity = 'all'"
   ]
  },
  {
   "cell_type": "code",
   "execution_count": 2,
   "metadata": {},
   "outputs": [
    {
     "name": "stdout",
     "output_type": "stream",
     "text": [
      "ticker,date,open,high,low,close,volume,ex-dividend,split_ratio,adj_open,adj_high,adj_low,adj_close,adj_volume\n",
      "A,1999-11-18,45.5,50.0,40.0,44.0,44739900.0,0.0,1.0,31.041951216877,34.112034304261,27.289627443409,30.018590187749,44739900.0\n",
      "A,1999-11-19,42.94,43.0,39.81,40.38,10897100.0,0.0,1.0,29.295415060499,29.336349501664,27.160001713052,27.548878904121,10897100.0\n",
      "A,1999-11-22,41.31,44.0,40.06,44.0,4705200.0,0.0,1.0,28.18336274218,30.018590187749,27.330561884574,30.018590187749,4705200.0\n",
      "A,1999-11-23,42.5,43.63,40.25,40.25,4274400.0,0.0,1.0,28.995229158622,29.766161133898,27.46018761493,27.46018761493,4274400.0\n",
      "A,1999-11-24,40.13,41.94,40.0,41.06,3464400.0,0.0,1.0,27.3783187326,28.613174374414,27.289627443409,28.012802570659,3464400.0\n",
      "A,1999-11-26,40.88,41.5,40.75,41.19,1237100.0,0.0,1.0,27.889999247164,28.312988472536,27.801307957973,28.10149385985,1237100.0\n",
      "A,1999-11-29,41.0,42.44,40.56,42.13,2914700.0,0.0,1.0,27.971868129494,28.954294717457,27.671682227616,28.74280010477,2914700.0\n",
      "A,1999-11-30,42.0,42.94,40.94,42.19,3083000.0,0.0,1.0,28.654108815579,29.295415060499,27.930933688329,28.783734545935,3083000.0\n",
      "A,1999-12-01,42.19,43.44,41.88,42.94,2115400.0,0.0,1.0,28.783734545935,29.636535403542,28.572239933249,29.295415060499,2115400.0\n"
     ]
    }
   ],
   "source": [
    "!head us_stocks.csv"
   ]
  },
  {
   "cell_type": "code",
   "execution_count": 7,
   "metadata": {},
   "outputs": [
    {
     "name": "stdout",
     "output_type": "stream",
     "text": [
      "<class 'pandas.core.frame.DataFrame'>\n",
      "RangeIndex: 15389314 entries, 0 to 15389313\n",
      "Data columns (total 14 columns):\n",
      " #   Column       Dtype         \n",
      "---  ------       -----         \n",
      " 0   ticker       object        \n",
      " 1   date         datetime64[ns]\n",
      " 2   open         float64       \n",
      " 3   high         float64       \n",
      " 4   low          float64       \n",
      " 5   close        float64       \n",
      " 6   volume       float64       \n",
      " 7   ex-dividend  float64       \n",
      " 8   split_ratio  float64       \n",
      " 9   adj_open     float64       \n",
      " 10  adj_high     float64       \n",
      " 11  adj_low      float64       \n",
      " 12  adj_close    float64       \n",
      " 13  adj_volume   float64       \n",
      "dtypes: datetime64[ns](1), float64(12), object(1)\n",
      "memory usage: 1.6+ GB\n"
     ]
    },
    {
     "data": {
      "text/html": [
       "<div>\n",
       "<style scoped>\n",
       "    .dataframe tbody tr th:only-of-type {\n",
       "        vertical-align: middle;\n",
       "    }\n",
       "\n",
       "    .dataframe tbody tr th {\n",
       "        vertical-align: top;\n",
       "    }\n",
       "\n",
       "    .dataframe thead th {\n",
       "        text-align: right;\n",
       "    }\n",
       "</style>\n",
       "<table border=\"1\" class=\"dataframe\">\n",
       "  <thead>\n",
       "    <tr style=\"text-align: right;\">\n",
       "      <th></th>\n",
       "      <th>ticker</th>\n",
       "      <th>date</th>\n",
       "      <th>open</th>\n",
       "      <th>high</th>\n",
       "      <th>low</th>\n",
       "      <th>close</th>\n",
       "      <th>volume</th>\n",
       "      <th>ex-dividend</th>\n",
       "      <th>split_ratio</th>\n",
       "      <th>adj_open</th>\n",
       "      <th>adj_high</th>\n",
       "      <th>adj_low</th>\n",
       "      <th>adj_close</th>\n",
       "      <th>adj_volume</th>\n",
       "    </tr>\n",
       "  </thead>\n",
       "  <tbody>\n",
       "    <tr>\n",
       "      <th>0</th>\n",
       "      <td>A</td>\n",
       "      <td>1999-11-18</td>\n",
       "      <td>45.50</td>\n",
       "      <td>50.00</td>\n",
       "      <td>40.00</td>\n",
       "      <td>44.00</td>\n",
       "      <td>44739900.0</td>\n",
       "      <td>0.0</td>\n",
       "      <td>1.0</td>\n",
       "      <td>31.041951</td>\n",
       "      <td>34.112034</td>\n",
       "      <td>27.289627</td>\n",
       "      <td>30.018590</td>\n",
       "      <td>44739900.0</td>\n",
       "    </tr>\n",
       "    <tr>\n",
       "      <th>1</th>\n",
       "      <td>A</td>\n",
       "      <td>1999-11-19</td>\n",
       "      <td>42.94</td>\n",
       "      <td>43.00</td>\n",
       "      <td>39.81</td>\n",
       "      <td>40.38</td>\n",
       "      <td>10897100.0</td>\n",
       "      <td>0.0</td>\n",
       "      <td>1.0</td>\n",
       "      <td>29.295415</td>\n",
       "      <td>29.336350</td>\n",
       "      <td>27.160002</td>\n",
       "      <td>27.548879</td>\n",
       "      <td>10897100.0</td>\n",
       "    </tr>\n",
       "    <tr>\n",
       "      <th>2</th>\n",
       "      <td>A</td>\n",
       "      <td>1999-11-22</td>\n",
       "      <td>41.31</td>\n",
       "      <td>44.00</td>\n",
       "      <td>40.06</td>\n",
       "      <td>44.00</td>\n",
       "      <td>4705200.0</td>\n",
       "      <td>0.0</td>\n",
       "      <td>1.0</td>\n",
       "      <td>28.183363</td>\n",
       "      <td>30.018590</td>\n",
       "      <td>27.330562</td>\n",
       "      <td>30.018590</td>\n",
       "      <td>4705200.0</td>\n",
       "    </tr>\n",
       "    <tr>\n",
       "      <th>3</th>\n",
       "      <td>A</td>\n",
       "      <td>1999-11-23</td>\n",
       "      <td>42.50</td>\n",
       "      <td>43.63</td>\n",
       "      <td>40.25</td>\n",
       "      <td>40.25</td>\n",
       "      <td>4274400.0</td>\n",
       "      <td>0.0</td>\n",
       "      <td>1.0</td>\n",
       "      <td>28.995229</td>\n",
       "      <td>29.766161</td>\n",
       "      <td>27.460188</td>\n",
       "      <td>27.460188</td>\n",
       "      <td>4274400.0</td>\n",
       "    </tr>\n",
       "    <tr>\n",
       "      <th>4</th>\n",
       "      <td>A</td>\n",
       "      <td>1999-11-24</td>\n",
       "      <td>40.13</td>\n",
       "      <td>41.94</td>\n",
       "      <td>40.00</td>\n",
       "      <td>41.06</td>\n",
       "      <td>3464400.0</td>\n",
       "      <td>0.0</td>\n",
       "      <td>1.0</td>\n",
       "      <td>27.378319</td>\n",
       "      <td>28.613174</td>\n",
       "      <td>27.289627</td>\n",
       "      <td>28.012803</td>\n",
       "      <td>3464400.0</td>\n",
       "    </tr>\n",
       "  </tbody>\n",
       "</table>\n",
       "</div>"
      ],
      "text/plain": [
       "  ticker       date   open   high    low  close      volume  ex-dividend  \\\n",
       "0      A 1999-11-18  45.50  50.00  40.00  44.00  44739900.0          0.0   \n",
       "1      A 1999-11-19  42.94  43.00  39.81  40.38  10897100.0          0.0   \n",
       "2      A 1999-11-22  41.31  44.00  40.06  44.00   4705200.0          0.0   \n",
       "3      A 1999-11-23  42.50  43.63  40.25  40.25   4274400.0          0.0   \n",
       "4      A 1999-11-24  40.13  41.94  40.00  41.06   3464400.0          0.0   \n",
       "\n",
       "   split_ratio   adj_open   adj_high    adj_low  adj_close  adj_volume  \n",
       "0          1.0  31.041951  34.112034  27.289627  30.018590  44739900.0  \n",
       "1          1.0  29.295415  29.336350  27.160002  27.548879  10897100.0  \n",
       "2          1.0  28.183363  30.018590  27.330562  30.018590   4705200.0  \n",
       "3          1.0  28.995229  29.766161  27.460188  27.460188   4274400.0  \n",
       "4          1.0  27.378319  28.613174  27.289627  28.012803   3464400.0  "
      ]
     },
     "execution_count": 7,
     "metadata": {},
     "output_type": "execute_result"
    }
   ],
   "source": [
    "df = pd.read_csv('us_stocks.csv', parse_dates=['date'])\n",
    "\n",
    "df.info()\n",
    "df.head()"
   ]
  },
  {
   "cell_type": "code",
   "execution_count": 37,
   "metadata": {},
   "outputs": [
    {
     "data": {
      "text/plain": [
       "ticker           0\n",
       "date             0\n",
       "open           538\n",
       "high            55\n",
       "low             55\n",
       "close            1\n",
       "volume           0\n",
       "ex-dividend      0\n",
       "split_ratio      1\n",
       "adj_open       538\n",
       "adj_high        55\n",
       "adj_low         55\n",
       "adj_close        1\n",
       "adj_volume       0\n",
       "dtype: int64"
      ]
     },
     "execution_count": 37,
     "metadata": {},
     "output_type": "execute_result"
    }
   ],
   "source": [
    "df.isnull().sum()"
   ]
  },
  {
   "cell_type": "code",
   "execution_count": 12,
   "metadata": {},
   "outputs": [
    {
     "data": {
      "text/plain": [
       "'15,389,314'"
      ]
     },
     "execution_count": 12,
     "metadata": {},
     "output_type": "execute_result"
    }
   ],
   "source": [
    "f'{df.shape[0]:,}'"
   ]
  },
  {
   "cell_type": "code",
   "execution_count": 47,
   "metadata": {},
   "outputs": [
    {
     "data": {
      "text/plain": [
       "'11,343,920'"
      ]
     },
     "execution_count": 47,
     "metadata": {},
     "output_type": "execute_result"
    },
    {
     "data": {
      "text/plain": [
       "Timestamp('2000-01-03 00:00:00')"
      ]
     },
     "execution_count": 47,
     "metadata": {},
     "output_type": "execute_result"
    },
    {
     "data": {
      "text/html": [
       "<div>\n",
       "<style scoped>\n",
       "    .dataframe tbody tr th:only-of-type {\n",
       "        vertical-align: middle;\n",
       "    }\n",
       "\n",
       "    .dataframe tbody tr th {\n",
       "        vertical-align: top;\n",
       "    }\n",
       "\n",
       "    .dataframe thead th {\n",
       "        text-align: right;\n",
       "    }\n",
       "</style>\n",
       "<table border=\"1\" class=\"dataframe\">\n",
       "  <thead>\n",
       "    <tr style=\"text-align: right;\">\n",
       "      <th></th>\n",
       "      <th>ticker</th>\n",
       "      <th>date</th>\n",
       "      <th>open</th>\n",
       "      <th>high</th>\n",
       "      <th>low</th>\n",
       "      <th>close</th>\n",
       "      <th>volume</th>\n",
       "    </tr>\n",
       "  </thead>\n",
       "  <tbody>\n",
       "    <tr>\n",
       "      <th>30</th>\n",
       "      <td>A</td>\n",
       "      <td>2000-01-03</td>\n",
       "      <td>53.726454</td>\n",
       "      <td>53.856080</td>\n",
       "      <td>45.969377</td>\n",
       "      <td>49.121329</td>\n",
       "      <td>3343600.0</td>\n",
       "    </tr>\n",
       "    <tr>\n",
       "      <th>31</th>\n",
       "      <td>A</td>\n",
       "      <td>2000-01-04</td>\n",
       "      <td>46.481058</td>\n",
       "      <td>46.992738</td>\n",
       "      <td>44.175084</td>\n",
       "      <td>45.369006</td>\n",
       "      <td>3408500.0</td>\n",
       "    </tr>\n",
       "    <tr>\n",
       "      <th>32</th>\n",
       "      <td>A</td>\n",
       "      <td>2000-01-05</td>\n",
       "      <td>45.198445</td>\n",
       "      <td>45.239380</td>\n",
       "      <td>41.828176</td>\n",
       "      <td>41.998737</td>\n",
       "      <td>4119200.0</td>\n",
       "    </tr>\n",
       "    <tr>\n",
       "      <th>33</th>\n",
       "      <td>A</td>\n",
       "      <td>2000-01-06</td>\n",
       "      <td>42.046493</td>\n",
       "      <td>42.298923</td>\n",
       "      <td>39.658651</td>\n",
       "      <td>40.934441</td>\n",
       "      <td>1812900.0</td>\n",
       "    </tr>\n",
       "    <tr>\n",
       "      <th>34</th>\n",
       "      <td>A</td>\n",
       "      <td>2000-01-07</td>\n",
       "      <td>40.293135</td>\n",
       "      <td>44.986951</td>\n",
       "      <td>40.252200</td>\n",
       "      <td>44.345645</td>\n",
       "      <td>2016900.0</td>\n",
       "    </tr>\n",
       "  </tbody>\n",
       "</table>\n",
       "</div>"
      ],
      "text/plain": [
       "   ticker       date       open       high        low      close     volume\n",
       "30      A 2000-01-03  53.726454  53.856080  45.969377  49.121329  3343600.0\n",
       "31      A 2000-01-04  46.481058  46.992738  44.175084  45.369006  3408500.0\n",
       "32      A 2000-01-05  45.198445  45.239380  41.828176  41.998737  4119200.0\n",
       "33      A 2000-01-06  42.046493  42.298923  39.658651  40.934441  1812900.0\n",
       "34      A 2000-01-07  40.293135  44.986951  40.252200  44.345645  2016900.0"
      ]
     },
     "execution_count": 47,
     "metadata": {},
     "output_type": "execute_result"
    }
   ],
   "source": [
    "cols_to_keep = [\n",
    "    'ticker',\n",
    "    'date',\n",
    "    'adj_open',\n",
    "    'adj_high',\n",
    "    'adj_low',\n",
    "    'adj_close',\n",
    "    'adj_volume',\n",
    "]\n",
    "df = df.loc[df.date.dt.year >= 2000, cols_to_keep]\n",
    "df.columns = df.columns.map(lambda col: col.replace('adj_', ''))\n",
    "\n",
    "f'{df.shape[0]:,}'\n",
    "df.date.min()\n",
    "df.head()"
   ]
  },
  {
   "cell_type": "code",
   "execution_count": 48,
   "metadata": {},
   "outputs": [
    {
     "data": {
      "text/html": [
       "<div>\n",
       "<style scoped>\n",
       "    .dataframe tbody tr th:only-of-type {\n",
       "        vertical-align: middle;\n",
       "    }\n",
       "\n",
       "    .dataframe tbody tr th {\n",
       "        vertical-align: top;\n",
       "    }\n",
       "\n",
       "    .dataframe thead th {\n",
       "        text-align: right;\n",
       "    }\n",
       "</style>\n",
       "<table border=\"1\" class=\"dataframe\">\n",
       "  <thead>\n",
       "    <tr style=\"text-align: right;\">\n",
       "      <th></th>\n",
       "      <th></th>\n",
       "      <th>open</th>\n",
       "      <th>high</th>\n",
       "      <th>low</th>\n",
       "      <th>close</th>\n",
       "      <th>volume</th>\n",
       "    </tr>\n",
       "    <tr>\n",
       "      <th>ticker</th>\n",
       "      <th>date</th>\n",
       "      <th></th>\n",
       "      <th></th>\n",
       "      <th></th>\n",
       "      <th></th>\n",
       "      <th></th>\n",
       "    </tr>\n",
       "  </thead>\n",
       "  <tbody>\n",
       "    <tr>\n",
       "      <th rowspan=\"5\" valign=\"top\">A</th>\n",
       "      <th>2000-01-03</th>\n",
       "      <td>53.726454</td>\n",
       "      <td>53.856080</td>\n",
       "      <td>45.969377</td>\n",
       "      <td>49.121329</td>\n",
       "      <td>3343600.0</td>\n",
       "    </tr>\n",
       "    <tr>\n",
       "      <th>2000-01-04</th>\n",
       "      <td>46.481058</td>\n",
       "      <td>46.992738</td>\n",
       "      <td>44.175084</td>\n",
       "      <td>45.369006</td>\n",
       "      <td>3408500.0</td>\n",
       "    </tr>\n",
       "    <tr>\n",
       "      <th>2000-01-05</th>\n",
       "      <td>45.198445</td>\n",
       "      <td>45.239380</td>\n",
       "      <td>41.828176</td>\n",
       "      <td>41.998737</td>\n",
       "      <td>4119200.0</td>\n",
       "    </tr>\n",
       "    <tr>\n",
       "      <th>2000-01-06</th>\n",
       "      <td>42.046493</td>\n",
       "      <td>42.298923</td>\n",
       "      <td>39.658651</td>\n",
       "      <td>40.934441</td>\n",
       "      <td>1812900.0</td>\n",
       "    </tr>\n",
       "    <tr>\n",
       "      <th>2000-01-07</th>\n",
       "      <td>40.293135</td>\n",
       "      <td>44.986951</td>\n",
       "      <td>40.252200</td>\n",
       "      <td>44.345645</td>\n",
       "      <td>2016900.0</td>\n",
       "    </tr>\n",
       "  </tbody>\n",
       "</table>\n",
       "</div>"
      ],
      "text/plain": [
       "                        open       high        low      close     volume\n",
       "ticker date                                                             \n",
       "A      2000-01-03  53.726454  53.856080  45.969377  49.121329  3343600.0\n",
       "       2000-01-04  46.481058  46.992738  44.175084  45.369006  3408500.0\n",
       "       2000-01-05  45.198445  45.239380  41.828176  41.998737  4119200.0\n",
       "       2000-01-06  42.046493  42.298923  39.658651  40.934441  1812900.0\n",
       "       2000-01-07  40.293135  44.986951  40.252200  44.345645  2016900.0"
      ]
     },
     "execution_count": 48,
     "metadata": {},
     "output_type": "execute_result"
    }
   ],
   "source": [
    "df = df.set_index(['ticker', 'date'])\n",
    "df.head()"
   ]
  },
  {
   "cell_type": "code",
   "execution_count": 53,
   "metadata": {},
   "outputs": [],
   "source": [
    "df.to_hdf('us_stocks.h5', key='us_stocks', mode='w')"
   ]
  }
 ],
 "metadata": {
  "kernelspec": {
   "display_name": "Python [conda env:liveproject]",
   "language": "python",
   "name": "conda-env-liveproject-py"
  },
  "language_info": {
   "codemirror_mode": {
    "name": "ipython",
    "version": 3
   },
   "file_extension": ".py",
   "mimetype": "text/x-python",
   "name": "python",
   "nbconvert_exporter": "python",
   "pygments_lexer": "ipython3",
   "version": "3.7.7"
  }
 },
 "nbformat": 4,
 "nbformat_minor": 4
}
