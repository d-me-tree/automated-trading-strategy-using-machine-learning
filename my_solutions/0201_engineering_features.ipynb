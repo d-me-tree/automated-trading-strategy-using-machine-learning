{
 "cells": [
  {
   "cell_type": "code",
   "execution_count": 1,
   "metadata": {},
   "outputs": [],
   "source": [
    "import warnings\n",
    "warnings.filterwarnings('ignore')"
   ]
  },
  {
   "cell_type": "code",
   "execution_count": 2,
   "metadata": {},
   "outputs": [],
   "source": [
    "%matplotlib inline\n",
    "import matplotlib.pyplot as plt"
   ]
  },
  {
   "cell_type": "code",
   "execution_count": 3,
   "metadata": {},
   "outputs": [],
   "source": [
    "import pandas_datareader as pdr\n",
    "import statsmodels.api as sm\n",
    "from statsmodels.regression.rolling import RollingOLS\n",
    "\n",
    "import pandas as pd\n",
    "import numpy as np\n",
    "\n",
    "import talib"
   ]
  },
  {
   "cell_type": "code",
   "execution_count": 4,
   "metadata": {},
   "outputs": [],
   "source": [
    "idx = pd.IndexSlice"
   ]
  },
  {
   "cell_type": "code",
   "execution_count": 5,
   "metadata": {},
   "outputs": [
    {
     "name": "stdout",
     "output_type": "stream",
     "text": [
      "<class 'pandas.core.frame.DataFrame'>\n",
      "MultiIndex: 11343920 entries, ('A', Timestamp('2000-01-03 00:00:00')) to ('ZUMZ', Timestamp('2018-03-27 00:00:00'))\n",
      "Data columns (total 5 columns):\n",
      " #   Column  Dtype  \n",
      "---  ------  -----  \n",
      " 0   open    float64\n",
      " 1   high    float64\n",
      " 2   low     float64\n",
      " 3   close   float64\n",
      " 4   volume  float64\n",
      "dtypes: float64(5)\n",
      "memory usage: 476.4+ MB\n"
     ]
    },
    {
     "data": {
      "text/html": [
       "<div>\n",
       "<style scoped>\n",
       "    .dataframe tbody tr th:only-of-type {\n",
       "        vertical-align: middle;\n",
       "    }\n",
       "\n",
       "    .dataframe tbody tr th {\n",
       "        vertical-align: top;\n",
       "    }\n",
       "\n",
       "    .dataframe thead th {\n",
       "        text-align: right;\n",
       "    }\n",
       "</style>\n",
       "<table border=\"1\" class=\"dataframe\">\n",
       "  <thead>\n",
       "    <tr style=\"text-align: right;\">\n",
       "      <th></th>\n",
       "      <th></th>\n",
       "      <th>open</th>\n",
       "      <th>high</th>\n",
       "      <th>low</th>\n",
       "      <th>close</th>\n",
       "      <th>volume</th>\n",
       "    </tr>\n",
       "    <tr>\n",
       "      <th>ticker</th>\n",
       "      <th>date</th>\n",
       "      <th></th>\n",
       "      <th></th>\n",
       "      <th></th>\n",
       "      <th></th>\n",
       "      <th></th>\n",
       "    </tr>\n",
       "  </thead>\n",
       "  <tbody>\n",
       "    <tr>\n",
       "      <th rowspan=\"5\" valign=\"top\">A</th>\n",
       "      <th>2000-01-03</th>\n",
       "      <td>53.726454</td>\n",
       "      <td>53.856080</td>\n",
       "      <td>45.969377</td>\n",
       "      <td>49.121329</td>\n",
       "      <td>3343600.0</td>\n",
       "    </tr>\n",
       "    <tr>\n",
       "      <th>2000-01-04</th>\n",
       "      <td>46.481058</td>\n",
       "      <td>46.992738</td>\n",
       "      <td>44.175084</td>\n",
       "      <td>45.369006</td>\n",
       "      <td>3408500.0</td>\n",
       "    </tr>\n",
       "    <tr>\n",
       "      <th>2000-01-05</th>\n",
       "      <td>45.198445</td>\n",
       "      <td>45.239380</td>\n",
       "      <td>41.828176</td>\n",
       "      <td>41.998737</td>\n",
       "      <td>4119200.0</td>\n",
       "    </tr>\n",
       "    <tr>\n",
       "      <th>2000-01-06</th>\n",
       "      <td>42.046493</td>\n",
       "      <td>42.298923</td>\n",
       "      <td>39.658651</td>\n",
       "      <td>40.934441</td>\n",
       "      <td>1812900.0</td>\n",
       "    </tr>\n",
       "    <tr>\n",
       "      <th>2000-01-07</th>\n",
       "      <td>40.293135</td>\n",
       "      <td>44.986951</td>\n",
       "      <td>40.252200</td>\n",
       "      <td>44.345645</td>\n",
       "      <td>2016900.0</td>\n",
       "    </tr>\n",
       "  </tbody>\n",
       "</table>\n",
       "</div>"
      ],
      "text/plain": [
       "                        open       high        low      close     volume\n",
       "ticker date                                                             \n",
       "A      2000-01-03  53.726454  53.856080  45.969377  49.121329  3343600.0\n",
       "       2000-01-04  46.481058  46.992738  44.175084  45.369006  3408500.0\n",
       "       2000-01-05  45.198445  45.239380  41.828176  41.998737  4119200.0\n",
       "       2000-01-06  42.046493  42.298923  39.658651  40.934441  1812900.0\n",
       "       2000-01-07  40.293135  44.986951  40.252200  44.345645  2016900.0"
      ]
     },
     "execution_count": 5,
     "metadata": {},
     "output_type": "execute_result"
    }
   ],
   "source": [
    "data = pd.read_hdf('us_stocks.h5', 'us_stocks')\n",
    "\n",
    "data.info()\n",
    "data.head()"
   ]
  },
  {
   "cell_type": "markdown",
   "metadata": {},
   "source": [
    "## Step 1\n",
    "\n",
    "Select the adjusted open, high, low, and close prices, as well as the volume, for all tickers from the Quandl Wiki data that you downloaded and simplified for the last milestone for the 2006–2016 time period.\n",
    "\n",
    "Looking ahead, we will use 2014–2016 as our ‘out-of-sample’ period to test the performance of a strategy based on a machine learning model selected using data from preceding periods. We’re including some earlier years to ensure all indicators (some of which are computed over longer windows) have data for the period of interest."
   ]
  },
  {
   "cell_type": "code",
   "execution_count": 6,
   "metadata": {},
   "outputs": [
    {
     "name": "stdout",
     "output_type": "stream",
     "text": [
      "<class 'pandas.core.frame.DataFrame'>\n",
      "MultiIndex: 7532460 entries, ('A', Timestamp('2006-01-03 00:00:00')) to ('ZUMZ', Timestamp('2016-12-30 00:00:00'))\n",
      "Data columns (total 5 columns):\n",
      " #   Column  Dtype  \n",
      "---  ------  -----  \n",
      " 0   open    float64\n",
      " 1   high    float64\n",
      " 2   low     float64\n",
      " 3   close   float64\n",
      " 4   volume  float64\n",
      "dtypes: float64(5)\n",
      "memory usage: 316.1+ MB\n"
     ]
    },
    {
     "data": {
      "text/html": [
       "<div>\n",
       "<style scoped>\n",
       "    .dataframe tbody tr th:only-of-type {\n",
       "        vertical-align: middle;\n",
       "    }\n",
       "\n",
       "    .dataframe tbody tr th {\n",
       "        vertical-align: top;\n",
       "    }\n",
       "\n",
       "    .dataframe thead th {\n",
       "        text-align: right;\n",
       "    }\n",
       "</style>\n",
       "<table border=\"1\" class=\"dataframe\">\n",
       "  <thead>\n",
       "    <tr style=\"text-align: right;\">\n",
       "      <th></th>\n",
       "      <th></th>\n",
       "      <th>open</th>\n",
       "      <th>high</th>\n",
       "      <th>low</th>\n",
       "      <th>close</th>\n",
       "      <th>volume</th>\n",
       "    </tr>\n",
       "    <tr>\n",
       "      <th>ticker</th>\n",
       "      <th>date</th>\n",
       "      <th></th>\n",
       "      <th></th>\n",
       "      <th></th>\n",
       "      <th></th>\n",
       "      <th></th>\n",
       "    </tr>\n",
       "  </thead>\n",
       "  <tbody>\n",
       "    <tr>\n",
       "      <th rowspan=\"5\" valign=\"top\">A</th>\n",
       "      <th>2006-01-03</th>\n",
       "      <td>22.786839</td>\n",
       "      <td>22.909642</td>\n",
       "      <td>22.387796</td>\n",
       "      <td>22.855063</td>\n",
       "      <td>3796200.0</td>\n",
       "    </tr>\n",
       "    <tr>\n",
       "      <th>2006-01-04</th>\n",
       "      <td>22.889175</td>\n",
       "      <td>23.080202</td>\n",
       "      <td>22.766372</td>\n",
       "      <td>22.916465</td>\n",
       "      <td>3001300.0</td>\n",
       "    </tr>\n",
       "    <tr>\n",
       "      <th>2006-01-05</th>\n",
       "      <td>22.820951</td>\n",
       "      <td>23.516836</td>\n",
       "      <td>22.820951</td>\n",
       "      <td>23.516836</td>\n",
       "      <td>3458800.0</td>\n",
       "    </tr>\n",
       "    <tr>\n",
       "      <th>2006-01-06</th>\n",
       "      <td>23.537304</td>\n",
       "      <td>23.735153</td>\n",
       "      <td>23.257585</td>\n",
       "      <td>23.639640</td>\n",
       "      <td>4396500.0</td>\n",
       "    </tr>\n",
       "    <tr>\n",
       "      <th>2006-01-09</th>\n",
       "      <td>23.639640</td>\n",
       "      <td>23.741976</td>\n",
       "      <td>23.482724</td>\n",
       "      <td>23.571416</td>\n",
       "      <td>2920500.0</td>\n",
       "    </tr>\n",
       "  </tbody>\n",
       "</table>\n",
       "</div>"
      ],
      "text/plain": [
       "                        open       high        low      close     volume\n",
       "ticker date                                                             \n",
       "A      2006-01-03  22.786839  22.909642  22.387796  22.855063  3796200.0\n",
       "       2006-01-04  22.889175  23.080202  22.766372  22.916465  3001300.0\n",
       "       2006-01-05  22.820951  23.516836  22.820951  23.516836  3458800.0\n",
       "       2006-01-06  23.537304  23.735153  23.257585  23.639640  4396500.0\n",
       "       2006-01-09  23.639640  23.741976  23.482724  23.571416  2920500.0"
      ]
     },
     "execution_count": 6,
     "metadata": {},
     "output_type": "execute_result"
    }
   ],
   "source": [
    "# Select price data for the 2006-2016 time period\n",
    "data = data.loc[idx[:, '2006':'2016'], :]\n",
    "\n",
    "data.info()\n",
    "data.head()"
   ]
  },
  {
   "cell_type": "code",
   "execution_count": 7,
   "metadata": {},
   "outputs": [
    {
     "name": "stdout",
     "output_type": "stream",
     "text": [
      "# Tickers: 3,186 | # Dates: 2,846\n"
     ]
    }
   ],
   "source": [
    "print(f\"# Tickers: {len(data.index.unique('ticker')):,.0f} | # Dates: {len(data.index.unique('date')):,.0f}\")"
   ]
  },
  {
   "cell_type": "markdown",
   "metadata": {},
   "source": [
    "## ~~Step 3~~ Step 2\n",
    "\n",
    "Compute daily returns and keep only ‘inliers’ with values between –100% and +100% as a basic check against data error."
   ]
  },
  {
   "cell_type": "code",
   "execution_count": 8,
   "metadata": {},
   "outputs": [
    {
     "data": {
      "text/plain": [
       "ticker  date      \n",
       "A       2006-01-03         NaN\n",
       "        2006-01-04    0.002687\n",
       "        2006-01-05    0.026198\n",
       "        2006-01-06    0.005222\n",
       "        2006-01-09   -0.002886\n",
       "Name: close, dtype: float64"
      ]
     },
     "execution_count": 8,
     "metadata": {},
     "output_type": "execute_result"
    }
   ],
   "source": [
    "daily_returns = data.groupby('ticker').close.pct_change()\n",
    "daily_returns.head()"
   ]
  },
  {
   "cell_type": "code",
   "execution_count": 9,
   "metadata": {},
   "outputs": [
    {
     "data": {
      "text/plain": [
       "mean         0.000797\n",
       "std          0.139968\n",
       "min         -0.993615\n",
       "0.001%      -0.706667\n",
       "0.01%       -0.396670\n",
       "0.1%        -0.192994\n",
       "50%          0.000000\n",
       "99.9%        0.233070\n",
       "99.99%       0.586986\n",
       "99.999%      1.890708\n",
       "max        283.000000\n",
       "Name: close, dtype: float64"
      ]
     },
     "execution_count": 9,
     "metadata": {},
     "output_type": "execute_result"
    }
   ],
   "source": [
    "# Drop count using .iloc[1:]\n",
    "daily_returns.describe(percentiles=[.00001, .0001, .001, .999, .9999, .99999]).iloc[1:]"
   ]
  },
  {
   "cell_type": "code",
   "execution_count": 10,
   "metadata": {},
   "outputs": [
    {
     "name": "stdout",
     "output_type": "stream",
     "text": [
      "# Observations: 151 | # Tickers: 90\n"
     ]
    }
   ],
   "source": [
    "outliers = daily_returns[(daily_returns < daily_returns.quantile(.00001)) |\n",
    "                         (daily_returns > daily_returns.quantile(.99999))]\n",
    "\n",
    "print(f'# Observations: {len(outliers):,.0f} | # Tickers: {len(outliers.index.unique(\"ticker\")):,.0f}')"
   ]
  },
  {
   "cell_type": "code",
   "execution_count": 11,
   "metadata": {},
   "outputs": [
    {
     "name": "stdout",
     "output_type": "stream",
     "text": [
      "# Tickers: 3,096 | # Dates: 2,799\n"
     ]
    }
   ],
   "source": [
    "data = data.drop(index=outliers.index.unique('ticker'), level='ticker')\n",
    "\n",
    "print(f\"# Tickers: {len(data.index.unique('ticker')):,.0f} | # Dates: {len(data.index.unique('date')):,.0f}\")"
   ]
  },
  {
   "cell_type": "markdown",
   "metadata": {},
   "source": [
    "## Step 2\n",
    "\n",
    "Compute the dollar volume as the product of closing price and trading volume, then select the stocks with at least eight years of data and the lowest average daily rank for this metric.\n",
    "\n",
    "We are simplifying here a little bit: in practice, you would want to identify the universe as a rolling average (e.g., on monthly or quarterly basis, depending on our train/test parameters in the next steps) of the dollar volume to avoid including information ‘from the future’ that could introduce a lookahead bias. Feel free to select the universe in this methodologically more robust yet computationally a bit more intensive way."
   ]
  },
  {
   "cell_type": "code",
   "execution_count": 12,
   "metadata": {},
   "outputs": [
    {
     "data": {
      "text/plain": [
       "ticker  date      \n",
       "A       2006-01-03    8.676239e+07\n",
       "        2006-01-04    6.877919e+07\n",
       "        2006-01-05    8.134003e+07\n",
       "        2006-01-06    1.039317e+08\n",
       "        2006-01-09    6.884032e+07\n",
       "dtype: float64"
      ]
     },
     "execution_count": 12,
     "metadata": {},
     "output_type": "execute_result"
    }
   ],
   "source": [
    "dv = data.close.mul(data.volume)\n",
    "dv.head()"
   ]
  },
  {
   "cell_type": "code",
   "execution_count": 13,
   "metadata": {},
   "outputs": [],
   "source": [
    "top500 = (dv.groupby('date')\n",
    "          .rank(ascending=False)\n",
    "          \n",
    "          # Drop stocks with less than 8 years of data\n",
    "          .unstack('ticker')\n",
    "          .dropna(thresh=8*252, axis='columns')\n",
    "          \n",
    "          # Average daily rank\n",
    "          .mean()\n",
    "          \n",
    "          # Select the smallest rank b'coz ranking was done in descending (high --> low) order\n",
    "          .nsmallest(500))"
   ]
  },
  {
   "cell_type": "code",
   "execution_count": 14,
   "metadata": {},
   "outputs": [
    {
     "data": {
      "text/plain": [
       "2596"
      ]
     },
     "execution_count": 14,
     "metadata": {},
     "output_type": "execute_result"
    }
   ],
   "source": [
    "to_drop = data.index.unique('ticker').difference(top500.index)\n",
    "len(to_drop)"
   ]
  },
  {
   "cell_type": "code",
   "execution_count": 15,
   "metadata": {},
   "outputs": [
    {
     "name": "stdout",
     "output_type": "stream",
     "text": [
      "<class 'pandas.core.frame.DataFrame'>\n",
      "MultiIndex: 1366287 entries, ('A', Timestamp('2006-01-03 00:00:00')) to ('ZMH', Timestamp('2015-06-26 00:00:00'))\n",
      "Data columns (total 5 columns):\n",
      " #   Column  Non-Null Count    Dtype  \n",
      "---  ------  --------------    -----  \n",
      " 0   open    1366287 non-null  float64\n",
      " 1   high    1366286 non-null  float64\n",
      " 2   low     1366286 non-null  float64\n",
      " 3   close   1366287 non-null  float64\n",
      " 4   volume  1366287 non-null  float64\n",
      "dtypes: float64(5)\n",
      "memory usage: 57.4+ MB\n"
     ]
    },
    {
     "data": {
      "text/html": [
       "<div>\n",
       "<style scoped>\n",
       "    .dataframe tbody tr th:only-of-type {\n",
       "        vertical-align: middle;\n",
       "    }\n",
       "\n",
       "    .dataframe tbody tr th {\n",
       "        vertical-align: top;\n",
       "    }\n",
       "\n",
       "    .dataframe thead th {\n",
       "        text-align: right;\n",
       "    }\n",
       "</style>\n",
       "<table border=\"1\" class=\"dataframe\">\n",
       "  <thead>\n",
       "    <tr style=\"text-align: right;\">\n",
       "      <th></th>\n",
       "      <th></th>\n",
       "      <th>open</th>\n",
       "      <th>high</th>\n",
       "      <th>low</th>\n",
       "      <th>close</th>\n",
       "      <th>volume</th>\n",
       "    </tr>\n",
       "    <tr>\n",
       "      <th>ticker</th>\n",
       "      <th>date</th>\n",
       "      <th></th>\n",
       "      <th></th>\n",
       "      <th></th>\n",
       "      <th></th>\n",
       "      <th></th>\n",
       "    </tr>\n",
       "  </thead>\n",
       "  <tbody>\n",
       "    <tr>\n",
       "      <th rowspan=\"5\" valign=\"top\">A</th>\n",
       "      <th>2006-01-03</th>\n",
       "      <td>22.786839</td>\n",
       "      <td>22.909642</td>\n",
       "      <td>22.387796</td>\n",
       "      <td>22.855063</td>\n",
       "      <td>3796200.0</td>\n",
       "    </tr>\n",
       "    <tr>\n",
       "      <th>2006-01-04</th>\n",
       "      <td>22.889175</td>\n",
       "      <td>23.080202</td>\n",
       "      <td>22.766372</td>\n",
       "      <td>22.916465</td>\n",
       "      <td>3001300.0</td>\n",
       "    </tr>\n",
       "    <tr>\n",
       "      <th>2006-01-05</th>\n",
       "      <td>22.820951</td>\n",
       "      <td>23.516836</td>\n",
       "      <td>22.820951</td>\n",
       "      <td>23.516836</td>\n",
       "      <td>3458800.0</td>\n",
       "    </tr>\n",
       "    <tr>\n",
       "      <th>2006-01-06</th>\n",
       "      <td>23.537304</td>\n",
       "      <td>23.735153</td>\n",
       "      <td>23.257585</td>\n",
       "      <td>23.639640</td>\n",
       "      <td>4396500.0</td>\n",
       "    </tr>\n",
       "    <tr>\n",
       "      <th>2006-01-09</th>\n",
       "      <td>23.639640</td>\n",
       "      <td>23.741976</td>\n",
       "      <td>23.482724</td>\n",
       "      <td>23.571416</td>\n",
       "      <td>2920500.0</td>\n",
       "    </tr>\n",
       "  </tbody>\n",
       "</table>\n",
       "</div>"
      ],
      "text/plain": [
       "                        open       high        low      close     volume\n",
       "ticker date                                                             \n",
       "A      2006-01-03  22.786839  22.909642  22.387796  22.855063  3796200.0\n",
       "       2006-01-04  22.889175  23.080202  22.766372  22.916465  3001300.0\n",
       "       2006-01-05  22.820951  23.516836  22.820951  23.516836  3458800.0\n",
       "       2006-01-06  23.537304  23.735153  23.257585  23.639640  4396500.0\n",
       "       2006-01-09  23.639640  23.741976  23.482724  23.571416  2920500.0"
      ]
     },
     "execution_count": 15,
     "metadata": {},
     "output_type": "execute_result"
    },
    {
     "name": "stdout",
     "output_type": "stream",
     "text": [
      "# Tickers: 500 | # Dates: 2,769\n"
     ]
    }
   ],
   "source": [
    "data = data.drop(index=to_drop, level='ticker')\n",
    "\n",
    "data.info()\n",
    "data.head()\n",
    "\n",
    "print(f\"# Tickers: {len(data.index.unique('ticker')):,.0f} | # Dates: {len(data.index.unique('date')):,.0f}\")"
   ]
  },
  {
   "cell_type": "markdown",
   "metadata": {},
   "source": [
    "## Step 4\n",
    "\n",
    "Now we’re ready to compute financial features. The Alpha Factory Library listed among the resources below illustrates how to compute a broad range of those using pandas and TA-Lib. We will list a few examples; feel free to explore and evaluate the various TA-Lib indicators.\n",
    "- Compute historical returns for various time ranges such as 1, 3, 5, 10, and 21 trading days, as well as longer periods like 2, 3, 6, and 12 months.\n",
    "- Use TA-Lib’s Bollinger Band indicator to create features that anticipate mean-reversion.\n",
    "- Select some indicators from TA-Lib’s momentum indicators family, such as:\n",
    "    - the Average Directional Movement Index (ADX),\n",
    "    - the Moving Average Convergence Divergence (MACD),\n",
    "    - the Relative Strength Index (RSI),\n",
    "    - the Balance of Power (BOP) indicator, or\n",
    "    - the Money Flow Index (MFI).\n",
    "- Compute TA-Lib volume indicators like On Balance Volume (OBV) or the Chaikin A/D Oscillator (ADOSC).\n",
    "- Create volatility metrics such as the Normalized Average True Range (NATR).\n",
    "- Compute rolling factor betas using the five Fama-French risk factors for different rolling windows of 3 and 12 months (see Resources below).\n",
    "- Compute the outcome variable that we will aim to predict, namely the 1-day forward returns."
   ]
  },
  {
   "cell_type": "code",
   "execution_count": 16,
   "metadata": {},
   "outputs": [],
   "source": [
    "by_ticker = data.groupby(level='ticker')"
   ]
  },
  {
   "cell_type": "markdown",
   "metadata": {},
   "source": [
    "#### Historical returns"
   ]
  },
  {
   "cell_type": "code",
   "execution_count": 17,
   "metadata": {},
   "outputs": [],
   "source": [
    "T = [1, 3, 5, 10, 21, 42, 63, 126, 252]\n",
    "\n",
    "for t in T:\n",
    "    data[f'ret_{t:02}'] = by_ticker.close.pct_change(t)"
   ]
  },
  {
   "cell_type": "markdown",
   "metadata": {},
   "source": [
    "#### Forward returns\n",
    "\n",
    "The outcome variable that we will aim to predict."
   ]
  },
  {
   "cell_type": "code",
   "execution_count": 18,
   "metadata": {},
   "outputs": [],
   "source": [
    "data['ret_fwd'] = by_ticker.ret_01.shift(-1)\n",
    "data = data.dropna(subset=['ret_fwd'])"
   ]
  },
  {
   "cell_type": "code",
   "execution_count": 19,
   "metadata": {},
   "outputs": [
    {
     "name": "stdout",
     "output_type": "stream",
     "text": [
      "<class 'pandas.core.frame.DataFrame'>\n",
      "MultiIndex: 1365787 entries, ('A', Timestamp('2006-01-03 00:00:00')) to ('ZMH', Timestamp('2015-06-25 00:00:00'))\n",
      "Data columns (total 15 columns):\n",
      " #   Column   Non-Null Count    Dtype  \n",
      "---  ------   --------------    -----  \n",
      " 0   open     1365787 non-null  float64\n",
      " 1   high     1365787 non-null  float64\n",
      " 2   low      1365787 non-null  float64\n",
      " 3   close    1365787 non-null  float64\n",
      " 4   volume   1365787 non-null  float64\n",
      " 5   ret_01   1365287 non-null  float64\n",
      " 6   ret_03   1364287 non-null  float64\n",
      " 7   ret_05   1363287 non-null  float64\n",
      " 8   ret_10   1360787 non-null  float64\n",
      " 9   ret_21   1355287 non-null  float64\n",
      " 10  ret_42   1344787 non-null  float64\n",
      " 11  ret_63   1334287 non-null  float64\n",
      " 12  ret_126  1302787 non-null  float64\n",
      " 13  ret_252  1239787 non-null  float64\n",
      " 14  ret_fwd  1365787 non-null  float64\n",
      "dtypes: float64(15)\n",
      "memory usage: 161.6+ MB\n"
     ]
    }
   ],
   "source": [
    "data.info()"
   ]
  },
  {
   "cell_type": "markdown",
   "metadata": {},
   "source": [
    "#### Bollinger Bands"
   ]
  },
  {
   "cell_type": "code",
   "execution_count": 20,
   "metadata": {},
   "outputs": [],
   "source": [
    "def compute_bb_indicators(close, timeperiod=20, matype=0):\n",
    "    high, mid, low = talib.BBANDS(close, \n",
    "                                  timeperiod=20,\n",
    "                                  matype=matype)\n",
    "    bb_up = high / close - 1\n",
    "    bb_low = low / close - 1\n",
    "    squeeze = (high - low) / close\n",
    "    return pd.DataFrame({'BB_UP': bb_up, \n",
    "                         'BB_LOW': bb_low, \n",
    "                         'BB_SQUEEZE': squeeze}, \n",
    "                        index=close.index)"
   ]
  },
  {
   "cell_type": "code",
   "execution_count": 21,
   "metadata": {},
   "outputs": [],
   "source": [
    "data = (data.join(data\n",
    "                  .groupby(level='ticker')\n",
    "                  .close\n",
    "                  .apply(compute_bb_indicators)))"
   ]
  },
  {
   "cell_type": "markdown",
   "metadata": {},
   "source": [
    "#### Average Directional Movement Index (ADX)"
   ]
  },
  {
   "cell_type": "code",
   "execution_count": 22,
   "metadata": {},
   "outputs": [],
   "source": [
    "def compute_adx(df, timeperiod=14):\n",
    "    return talib.ADX(df.high,\n",
    "                     df.low,\n",
    "                     df.close,\n",
    "                     timeperiod=timeperiod)"
   ]
  },
  {
   "cell_type": "code",
   "execution_count": 23,
   "metadata": {},
   "outputs": [],
   "source": [
    "data['ADX'] = (data\n",
    "               .groupby(level='ticker', group_keys=False)\n",
    "               .apply(compute_adx))"
   ]
  },
  {
   "cell_type": "markdown",
   "metadata": {},
   "source": [
    "#### Moving Average Convergence Divergence (MACD)"
   ]
  },
  {
   "cell_type": "code",
   "execution_count": 24,
   "metadata": {},
   "outputs": [],
   "source": [
    "def compute_macd(close, fastperiod=12, slowperiod=26, signalperiod=9):\n",
    "    macd, macdsignal, macdhist = talib.MACD(close,\n",
    "                                            fastperiod=fastperiod,\n",
    "                                            slowperiod=slowperiod,\n",
    "                                            signalperiod=signalperiod)\n",
    "    return pd.DataFrame({'MACD': macd,\n",
    "                         'MACD_SIGNAL': macdsignal,\n",
    "                         'MACD_HIST': macdhist},\n",
    "                        index=close.index)"
   ]
  },
  {
   "cell_type": "code",
   "execution_count": 25,
   "metadata": {},
   "outputs": [],
   "source": [
    "data = (data.join(data\n",
    "                  .groupby(level='ticker')\n",
    "                  .close\n",
    "                  .apply(compute_macd)))"
   ]
  },
  {
   "cell_type": "markdown",
   "metadata": {},
   "source": [
    "#### Relative Strength Index (RSI)"
   ]
  },
  {
   "cell_type": "code",
   "execution_count": 26,
   "metadata": {},
   "outputs": [],
   "source": [
    "by_ticker = data.groupby(level='ticker', group_keys=False)"
   ]
  },
  {
   "cell_type": "code",
   "execution_count": 27,
   "metadata": {},
   "outputs": [],
   "source": [
    "data['RSI'] = (by_ticker\n",
    "               .apply(lambda x: talib.RSI(x.close,\n",
    "                                          timeperiod=14)))"
   ]
  },
  {
   "cell_type": "markdown",
   "metadata": {},
   "source": [
    "#### Balance of Power (BOP) indicator"
   ]
  },
  {
   "cell_type": "code",
   "execution_count": 28,
   "metadata": {},
   "outputs": [],
   "source": [
    "data['BOP'] = (by_ticker\n",
    "               .apply(lambda x: talib.BOP(x.open,\n",
    "                                          x.high,\n",
    "                                          x.low,\n",
    "                                          x.close)))"
   ]
  },
  {
   "cell_type": "markdown",
   "metadata": {},
   "source": [
    "#### Money Flow Index (MFI)"
   ]
  },
  {
   "cell_type": "code",
   "execution_count": 29,
   "metadata": {},
   "outputs": [],
   "source": [
    "data['MFI'] = (by_ticker\n",
    "               .apply(lambda x: talib.MFI(x.high,\n",
    "                                          x.low,\n",
    "                                          x.close,\n",
    "                                          x.volume,\n",
    "                                          timeperiod=14)))"
   ]
  },
  {
   "cell_type": "markdown",
   "metadata": {},
   "source": [
    "#### On Balance Volume (OBV)"
   ]
  },
  {
   "cell_type": "code",
   "execution_count": 30,
   "metadata": {},
   "outputs": [],
   "source": [
    "data['OBV'] = by_ticker.apply(lambda x: talib.OBV(x.close,\n",
    "                                                  x.volume)/x.expanding().volume.mean())"
   ]
  },
  {
   "cell_type": "markdown",
   "metadata": {},
   "source": [
    "#### Chaikin A/D Oscillator (ADOSC)"
   ]
  },
  {
   "cell_type": "code",
   "execution_count": 31,
   "metadata": {},
   "outputs": [],
   "source": [
    "data['ADOSC'] = by_ticker.apply(lambda x: talib.ADOSC(x.high,\n",
    "                                                      x.low,\n",
    "                                                      x.close,\n",
    "                                                      x.volume,\n",
    "                                                      fastperiod=3,\n",
    "                                                      slowperiod=10) / x.rolling(14).volume.mean())"
   ]
  },
  {
   "cell_type": "markdown",
   "metadata": {},
   "source": [
    "#### Normalized Average True Range (NATR)\n",
    "\n",
    "Compute normalized version of ATR using rolling mean of price."
   ]
  },
  {
   "cell_type": "code",
   "execution_count": 32,
   "metadata": {},
   "outputs": [],
   "source": [
    "data['ATR'] = by_ticker.apply(lambda x: talib.ATR(x.high,\n",
    "                                                  x.low,\n",
    "                                                  x.close,\n",
    "                                                  timeperiod=14)/x.rolling(14).close.mean())"
   ]
  },
  {
   "cell_type": "markdown",
   "metadata": {},
   "source": [
    "#### Rolling factor betas using the five Fama-French risk factors"
   ]
  },
  {
   "cell_type": "code",
   "execution_count": 33,
   "metadata": {},
   "outputs": [
    {
     "data": {
      "text/html": [
       "<div>\n",
       "<style scoped>\n",
       "    .dataframe tbody tr th:only-of-type {\n",
       "        vertical-align: middle;\n",
       "    }\n",
       "\n",
       "    .dataframe tbody tr th {\n",
       "        vertical-align: top;\n",
       "    }\n",
       "\n",
       "    .dataframe thead th {\n",
       "        text-align: right;\n",
       "    }\n",
       "</style>\n",
       "<table border=\"1\" class=\"dataframe\">\n",
       "  <thead>\n",
       "    <tr style=\"text-align: right;\">\n",
       "      <th></th>\n",
       "      <th>MARKET</th>\n",
       "      <th>SMB</th>\n",
       "      <th>HML</th>\n",
       "      <th>RMW</th>\n",
       "      <th>CMA</th>\n",
       "      <th>RF</th>\n",
       "    </tr>\n",
       "    <tr>\n",
       "      <th>date</th>\n",
       "      <th></th>\n",
       "      <th></th>\n",
       "      <th></th>\n",
       "      <th></th>\n",
       "      <th></th>\n",
       "      <th></th>\n",
       "    </tr>\n",
       "  </thead>\n",
       "  <tbody>\n",
       "    <tr>\n",
       "      <th>1998-01-02</th>\n",
       "      <td>0.22</td>\n",
       "      <td>-0.12</td>\n",
       "      <td>-0.49</td>\n",
       "      <td>0.20</td>\n",
       "      <td>-0.14</td>\n",
       "      <td>0.021</td>\n",
       "    </tr>\n",
       "    <tr>\n",
       "      <th>1998-01-05</th>\n",
       "      <td>0.22</td>\n",
       "      <td>0.06</td>\n",
       "      <td>-0.29</td>\n",
       "      <td>0.03</td>\n",
       "      <td>-0.01</td>\n",
       "      <td>0.021</td>\n",
       "    </tr>\n",
       "    <tr>\n",
       "      <th>1998-01-06</th>\n",
       "      <td>-1.04</td>\n",
       "      <td>0.24</td>\n",
       "      <td>0.20</td>\n",
       "      <td>-0.38</td>\n",
       "      <td>0.14</td>\n",
       "      <td>0.021</td>\n",
       "    </tr>\n",
       "    <tr>\n",
       "      <th>1998-01-07</th>\n",
       "      <td>-0.38</td>\n",
       "      <td>-0.38</td>\n",
       "      <td>-0.22</td>\n",
       "      <td>-0.12</td>\n",
       "      <td>0.33</td>\n",
       "      <td>0.021</td>\n",
       "    </tr>\n",
       "    <tr>\n",
       "      <th>1998-01-08</th>\n",
       "      <td>-0.82</td>\n",
       "      <td>0.18</td>\n",
       "      <td>-0.09</td>\n",
       "      <td>0.05</td>\n",
       "      <td>0.29</td>\n",
       "      <td>0.021</td>\n",
       "    </tr>\n",
       "  </tbody>\n",
       "</table>\n",
       "</div>"
      ],
      "text/plain": [
       "            MARKET   SMB   HML   RMW   CMA     RF\n",
       "date                                             \n",
       "1998-01-02    0.22 -0.12 -0.49  0.20 -0.14  0.021\n",
       "1998-01-05    0.22  0.06 -0.29  0.03 -0.01  0.021\n",
       "1998-01-06   -1.04  0.24  0.20 -0.38  0.14  0.021\n",
       "1998-01-07   -0.38 -0.38 -0.22 -0.12  0.33  0.021\n",
       "1998-01-08   -0.82  0.18 -0.09  0.05  0.29  0.021"
      ]
     },
     "execution_count": 33,
     "metadata": {},
     "output_type": "execute_result"
    }
   ],
   "source": [
    "factor_data = (pdr.get_data_famafrench('F-F_Research_Data_5_Factors_2x3_daily',\n",
    "                                       start='1-1-1998')[0].rename(columns={'Mkt-RF': 'MARKET'}))\n",
    "factor_data.index.names = ['date']\n",
    "\n",
    "factor_data.head()"
   ]
  },
  {
   "cell_type": "code",
   "execution_count": 34,
   "metadata": {},
   "outputs": [
    {
     "data": {
      "text/plain": [
       "Index(['MARKET', 'SMB', 'HML', 'RMW', 'CMA'], dtype='object')"
      ]
     },
     "execution_count": 34,
     "metadata": {},
     "output_type": "execute_result"
    }
   ],
   "source": [
    "factors = factor_data.columns[:-1]\n",
    "factors"
   ]
  },
  {
   "cell_type": "code",
   "execution_count": 35,
   "metadata": {},
   "outputs": [
    {
     "name": "stdout",
     "output_type": "stream",
     "text": [
      "63\n",
      "252\n"
     ]
    }
   ],
   "source": [
    "ret = 'ret_01'\n",
    "windows = [63, 252]\n",
    "\n",
    "for window in windows:\n",
    "    print(window)\n",
    "    \n",
    "    betas = []\n",
    "    for ticker, df in data.groupby('ticker', group_keys=False):\n",
    "        model_data = df[[ret]].merge(factor_data, on='date').dropna()\n",
    "        model_data[ret] -= model_data.RF\n",
    "\n",
    "        rolling_ols = RollingOLS(endog=model_data[ret], \n",
    "                                 exog=sm.add_constant(model_data[factors]), window=window)\n",
    "        factor_model = rolling_ols.fit(params_only=True).params.rename(columns={'const':'ALPHA'})\n",
    "        result = factor_model.assign(ticker=ticker).set_index('ticker', append=True).swaplevel()\n",
    "        betas.append(result)\n",
    "    \n",
    "    betas = pd.concat(betas).rename(columns=lambda x: f'{x}_{window:02}')\n",
    "    data = data.join(betas)"
   ]
  },
  {
   "cell_type": "markdown",
   "metadata": {},
   "source": [
    "#### Time Period Flags"
   ]
  },
  {
   "cell_type": "code",
   "execution_count": 36,
   "metadata": {},
   "outputs": [
    {
     "data": {
      "text/plain": [
       "DatetimeIndex(['2006-01-03', '2006-01-04', '2006-01-05', '2006-01-06',\n",
       "               '2006-01-09'],\n",
       "              dtype='datetime64[ns]', name='date', freq=None)"
      ]
     },
     "execution_count": 36,
     "metadata": {},
     "output_type": "execute_result"
    }
   ],
   "source": [
    "dates = data.index.get_level_values('date')\n",
    "dates[:5]"
   ]
  },
  {
   "cell_type": "code",
   "execution_count": 37,
   "metadata": {},
   "outputs": [],
   "source": [
    "data['month'] = dates.month.values.astype(np.uint8) - 1\n",
    "data['weekday'] = dates.weekday.values.astype(np.uint8)"
   ]
  },
  {
   "cell_type": "markdown",
   "metadata": {},
   "source": [
    "## Persist the results"
   ]
  },
  {
   "cell_type": "code",
   "execution_count": 38,
   "metadata": {},
   "outputs": [],
   "source": [
    "data = (data\n",
    "        .drop(columns=['open', 'high', 'low', 'close', 'volume'])\n",
    "        .replace((np.inf, -np.inf), np.nan))"
   ]
  },
  {
   "cell_type": "code",
   "execution_count": 39,
   "metadata": {},
   "outputs": [
    {
     "name": "stdout",
     "output_type": "stream",
     "text": [
      "<class 'pandas.core.frame.DataFrame'>\n",
      "MultiIndex: 1365787 entries, ('A', Timestamp('2006-01-03 00:00:00')) to ('ZMH', Timestamp('2015-06-25 00:00:00'))\n",
      "Data columns (total 37 columns):\n",
      " #   Column       Non-Null Count    Dtype  \n",
      "---  ------       --------------    -----  \n",
      " 0   ret_01       1365287 non-null  float64\n",
      " 1   ret_03       1364287 non-null  float64\n",
      " 2   ret_05       1363287 non-null  float64\n",
      " 3   ret_10       1360787 non-null  float64\n",
      " 4   ret_21       1355287 non-null  float64\n",
      " 5   ret_42       1344787 non-null  float64\n",
      " 6   ret_63       1334287 non-null  float64\n",
      " 7   ret_126      1302787 non-null  float64\n",
      " 8   ret_252      1239787 non-null  float64\n",
      " 9   ret_fwd      1365787 non-null  float64\n",
      " 10  BB_UP        1356287 non-null  float64\n",
      " 11  BB_LOW       1356287 non-null  float64\n",
      " 12  BB_SQUEEZE   1356287 non-null  float64\n",
      " 13  ADX          1352287 non-null  float64\n",
      " 14  MACD         1349287 non-null  float64\n",
      " 15  MACD_SIGNAL  1349287 non-null  float64\n",
      " 16  MACD_HIST    1349287 non-null  float64\n",
      " 17  RSI          1358787 non-null  float64\n",
      " 18  BOP          1365787 non-null  float64\n",
      " 19  MFI          1358787 non-null  float64\n",
      " 20  OBV          1365786 non-null  float64\n",
      " 21  ADOSC        1359271 non-null  float64\n",
      " 22  ATR          1358787 non-null  float64\n",
      " 23  ALPHA_63     1334287 non-null  float64\n",
      " 24  MARKET_63    1334287 non-null  float64\n",
      " 25  SMB_63       1334287 non-null  float64\n",
      " 26  HML_63       1334287 non-null  float64\n",
      " 27  RMW_63       1334287 non-null  float64\n",
      " 28  CMA_63       1334287 non-null  float64\n",
      " 29  ALPHA_252    1239787 non-null  float64\n",
      " 30  MARKET_252   1239787 non-null  float64\n",
      " 31  SMB_252      1239787 non-null  float64\n",
      " 32  HML_252      1239787 non-null  float64\n",
      " 33  RMW_252      1239787 non-null  float64\n",
      " 34  CMA_252      1239787 non-null  float64\n",
      " 35  month        1365787 non-null  uint8  \n",
      " 36  weekday      1365787 non-null  uint8  \n",
      "dtypes: float64(35), uint8(2)\n",
      "memory usage: 412.6+ MB\n"
     ]
    }
   ],
   "source": [
    "data.info()"
   ]
  },
  {
   "cell_type": "code",
   "execution_count": 40,
   "metadata": {},
   "outputs": [
    {
     "data": {
      "text/plain": [
       "ret_01            500\n",
       "ret_03           1500\n",
       "ret_05           2500\n",
       "ret_10           5000\n",
       "ret_21          10500\n",
       "ret_42          21000\n",
       "ret_63          31500\n",
       "ret_126         63000\n",
       "ret_252        126000\n",
       "ret_fwd             0\n",
       "BB_UP            9500\n",
       "BB_LOW           9500\n",
       "BB_SQUEEZE       9500\n",
       "ADX             13500\n",
       "MACD            16500\n",
       "MACD_SIGNAL     16500\n",
       "MACD_HIST       16500\n",
       "RSI              7000\n",
       "BOP                 0\n",
       "MFI              7000\n",
       "OBV                 1\n",
       "ADOSC            6516\n",
       "ATR              7000\n",
       "ALPHA_63        31500\n",
       "MARKET_63       31500\n",
       "SMB_63          31500\n",
       "HML_63          31500\n",
       "RMW_63          31500\n",
       "CMA_63          31500\n",
       "ALPHA_252      126000\n",
       "MARKET_252     126000\n",
       "SMB_252        126000\n",
       "HML_252        126000\n",
       "RMW_252        126000\n",
       "CMA_252        126000\n",
       "month               0\n",
       "weekday             0\n",
       "dtype: int64"
      ]
     },
     "execution_count": 40,
     "metadata": {},
     "output_type": "execute_result"
    }
   ],
   "source": [
    "data.isnull().sum()"
   ]
  },
  {
   "cell_type": "code",
   "execution_count": 42,
   "metadata": {},
   "outputs": [],
   "source": [
    "data.to_hdf('us_stocks.h5', key='model_data', mode='a')"
   ]
  }
 ],
 "metadata": {
  "kernelspec": {
   "display_name": "Python [conda env:liveproject]",
   "language": "python",
   "name": "conda-env-liveproject-py"
  },
  "language_info": {
   "codemirror_mode": {
    "name": "ipython",
    "version": 3
   },
   "file_extension": ".py",
   "mimetype": "text/x-python",
   "name": "python",
   "nbconvert_exporter": "python",
   "pygments_lexer": "ipython3",
   "version": "3.7.7"
  }
 },
 "nbformat": 4,
 "nbformat_minor": 4
}
